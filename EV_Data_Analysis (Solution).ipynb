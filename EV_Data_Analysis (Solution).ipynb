{
  "nbformat": 4,
  "nbformat_minor": 0,
  "metadata": {
    "colab": {
      "provenance": [],
      "collapsed_sections": [
        "6sdM935fApkP",
        "yc2SjZHNBfur"
      ]
    },
    "kernelspec": {
      "name": "python3",
      "display_name": "Python 3"
    },
    "language_info": {
      "name": "python"
    }
  },
  "cells": [
    {
      "cell_type": "markdown",
      "source": [
        "# **Title**"
      ],
      "metadata": {
        "id": "8CrEF_tTs3l3"
      }
    },
    {
      "cell_type": "markdown",
      "source": [
        "**Title:** Electric Vehicle (EV) Data Analysis  \n",
        "**Name:** Santosh Kumar  \n",
        "**Date:** June 23, 2025  \n",
        "**Course:** B.Tech – Computer Science & Engineering  \n",
        "**University:** Mangalayatan University, Aligarh (UP)  \n",
        "**Subject:** Data Analysis using Python & its libraries (NumPy, Pandas, Matplotlib)\n"
      ],
      "metadata": {
        "id": "95MK61kd-Mes"
      }
    },
    {
      "cell_type": "markdown",
      "source": [
        "# **Introduction**"
      ],
      "metadata": {
        "id": "6sdM935fApkP"
      }
    },
    {
      "cell_type": "markdown",
      "source": [
        "This dataset provides detailed information on electric vehicle (EV) registrations across the state of Washington, USA. It includes 247,344 entries with features like vehicle make, model, model year, electric range, base MSRP, location, and eligibility for clean energy incentives.\n",
        "\n",
        "* The objective of this analysis is to:\n",
        "\n",
        "* Understand EV adoption trends across counties and years\n",
        "\n",
        "* Identify the most popular EV models and manufacturers\n",
        "\n",
        "* Explore pricing and performance (electric range) patterns\n",
        "\n",
        "* Analyze geographic and policy-driven adoption behavior\n",
        "\n",
        "* Visualize key patterns using Python-based plots\n",
        "\n",
        "This analysis supports decision-making around EV adoption, infrastructure planning, and policy formulation by uncovering data-driven insights."
      ],
      "metadata": {
        "id": "U08_aUiQAyiE"
      }
    },
    {
      "cell_type": "markdown",
      "source": [
        "# ***Importing Libraies ***"
      ],
      "metadata": {
        "id": "JyJv34-Lr5on"
      }
    },
    {
      "cell_type": "code",
      "execution_count": null,
      "metadata": {
        "id": "dsTq2SAWpElj"
      },
      "outputs": [],
      "source": [
        "import pandas as pd\n",
        "import numpy as np\n",
        "import matplotlib.pyplot as plt\n",
        "import seaborn as sns"
      ]
    },
    {
      "cell_type": "markdown",
      "source": [
        "# **Importing Dataset**"
      ],
      "metadata": {
        "id": "zfSPTA5NsgTH"
      }
    },
    {
      "cell_type": "code",
      "source": [
        "data = pd.read_csv('EV_Data_Analysis.csv')"
      ],
      "metadata": {
        "id": "doBzClHippzw"
      },
      "execution_count": null,
      "outputs": []
    },
    {
      "cell_type": "code",
      "source": [
        "print(data)"
      ],
      "metadata": {
        "colab": {
          "base_uri": "https://localhost:8080/"
        },
        "id": "cnxCClOTq2Yp",
        "outputId": "2457c208-2070-4de8-9082-9a0105185e6f"
      },
      "execution_count": null,
      "outputs": [
        {
          "output_type": "stream",
          "name": "stdout",
          "text": [
            "        VIN (1-10)    County               City State  Postal Code  \\\n",
            "0       1N4BZ0CP5G      King            Seattle    WA      98125.0   \n",
            "1       KNDJX3AEXG      King             Renton    WA      98058.0   \n",
            "2       5YJ3E1EB2J      King            Seattle    WA      98115.0   \n",
            "3       1C4RJXN64R    Kitsap          Bremerton    WA      98312.0   \n",
            "4       5YJ3E1EB1J  Thurston            Olympia    WA      98512.0   \n",
            "...            ...       ...                ...   ...          ...   \n",
            "247339  7G2CEHED0R      King          Newcastle    WA      98056.0   \n",
            "247340  1C4RJYC65R    Pierce           Puyallup    WA      98374.0   \n",
            "247341  7SAYGDEE0P      King            Bothell    WA      98011.0   \n",
            "247342  KNDPYDAH9P    Kitsap  Bainbridge Island    WA      98110.0   \n",
            "247343  KNDPZDAH8P   Whatcom         Bellingham    WA      98226.0   \n",
            "\n",
            "        Model Year    Make           Model  \\\n",
            "0             2016  NISSAN            LEAF   \n",
            "1             2016     KIA            SOUL   \n",
            "2             2018   TESLA         MODEL 3   \n",
            "3             2024    JEEP        WRANGLER   \n",
            "4             2018   TESLA         MODEL 3   \n",
            "...            ...     ...             ...   \n",
            "247339        2024   TESLA      CYBERTRUCK   \n",
            "247340        2024    JEEP  GRAND CHEROKEE   \n",
            "247341        2023   TESLA         MODEL Y   \n",
            "247342        2023     KIA        SPORTAGE   \n",
            "247343        2023     KIA        SPORTAGE   \n",
            "\n",
            "                         Electric Vehicle Type  \\\n",
            "0               Battery Electric Vehicle (BEV)   \n",
            "1               Battery Electric Vehicle (BEV)   \n",
            "2               Battery Electric Vehicle (BEV)   \n",
            "3       Plug-in Hybrid Electric Vehicle (PHEV)   \n",
            "4               Battery Electric Vehicle (BEV)   \n",
            "...                                        ...   \n",
            "247339          Battery Electric Vehicle (BEV)   \n",
            "247340  Plug-in Hybrid Electric Vehicle (PHEV)   \n",
            "247341          Battery Electric Vehicle (BEV)   \n",
            "247342  Plug-in Hybrid Electric Vehicle (PHEV)   \n",
            "247343  Plug-in Hybrid Electric Vehicle (PHEV)   \n",
            "\n",
            "        Clean Alternative Fuel Vehicle (CAFV) Eligibility  Electric Range  \\\n",
            "0                 Clean Alternative Fuel Vehicle Eligible            84.0   \n",
            "1                 Clean Alternative Fuel Vehicle Eligible            93.0   \n",
            "2                 Clean Alternative Fuel Vehicle Eligible           215.0   \n",
            "3                   Not eligible due to low battery range            21.0   \n",
            "4                 Clean Alternative Fuel Vehicle Eligible           215.0   \n",
            "...                                                   ...             ...   \n",
            "247339  Eligibility unknown as battery range has not b...             0.0   \n",
            "247340              Not eligible due to low battery range            25.0   \n",
            "247341  Eligibility unknown as battery range has not b...             0.0   \n",
            "247342            Clean Alternative Fuel Vehicle Eligible            34.0   \n",
            "247343            Clean Alternative Fuel Vehicle Eligible            34.0   \n",
            "\n",
            "        Base MSRP  Legislative District  DOL Vehicle ID  \\\n",
            "0             0.0                  46.0       349455557   \n",
            "1         31950.0                  11.0       210641315   \n",
            "2             0.0                  43.0       171417494   \n",
            "3             0.0                  26.0       262542927   \n",
            "4             0.0                  35.0       110432815   \n",
            "...           ...                   ...             ...   \n",
            "247339        0.0                  41.0       278417947   \n",
            "247340        0.0                  25.0       271451197   \n",
            "247341        0.0                   1.0       249563667   \n",
            "247342        0.0                  23.0       238968376   \n",
            "247343        0.0                  42.0       253768637   \n",
            "\n",
            "                   Vehicle Location  \\\n",
            "0       POINT (-122.30253 47.72656)   \n",
            "1        POINT (-122.08747 47.4466)   \n",
            "2       POINT (-122.31676 47.68156)   \n",
            "3       POINT (-122.65223 47.57192)   \n",
            "4        POINT (-122.9131 47.01359)   \n",
            "...                             ...   \n",
            "247339   POINT (-122.1805 47.50006)   \n",
            "247340  POINT (-122.27575 47.13959)   \n",
            "247341  POINT (-122.20563 47.76144)   \n",
            "247342    POINT (-122.521 47.62728)   \n",
            "247343   POINT (-122.49756 48.7999)   \n",
            "\n",
            "                                         Electric Utility  2020 Census Tract  \n",
            "0            CITY OF SEATTLE - (WA)|CITY OF TACOMA - (WA)       5.303300e+10  \n",
            "1           PUGET SOUND ENERGY INC||CITY OF TACOMA - (WA)       5.303303e+10  \n",
            "2            CITY OF SEATTLE - (WA)|CITY OF TACOMA - (WA)       5.303300e+10  \n",
            "3                                  PUGET SOUND ENERGY INC       5.303508e+10  \n",
            "4                                  PUGET SOUND ENERGY INC       5.306701e+10  \n",
            "...                                                   ...                ...  \n",
            "247339      PUGET SOUND ENERGY INC||CITY OF TACOMA - (WA)       5.303303e+10  \n",
            "247340      PUGET SOUND ENERGY INC||CITY OF TACOMA - (WA)       5.305307e+10  \n",
            "247341      PUGET SOUND ENERGY INC||CITY OF TACOMA - (WA)       5.303302e+10  \n",
            "247342                             PUGET SOUND ENERGY INC       5.303509e+10  \n",
            "247343  PUGET SOUND ENERGY INC||PUD NO 1 OF WHATCOM CO...       5.307300e+10  \n",
            "\n",
            "[247344 rows x 17 columns]\n"
          ]
        }
      ]
    },
    {
      "cell_type": "code",
      "source": [
        "df_data = pd.DataFrame(data)\n",
        "print(data.head())"
      ],
      "metadata": {
        "colab": {
          "base_uri": "https://localhost:8080/"
        },
        "id": "kRRieK1arGu8",
        "outputId": "7e1f3a1d-9347-4475-906f-299248870363"
      },
      "execution_count": null,
      "outputs": [
        {
          "output_type": "stream",
          "name": "stdout",
          "text": [
            "   VIN (1-10)    County       City State  Postal Code  Model Year    Make  \\\n",
            "0  1N4BZ0CP5G      King    Seattle    WA      98125.0        2016  NISSAN   \n",
            "1  KNDJX3AEXG      King     Renton    WA      98058.0        2016     KIA   \n",
            "2  5YJ3E1EB2J      King    Seattle    WA      98115.0        2018   TESLA   \n",
            "3  1C4RJXN64R    Kitsap  Bremerton    WA      98312.0        2024    JEEP   \n",
            "4  5YJ3E1EB1J  Thurston    Olympia    WA      98512.0        2018   TESLA   \n",
            "\n",
            "      Model                   Electric Vehicle Type  \\\n",
            "0      LEAF          Battery Electric Vehicle (BEV)   \n",
            "1      SOUL          Battery Electric Vehicle (BEV)   \n",
            "2   MODEL 3          Battery Electric Vehicle (BEV)   \n",
            "3  WRANGLER  Plug-in Hybrid Electric Vehicle (PHEV)   \n",
            "4   MODEL 3          Battery Electric Vehicle (BEV)   \n",
            "\n",
            "  Clean Alternative Fuel Vehicle (CAFV) Eligibility  Electric Range  \\\n",
            "0           Clean Alternative Fuel Vehicle Eligible            84.0   \n",
            "1           Clean Alternative Fuel Vehicle Eligible            93.0   \n",
            "2           Clean Alternative Fuel Vehicle Eligible           215.0   \n",
            "3             Not eligible due to low battery range            21.0   \n",
            "4           Clean Alternative Fuel Vehicle Eligible           215.0   \n",
            "\n",
            "   Base MSRP  Legislative District  DOL Vehicle ID  \\\n",
            "0        0.0                  46.0       349455557   \n",
            "1    31950.0                  11.0       210641315   \n",
            "2        0.0                  43.0       171417494   \n",
            "3        0.0                  26.0       262542927   \n",
            "4        0.0                  35.0       110432815   \n",
            "\n",
            "              Vehicle Location                               Electric Utility  \\\n",
            "0  POINT (-122.30253 47.72656)   CITY OF SEATTLE - (WA)|CITY OF TACOMA - (WA)   \n",
            "1   POINT (-122.08747 47.4466)  PUGET SOUND ENERGY INC||CITY OF TACOMA - (WA)   \n",
            "2  POINT (-122.31676 47.68156)   CITY OF SEATTLE - (WA)|CITY OF TACOMA - (WA)   \n",
            "3  POINT (-122.65223 47.57192)                         PUGET SOUND ENERGY INC   \n",
            "4   POINT (-122.9131 47.01359)                         PUGET SOUND ENERGY INC   \n",
            "\n",
            "   2020 Census Tract  \n",
            "0       5.303300e+10  \n",
            "1       5.303303e+10  \n",
            "2       5.303300e+10  \n",
            "3       5.303508e+10  \n",
            "4       5.306701e+10  \n"
          ]
        }
      ]
    },
    {
      "cell_type": "code",
      "source": [
        "df_data.head()"
      ],
      "metadata": {
        "colab": {
          "base_uri": "https://localhost:8080/",
          "height": 746
        },
        "id": "exahxWxMrYK9",
        "outputId": "88f57664-edcc-4530-b838-9a36909226f1"
      },
      "execution_count": null,
      "outputs": [
        {
          "output_type": "execute_result",
          "data": {
            "text/plain": [
              "   VIN (1-10)    County       City State  Postal Code  Model Year    Make  \\\n",
              "0  1N4BZ0CP5G      King    Seattle    WA      98125.0        2016  NISSAN   \n",
              "1  KNDJX3AEXG      King     Renton    WA      98058.0        2016     KIA   \n",
              "2  5YJ3E1EB2J      King    Seattle    WA      98115.0        2018   TESLA   \n",
              "3  1C4RJXN64R    Kitsap  Bremerton    WA      98312.0        2024    JEEP   \n",
              "4  5YJ3E1EB1J  Thurston    Olympia    WA      98512.0        2018   TESLA   \n",
              "\n",
              "      Model                   Electric Vehicle Type  \\\n",
              "0      LEAF          Battery Electric Vehicle (BEV)   \n",
              "1      SOUL          Battery Electric Vehicle (BEV)   \n",
              "2   MODEL 3          Battery Electric Vehicle (BEV)   \n",
              "3  WRANGLER  Plug-in Hybrid Electric Vehicle (PHEV)   \n",
              "4   MODEL 3          Battery Electric Vehicle (BEV)   \n",
              "\n",
              "  Clean Alternative Fuel Vehicle (CAFV) Eligibility  Electric Range  \\\n",
              "0           Clean Alternative Fuel Vehicle Eligible            84.0   \n",
              "1           Clean Alternative Fuel Vehicle Eligible            93.0   \n",
              "2           Clean Alternative Fuel Vehicle Eligible           215.0   \n",
              "3             Not eligible due to low battery range            21.0   \n",
              "4           Clean Alternative Fuel Vehicle Eligible           215.0   \n",
              "\n",
              "   Base MSRP  Legislative District  DOL Vehicle ID  \\\n",
              "0        0.0                  46.0       349455557   \n",
              "1    31950.0                  11.0       210641315   \n",
              "2        0.0                  43.0       171417494   \n",
              "3        0.0                  26.0       262542927   \n",
              "4        0.0                  35.0       110432815   \n",
              "\n",
              "              Vehicle Location                               Electric Utility  \\\n",
              "0  POINT (-122.30253 47.72656)   CITY OF SEATTLE - (WA)|CITY OF TACOMA - (WA)   \n",
              "1   POINT (-122.08747 47.4466)  PUGET SOUND ENERGY INC||CITY OF TACOMA - (WA)   \n",
              "2  POINT (-122.31676 47.68156)   CITY OF SEATTLE - (WA)|CITY OF TACOMA - (WA)   \n",
              "3  POINT (-122.65223 47.57192)                         PUGET SOUND ENERGY INC   \n",
              "4   POINT (-122.9131 47.01359)                         PUGET SOUND ENERGY INC   \n",
              "\n",
              "   2020 Census Tract  \n",
              "0       5.303300e+10  \n",
              "1       5.303303e+10  \n",
              "2       5.303300e+10  \n",
              "3       5.303508e+10  \n",
              "4       5.306701e+10  "
            ],
            "text/html": [
              "\n",
              "  <div id=\"df-d5dc985d-860f-4337-8fd8-15b59fe66aa7\" class=\"colab-df-container\">\n",
              "    <div>\n",
              "<style scoped>\n",
              "    .dataframe tbody tr th:only-of-type {\n",
              "        vertical-align: middle;\n",
              "    }\n",
              "\n",
              "    .dataframe tbody tr th {\n",
              "        vertical-align: top;\n",
              "    }\n",
              "\n",
              "    .dataframe thead th {\n",
              "        text-align: right;\n",
              "    }\n",
              "</style>\n",
              "<table border=\"1\" class=\"dataframe\">\n",
              "  <thead>\n",
              "    <tr style=\"text-align: right;\">\n",
              "      <th></th>\n",
              "      <th>VIN (1-10)</th>\n",
              "      <th>County</th>\n",
              "      <th>City</th>\n",
              "      <th>State</th>\n",
              "      <th>Postal Code</th>\n",
              "      <th>Model Year</th>\n",
              "      <th>Make</th>\n",
              "      <th>Model</th>\n",
              "      <th>Electric Vehicle Type</th>\n",
              "      <th>Clean Alternative Fuel Vehicle (CAFV) Eligibility</th>\n",
              "      <th>Electric Range</th>\n",
              "      <th>Base MSRP</th>\n",
              "      <th>Legislative District</th>\n",
              "      <th>DOL Vehicle ID</th>\n",
              "      <th>Vehicle Location</th>\n",
              "      <th>Electric Utility</th>\n",
              "      <th>2020 Census Tract</th>\n",
              "    </tr>\n",
              "  </thead>\n",
              "  <tbody>\n",
              "    <tr>\n",
              "      <th>0</th>\n",
              "      <td>1N4BZ0CP5G</td>\n",
              "      <td>King</td>\n",
              "      <td>Seattle</td>\n",
              "      <td>WA</td>\n",
              "      <td>98125.0</td>\n",
              "      <td>2016</td>\n",
              "      <td>NISSAN</td>\n",
              "      <td>LEAF</td>\n",
              "      <td>Battery Electric Vehicle (BEV)</td>\n",
              "      <td>Clean Alternative Fuel Vehicle Eligible</td>\n",
              "      <td>84.0</td>\n",
              "      <td>0.0</td>\n",
              "      <td>46.0</td>\n",
              "      <td>349455557</td>\n",
              "      <td>POINT (-122.30253 47.72656)</td>\n",
              "      <td>CITY OF SEATTLE - (WA)|CITY OF TACOMA - (WA)</td>\n",
              "      <td>5.303300e+10</td>\n",
              "    </tr>\n",
              "    <tr>\n",
              "      <th>1</th>\n",
              "      <td>KNDJX3AEXG</td>\n",
              "      <td>King</td>\n",
              "      <td>Renton</td>\n",
              "      <td>WA</td>\n",
              "      <td>98058.0</td>\n",
              "      <td>2016</td>\n",
              "      <td>KIA</td>\n",
              "      <td>SOUL</td>\n",
              "      <td>Battery Electric Vehicle (BEV)</td>\n",
              "      <td>Clean Alternative Fuel Vehicle Eligible</td>\n",
              "      <td>93.0</td>\n",
              "      <td>31950.0</td>\n",
              "      <td>11.0</td>\n",
              "      <td>210641315</td>\n",
              "      <td>POINT (-122.08747 47.4466)</td>\n",
              "      <td>PUGET SOUND ENERGY INC||CITY OF TACOMA - (WA)</td>\n",
              "      <td>5.303303e+10</td>\n",
              "    </tr>\n",
              "    <tr>\n",
              "      <th>2</th>\n",
              "      <td>5YJ3E1EB2J</td>\n",
              "      <td>King</td>\n",
              "      <td>Seattle</td>\n",
              "      <td>WA</td>\n",
              "      <td>98115.0</td>\n",
              "      <td>2018</td>\n",
              "      <td>TESLA</td>\n",
              "      <td>MODEL 3</td>\n",
              "      <td>Battery Electric Vehicle (BEV)</td>\n",
              "      <td>Clean Alternative Fuel Vehicle Eligible</td>\n",
              "      <td>215.0</td>\n",
              "      <td>0.0</td>\n",
              "      <td>43.0</td>\n",
              "      <td>171417494</td>\n",
              "      <td>POINT (-122.31676 47.68156)</td>\n",
              "      <td>CITY OF SEATTLE - (WA)|CITY OF TACOMA - (WA)</td>\n",
              "      <td>5.303300e+10</td>\n",
              "    </tr>\n",
              "    <tr>\n",
              "      <th>3</th>\n",
              "      <td>1C4RJXN64R</td>\n",
              "      <td>Kitsap</td>\n",
              "      <td>Bremerton</td>\n",
              "      <td>WA</td>\n",
              "      <td>98312.0</td>\n",
              "      <td>2024</td>\n",
              "      <td>JEEP</td>\n",
              "      <td>WRANGLER</td>\n",
              "      <td>Plug-in Hybrid Electric Vehicle (PHEV)</td>\n",
              "      <td>Not eligible due to low battery range</td>\n",
              "      <td>21.0</td>\n",
              "      <td>0.0</td>\n",
              "      <td>26.0</td>\n",
              "      <td>262542927</td>\n",
              "      <td>POINT (-122.65223 47.57192)</td>\n",
              "      <td>PUGET SOUND ENERGY INC</td>\n",
              "      <td>5.303508e+10</td>\n",
              "    </tr>\n",
              "    <tr>\n",
              "      <th>4</th>\n",
              "      <td>5YJ3E1EB1J</td>\n",
              "      <td>Thurston</td>\n",
              "      <td>Olympia</td>\n",
              "      <td>WA</td>\n",
              "      <td>98512.0</td>\n",
              "      <td>2018</td>\n",
              "      <td>TESLA</td>\n",
              "      <td>MODEL 3</td>\n",
              "      <td>Battery Electric Vehicle (BEV)</td>\n",
              "      <td>Clean Alternative Fuel Vehicle Eligible</td>\n",
              "      <td>215.0</td>\n",
              "      <td>0.0</td>\n",
              "      <td>35.0</td>\n",
              "      <td>110432815</td>\n",
              "      <td>POINT (-122.9131 47.01359)</td>\n",
              "      <td>PUGET SOUND ENERGY INC</td>\n",
              "      <td>5.306701e+10</td>\n",
              "    </tr>\n",
              "  </tbody>\n",
              "</table>\n",
              "</div>\n",
              "    <div class=\"colab-df-buttons\">\n",
              "\n",
              "  <div class=\"colab-df-container\">\n",
              "    <button class=\"colab-df-convert\" onclick=\"convertToInteractive('df-d5dc985d-860f-4337-8fd8-15b59fe66aa7')\"\n",
              "            title=\"Convert this dataframe to an interactive table.\"\n",
              "            style=\"display:none;\">\n",
              "\n",
              "  <svg xmlns=\"http://www.w3.org/2000/svg\" height=\"24px\" viewBox=\"0 -960 960 960\">\n",
              "    <path d=\"M120-120v-720h720v720H120Zm60-500h600v-160H180v160Zm220 220h160v-160H400v160Zm0 220h160v-160H400v160ZM180-400h160v-160H180v160Zm440 0h160v-160H620v160ZM180-180h160v-160H180v160Zm440 0h160v-160H620v160Z\"/>\n",
              "  </svg>\n",
              "    </button>\n",
              "\n",
              "  <style>\n",
              "    .colab-df-container {\n",
              "      display:flex;\n",
              "      gap: 12px;\n",
              "    }\n",
              "\n",
              "    .colab-df-convert {\n",
              "      background-color: #E8F0FE;\n",
              "      border: none;\n",
              "      border-radius: 50%;\n",
              "      cursor: pointer;\n",
              "      display: none;\n",
              "      fill: #1967D2;\n",
              "      height: 32px;\n",
              "      padding: 0 0 0 0;\n",
              "      width: 32px;\n",
              "    }\n",
              "\n",
              "    .colab-df-convert:hover {\n",
              "      background-color: #E2EBFA;\n",
              "      box-shadow: 0px 1px 2px rgba(60, 64, 67, 0.3), 0px 1px 3px 1px rgba(60, 64, 67, 0.15);\n",
              "      fill: #174EA6;\n",
              "    }\n",
              "\n",
              "    .colab-df-buttons div {\n",
              "      margin-bottom: 4px;\n",
              "    }\n",
              "\n",
              "    [theme=dark] .colab-df-convert {\n",
              "      background-color: #3B4455;\n",
              "      fill: #D2E3FC;\n",
              "    }\n",
              "\n",
              "    [theme=dark] .colab-df-convert:hover {\n",
              "      background-color: #434B5C;\n",
              "      box-shadow: 0px 1px 3px 1px rgba(0, 0, 0, 0.15);\n",
              "      filter: drop-shadow(0px 1px 2px rgba(0, 0, 0, 0.3));\n",
              "      fill: #FFFFFF;\n",
              "    }\n",
              "  </style>\n",
              "\n",
              "    <script>\n",
              "      const buttonEl =\n",
              "        document.querySelector('#df-d5dc985d-860f-4337-8fd8-15b59fe66aa7 button.colab-df-convert');\n",
              "      buttonEl.style.display =\n",
              "        google.colab.kernel.accessAllowed ? 'block' : 'none';\n",
              "\n",
              "      async function convertToInteractive(key) {\n",
              "        const element = document.querySelector('#df-d5dc985d-860f-4337-8fd8-15b59fe66aa7');\n",
              "        const dataTable =\n",
              "          await google.colab.kernel.invokeFunction('convertToInteractive',\n",
              "                                                    [key], {});\n",
              "        if (!dataTable) return;\n",
              "\n",
              "        const docLinkHtml = 'Like what you see? Visit the ' +\n",
              "          '<a target=\"_blank\" href=https://colab.research.google.com/notebooks/data_table.ipynb>data table notebook</a>'\n",
              "          + ' to learn more about interactive tables.';\n",
              "        element.innerHTML = '';\n",
              "        dataTable['output_type'] = 'display_data';\n",
              "        await google.colab.output.renderOutput(dataTable, element);\n",
              "        const docLink = document.createElement('div');\n",
              "        docLink.innerHTML = docLinkHtml;\n",
              "        element.appendChild(docLink);\n",
              "      }\n",
              "    </script>\n",
              "  </div>\n",
              "\n",
              "\n",
              "    <div id=\"df-3bab80ea-9fcc-489d-95b1-3e87717e9406\">\n",
              "      <button class=\"colab-df-quickchart\" onclick=\"quickchart('df-3bab80ea-9fcc-489d-95b1-3e87717e9406')\"\n",
              "                title=\"Suggest charts\"\n",
              "                style=\"display:none;\">\n",
              "\n",
              "<svg xmlns=\"http://www.w3.org/2000/svg\" height=\"24px\"viewBox=\"0 0 24 24\"\n",
              "     width=\"24px\">\n",
              "    <g>\n",
              "        <path d=\"M19 3H5c-1.1 0-2 .9-2 2v14c0 1.1.9 2 2 2h14c1.1 0 2-.9 2-2V5c0-1.1-.9-2-2-2zM9 17H7v-7h2v7zm4 0h-2V7h2v10zm4 0h-2v-4h2v4z\"/>\n",
              "    </g>\n",
              "</svg>\n",
              "      </button>\n",
              "\n",
              "<style>\n",
              "  .colab-df-quickchart {\n",
              "      --bg-color: #E8F0FE;\n",
              "      --fill-color: #1967D2;\n",
              "      --hover-bg-color: #E2EBFA;\n",
              "      --hover-fill-color: #174EA6;\n",
              "      --disabled-fill-color: #AAA;\n",
              "      --disabled-bg-color: #DDD;\n",
              "  }\n",
              "\n",
              "  [theme=dark] .colab-df-quickchart {\n",
              "      --bg-color: #3B4455;\n",
              "      --fill-color: #D2E3FC;\n",
              "      --hover-bg-color: #434B5C;\n",
              "      --hover-fill-color: #FFFFFF;\n",
              "      --disabled-bg-color: #3B4455;\n",
              "      --disabled-fill-color: #666;\n",
              "  }\n",
              "\n",
              "  .colab-df-quickchart {\n",
              "    background-color: var(--bg-color);\n",
              "    border: none;\n",
              "    border-radius: 50%;\n",
              "    cursor: pointer;\n",
              "    display: none;\n",
              "    fill: var(--fill-color);\n",
              "    height: 32px;\n",
              "    padding: 0;\n",
              "    width: 32px;\n",
              "  }\n",
              "\n",
              "  .colab-df-quickchart:hover {\n",
              "    background-color: var(--hover-bg-color);\n",
              "    box-shadow: 0 1px 2px rgba(60, 64, 67, 0.3), 0 1px 3px 1px rgba(60, 64, 67, 0.15);\n",
              "    fill: var(--button-hover-fill-color);\n",
              "  }\n",
              "\n",
              "  .colab-df-quickchart-complete:disabled,\n",
              "  .colab-df-quickchart-complete:disabled:hover {\n",
              "    background-color: var(--disabled-bg-color);\n",
              "    fill: var(--disabled-fill-color);\n",
              "    box-shadow: none;\n",
              "  }\n",
              "\n",
              "  .colab-df-spinner {\n",
              "    border: 2px solid var(--fill-color);\n",
              "    border-color: transparent;\n",
              "    border-bottom-color: var(--fill-color);\n",
              "    animation:\n",
              "      spin 1s steps(1) infinite;\n",
              "  }\n",
              "\n",
              "  @keyframes spin {\n",
              "    0% {\n",
              "      border-color: transparent;\n",
              "      border-bottom-color: var(--fill-color);\n",
              "      border-left-color: var(--fill-color);\n",
              "    }\n",
              "    20% {\n",
              "      border-color: transparent;\n",
              "      border-left-color: var(--fill-color);\n",
              "      border-top-color: var(--fill-color);\n",
              "    }\n",
              "    30% {\n",
              "      border-color: transparent;\n",
              "      border-left-color: var(--fill-color);\n",
              "      border-top-color: var(--fill-color);\n",
              "      border-right-color: var(--fill-color);\n",
              "    }\n",
              "    40% {\n",
              "      border-color: transparent;\n",
              "      border-right-color: var(--fill-color);\n",
              "      border-top-color: var(--fill-color);\n",
              "    }\n",
              "    60% {\n",
              "      border-color: transparent;\n",
              "      border-right-color: var(--fill-color);\n",
              "    }\n",
              "    80% {\n",
              "      border-color: transparent;\n",
              "      border-right-color: var(--fill-color);\n",
              "      border-bottom-color: var(--fill-color);\n",
              "    }\n",
              "    90% {\n",
              "      border-color: transparent;\n",
              "      border-bottom-color: var(--fill-color);\n",
              "    }\n",
              "  }\n",
              "</style>\n",
              "\n",
              "      <script>\n",
              "        async function quickchart(key) {\n",
              "          const quickchartButtonEl =\n",
              "            document.querySelector('#' + key + ' button');\n",
              "          quickchartButtonEl.disabled = true;  // To prevent multiple clicks.\n",
              "          quickchartButtonEl.classList.add('colab-df-spinner');\n",
              "          try {\n",
              "            const charts = await google.colab.kernel.invokeFunction(\n",
              "                'suggestCharts', [key], {});\n",
              "          } catch (error) {\n",
              "            console.error('Error during call to suggestCharts:', error);\n",
              "          }\n",
              "          quickchartButtonEl.classList.remove('colab-df-spinner');\n",
              "          quickchartButtonEl.classList.add('colab-df-quickchart-complete');\n",
              "        }\n",
              "        (() => {\n",
              "          let quickchartButtonEl =\n",
              "            document.querySelector('#df-3bab80ea-9fcc-489d-95b1-3e87717e9406 button');\n",
              "          quickchartButtonEl.style.display =\n",
              "            google.colab.kernel.accessAllowed ? 'block' : 'none';\n",
              "        })();\n",
              "      </script>\n",
              "    </div>\n",
              "\n",
              "    </div>\n",
              "  </div>\n"
            ],
            "application/vnd.google.colaboratory.intrinsic+json": {
              "type": "dataframe",
              "variable_name": "df_data"
            }
          },
          "metadata": {},
          "execution_count": 5
        }
      ]
    },
    {
      "cell_type": "code",
      "source": [
        "df_data.columns"
      ],
      "metadata": {
        "colab": {
          "base_uri": "https://localhost:8080/"
        },
        "id": "3SwjyUzVrrrA",
        "outputId": "fb419da1-3cce-4a91-d1e7-b7a3db314177"
      },
      "execution_count": null,
      "outputs": [
        {
          "output_type": "execute_result",
          "data": {
            "text/plain": [
              "Index(['VIN (1-10)', 'County', 'City', 'State', 'Postal Code', 'Model Year',\n",
              "       'Make', 'Model', 'Electric Vehicle Type',\n",
              "       'Clean Alternative Fuel Vehicle (CAFV) Eligibility', 'Electric Range',\n",
              "       'Base MSRP', 'Legislative District', 'DOL Vehicle ID',\n",
              "       'Vehicle Location', 'Electric Utility', '2020 Census Tract'],\n",
              "      dtype='object')"
            ]
          },
          "metadata": {},
          "execution_count": 6
        }
      ]
    },
    {
      "cell_type": "markdown",
      "source": [
        "# **Section 1 ▶ Data Cleaning**"
      ],
      "metadata": {
        "id": "7O29p9g7uLg4"
      }
    },
    {
      "cell_type": "markdown",
      "source": [
        "**How many missing values exist in the dataset, and in which columns?**"
      ],
      "metadata": {
        "id": "FNRSOvwAAH1J"
      }
    },
    {
      "cell_type": "code",
      "source": [
        "# Total missing values per column\n",
        "\n",
        "missing_values = df_data.isnull().sum()\n",
        "print(\"Missing values in each column:\\n\", missing_values)\n"
      ],
      "metadata": {
        "colab": {
          "base_uri": "https://localhost:8080/"
        },
        "id": "YC8DrRW6ttjO",
        "outputId": "08142b94-5219-490f-c434-3609e8c9403f"
      },
      "execution_count": null,
      "outputs": [
        {
          "output_type": "stream",
          "name": "stdout",
          "text": [
            "Missing values in each column:\n",
            " VIN (1-10)                                             0\n",
            "County                                                 4\n",
            "City                                                   4\n",
            "State                                                  0\n",
            "Postal Code                                            4\n",
            "Model Year                                             0\n",
            "Make                                                   0\n",
            "Model                                                  0\n",
            "Electric Vehicle Type                                  0\n",
            "Clean Alternative Fuel Vehicle (CAFV) Eligibility      0\n",
            "Electric Range                                        20\n",
            "Base MSRP                                             20\n",
            "Legislative District                                 553\n",
            "DOL Vehicle ID                                         0\n",
            "Vehicle Location                                      11\n",
            "Electric Utility                                       4\n",
            "2020 Census Tract                                      4\n",
            "dtype: int64\n"
          ]
        }
      ]
    },
    {
      "cell_type": "markdown",
      "source": [
        "**How should missing or zero values in the Base MSRP and Electric Range columns be handled?**"
      ],
      "metadata": {
        "id": "gie80urFAdcI"
      }
    },
    {
      "cell_type": "code",
      "source": [
        "# Count zero values\n",
        "\n",
        "zero_msrp = (df_data['Base MSRP'] == 0).sum()\n",
        "zero_range = (df_data['Electric Range'] == 0).sum()\n",
        "\n",
        "# Replace 0s with NaN for better imputation later\n",
        "\n",
        "df_data['Base MSRP'].replace(0, pd.NA, inplace=True)\n",
        "df_data['Electric Range'].replace(0, pd.NA, inplace=True)\n",
        "\n",
        "zero_msrp, zero_range"
      ],
      "metadata": {
        "id": "CwNWPAqR7dTM",
        "colab": {
          "base_uri": "https://localhost:8080/"
        },
        "collapsed": true,
        "outputId": "2d45b052-a9aa-4c72-fed6-9a88528c2ad8"
      },
      "execution_count": null,
      "outputs": [
        {
          "output_type": "stream",
          "name": "stderr",
          "text": [
            "/tmp/ipython-input-8-3517661621.py:8: FutureWarning: A value is trying to be set on a copy of a DataFrame or Series through chained assignment using an inplace method.\n",
            "The behavior will change in pandas 3.0. This inplace method will never work because the intermediate object on which we are setting values always behaves as a copy.\n",
            "\n",
            "For example, when doing 'df[col].method(value, inplace=True)', try using 'df.method({col: value}, inplace=True)' or df[col] = df[col].method(value) instead, to perform the operation inplace on the original object.\n",
            "\n",
            "\n",
            "  df_data['Base MSRP'].replace(0, pd.NA, inplace=True)\n",
            "/tmp/ipython-input-8-3517661621.py:9: FutureWarning: A value is trying to be set on a copy of a DataFrame or Series through chained assignment using an inplace method.\n",
            "The behavior will change in pandas 3.0. This inplace method will never work because the intermediate object on which we are setting values always behaves as a copy.\n",
            "\n",
            "For example, when doing 'df[col].method(value, inplace=True)', try using 'df.method({col: value}, inplace=True)' or df[col] = df[col].method(value) instead, to perform the operation inplace on the original object.\n",
            "\n",
            "\n",
            "  df_data['Electric Range'].replace(0, pd.NA, inplace=True)\n"
          ]
        },
        {
          "output_type": "execute_result",
          "data": {
            "text/plain": [
              "(np.int64(244108), np.int64(149634))"
            ]
          },
          "metadata": {},
          "execution_count": 8
        }
      ]
    },
    {
      "cell_type": "code",
      "source": [
        "print(df_data)"
      ],
      "metadata": {
        "colab": {
          "base_uri": "https://localhost:8080/"
        },
        "id": "4vKzGP6nmcvG",
        "outputId": "983b9c94-e6ee-4040-fea1-0ada1b8050f8"
      },
      "execution_count": null,
      "outputs": [
        {
          "output_type": "stream",
          "name": "stdout",
          "text": [
            "        VIN (1-10)    County               City State  Postal Code  \\\n",
            "0       1N4BZ0CP5G      King            Seattle    WA      98125.0   \n",
            "1       KNDJX3AEXG      King             Renton    WA      98058.0   \n",
            "2       5YJ3E1EB2J      King            Seattle    WA      98115.0   \n",
            "3       1C4RJXN64R    Kitsap          Bremerton    WA      98312.0   \n",
            "4       5YJ3E1EB1J  Thurston            Olympia    WA      98512.0   \n",
            "...            ...       ...                ...   ...          ...   \n",
            "247339  7G2CEHED0R      King          Newcastle    WA      98056.0   \n",
            "247340  1C4RJYC65R    Pierce           Puyallup    WA      98374.0   \n",
            "247341  7SAYGDEE0P      King            Bothell    WA      98011.0   \n",
            "247342  KNDPYDAH9P    Kitsap  Bainbridge Island    WA      98110.0   \n",
            "247343  KNDPZDAH8P   Whatcom         Bellingham    WA      98226.0   \n",
            "\n",
            "        Model Year    Make           Model  \\\n",
            "0             2016  NISSAN            LEAF   \n",
            "1             2016     KIA            SOUL   \n",
            "2             2018   TESLA         MODEL 3   \n",
            "3             2024    JEEP        WRANGLER   \n",
            "4             2018   TESLA         MODEL 3   \n",
            "...            ...     ...             ...   \n",
            "247339        2024   TESLA      CYBERTRUCK   \n",
            "247340        2024    JEEP  GRAND CHEROKEE   \n",
            "247341        2023   TESLA         MODEL Y   \n",
            "247342        2023     KIA        SPORTAGE   \n",
            "247343        2023     KIA        SPORTAGE   \n",
            "\n",
            "                         Electric Vehicle Type  \\\n",
            "0               Battery Electric Vehicle (BEV)   \n",
            "1               Battery Electric Vehicle (BEV)   \n",
            "2               Battery Electric Vehicle (BEV)   \n",
            "3       Plug-in Hybrid Electric Vehicle (PHEV)   \n",
            "4               Battery Electric Vehicle (BEV)   \n",
            "...                                        ...   \n",
            "247339          Battery Electric Vehicle (BEV)   \n",
            "247340  Plug-in Hybrid Electric Vehicle (PHEV)   \n",
            "247341          Battery Electric Vehicle (BEV)   \n",
            "247342  Plug-in Hybrid Electric Vehicle (PHEV)   \n",
            "247343  Plug-in Hybrid Electric Vehicle (PHEV)   \n",
            "\n",
            "        Clean Alternative Fuel Vehicle (CAFV) Eligibility Electric Range  \\\n",
            "0                 Clean Alternative Fuel Vehicle Eligible           84.0   \n",
            "1                 Clean Alternative Fuel Vehicle Eligible           93.0   \n",
            "2                 Clean Alternative Fuel Vehicle Eligible          215.0   \n",
            "3                   Not eligible due to low battery range           21.0   \n",
            "4                 Clean Alternative Fuel Vehicle Eligible          215.0   \n",
            "...                                                   ...            ...   \n",
            "247339  Eligibility unknown as battery range has not b...           <NA>   \n",
            "247340              Not eligible due to low battery range           25.0   \n",
            "247341  Eligibility unknown as battery range has not b...           <NA>   \n",
            "247342            Clean Alternative Fuel Vehicle Eligible           34.0   \n",
            "247343            Clean Alternative Fuel Vehicle Eligible           34.0   \n",
            "\n",
            "       Base MSRP  Legislative District  DOL Vehicle ID  \\\n",
            "0           <NA>                  46.0       349455557   \n",
            "1        31950.0                  11.0       210641315   \n",
            "2           <NA>                  43.0       171417494   \n",
            "3           <NA>                  26.0       262542927   \n",
            "4           <NA>                  35.0       110432815   \n",
            "...          ...                   ...             ...   \n",
            "247339      <NA>                  41.0       278417947   \n",
            "247340      <NA>                  25.0       271451197   \n",
            "247341      <NA>                   1.0       249563667   \n",
            "247342      <NA>                  23.0       238968376   \n",
            "247343      <NA>                  42.0       253768637   \n",
            "\n",
            "                   Vehicle Location  \\\n",
            "0       POINT (-122.30253 47.72656)   \n",
            "1        POINT (-122.08747 47.4466)   \n",
            "2       POINT (-122.31676 47.68156)   \n",
            "3       POINT (-122.65223 47.57192)   \n",
            "4        POINT (-122.9131 47.01359)   \n",
            "...                             ...   \n",
            "247339   POINT (-122.1805 47.50006)   \n",
            "247340  POINT (-122.27575 47.13959)   \n",
            "247341  POINT (-122.20563 47.76144)   \n",
            "247342    POINT (-122.521 47.62728)   \n",
            "247343   POINT (-122.49756 48.7999)   \n",
            "\n",
            "                                         Electric Utility  2020 Census Tract  \n",
            "0            CITY OF SEATTLE - (WA)|CITY OF TACOMA - (WA)       5.303300e+10  \n",
            "1           PUGET SOUND ENERGY INC||CITY OF TACOMA - (WA)       5.303303e+10  \n",
            "2            CITY OF SEATTLE - (WA)|CITY OF TACOMA - (WA)       5.303300e+10  \n",
            "3                                  PUGET SOUND ENERGY INC       5.303508e+10  \n",
            "4                                  PUGET SOUND ENERGY INC       5.306701e+10  \n",
            "...                                                   ...                ...  \n",
            "247339      PUGET SOUND ENERGY INC||CITY OF TACOMA - (WA)       5.303303e+10  \n",
            "247340      PUGET SOUND ENERGY INC||CITY OF TACOMA - (WA)       5.305307e+10  \n",
            "247341      PUGET SOUND ENERGY INC||CITY OF TACOMA - (WA)       5.303302e+10  \n",
            "247342                             PUGET SOUND ENERGY INC       5.303509e+10  \n",
            "247343  PUGET SOUND ENERGY INC||PUD NO 1 OF WHATCOM CO...       5.307300e+10  \n",
            "\n",
            "[247344 rows x 17 columns]\n"
          ]
        }
      ]
    },
    {
      "cell_type": "markdown",
      "source": [
        "**Are there duplicate records in the dataset? If so, how should they be managed?**"
      ],
      "metadata": {
        "id": "ismj8pAcAuCZ"
      }
    },
    {
      "cell_type": "code",
      "source": [
        "# Check for duplicates\n",
        "\n",
        "duplicates = df_data.duplicated().sum()\n",
        "print(\"Duplicate records found:\", duplicates)\n",
        "\n",
        "# Manage Duplicates\n",
        "\n",
        "# Remove duplicates (if any duplicate exist,But Here in this dataset there is no any Duplicates available )\n",
        "\n",
        "df = df_data.drop_duplicates()\n",
        "\n"
      ],
      "metadata": {
        "colab": {
          "base_uri": "https://localhost:8080/"
        },
        "id": "LOHcT7UNBsvE",
        "outputId": "14a3ba70-2a72-4901-c580-a11f296a768f"
      },
      "execution_count": null,
      "outputs": [
        {
          "output_type": "stream",
          "name": "stdout",
          "text": [
            "Duplicate records found: 0\n"
          ]
        }
      ]
    },
    {
      "cell_type": "markdown",
      "source": [
        "**How can VINs be anonymized while maintaining uniqueness?**"
      ],
      "metadata": {
        "id": "S5pI-MdaA3lt"
      }
    },
    {
      "cell_type": "code",
      "source": [
        "# Anonymize VIN (hashing to maintain uniqueness)\n",
        "\n",
        "import hashlib\n",
        "\n",
        "def anonymize_vin(vin):\n",
        "    return hashlib.sha256(vin.encode()).hexdigest()[:10]\n",
        "\n",
        "df_data['Anonymized VIN'] = df_data['VIN (1-10)'].apply(anonymize_vin)\n",
        "\n",
        "print(df_data[['VIN (1-10)', 'Anonymized VIN']].head())\n"
      ],
      "metadata": {
        "id": "jPiPwOWTDFHu",
        "colab": {
          "base_uri": "https://localhost:8080/"
        },
        "outputId": "27275773-dd65-47a7-e826-9564dfdbb708"
      },
      "execution_count": null,
      "outputs": [
        {
          "output_type": "stream",
          "name": "stdout",
          "text": [
            "   VIN (1-10) Anonymized VIN\n",
            "0  1N4BZ0CP5G     ba814b799f\n",
            "1  KNDJX3AEXG     ba258d18a3\n",
            "2  5YJ3E1EB2J     2e9a11a907\n",
            "3  1C4RJXN64R     15768eb7a9\n",
            "4  5YJ3E1EB1J     2984ac80c2\n"
          ]
        }
      ]
    },
    {
      "cell_type": "markdown",
      "source": [
        "**How can Vehicle Location (GPS coordinates) be cleaned or converted for better readability?**"
      ],
      "metadata": {
        "id": "aHCu1DGkA_tF"
      }
    },
    {
      "cell_type": "code",
      "source": [
        "# Extract Latitude and Longitude from the 'Vehicle Location' column\n",
        "\n",
        "df_data[['Longitude', 'Latitude']] = df_data['Vehicle Location'].str.extract(r'\\(([-\\d.]+) ([-\\d.]+)\\)').astype(float)\n",
        "\n",
        "# View cleaned coordinates\n",
        "\n",
        "df_data[['Vehicle Location', 'Latitude', 'Longitude']].head()"
      ],
      "metadata": {
        "colab": {
          "base_uri": "https://localhost:8080/",
          "height": 206
        },
        "id": "9rE9q6kiEbMQ",
        "outputId": "f65afb1c-f495-4ef9-b962-a9f8c38394d8"
      },
      "execution_count": null,
      "outputs": [
        {
          "output_type": "execute_result",
          "data": {
            "text/plain": [
              "              Vehicle Location  Latitude  Longitude\n",
              "0  POINT (-122.30253 47.72656)  47.72656 -122.30253\n",
              "1   POINT (-122.08747 47.4466)  47.44660 -122.08747\n",
              "2  POINT (-122.31676 47.68156)  47.68156 -122.31676\n",
              "3  POINT (-122.65223 47.57192)  47.57192 -122.65223\n",
              "4   POINT (-122.9131 47.01359)  47.01359 -122.91310"
            ],
            "text/html": [
              "\n",
              "  <div id=\"df-5a311a2d-fbcb-4468-abb4-8d98711666e7\" class=\"colab-df-container\">\n",
              "    <div>\n",
              "<style scoped>\n",
              "    .dataframe tbody tr th:only-of-type {\n",
              "        vertical-align: middle;\n",
              "    }\n",
              "\n",
              "    .dataframe tbody tr th {\n",
              "        vertical-align: top;\n",
              "    }\n",
              "\n",
              "    .dataframe thead th {\n",
              "        text-align: right;\n",
              "    }\n",
              "</style>\n",
              "<table border=\"1\" class=\"dataframe\">\n",
              "  <thead>\n",
              "    <tr style=\"text-align: right;\">\n",
              "      <th></th>\n",
              "      <th>Vehicle Location</th>\n",
              "      <th>Latitude</th>\n",
              "      <th>Longitude</th>\n",
              "    </tr>\n",
              "  </thead>\n",
              "  <tbody>\n",
              "    <tr>\n",
              "      <th>0</th>\n",
              "      <td>POINT (-122.30253 47.72656)</td>\n",
              "      <td>47.72656</td>\n",
              "      <td>-122.30253</td>\n",
              "    </tr>\n",
              "    <tr>\n",
              "      <th>1</th>\n",
              "      <td>POINT (-122.08747 47.4466)</td>\n",
              "      <td>47.44660</td>\n",
              "      <td>-122.08747</td>\n",
              "    </tr>\n",
              "    <tr>\n",
              "      <th>2</th>\n",
              "      <td>POINT (-122.31676 47.68156)</td>\n",
              "      <td>47.68156</td>\n",
              "      <td>-122.31676</td>\n",
              "    </tr>\n",
              "    <tr>\n",
              "      <th>3</th>\n",
              "      <td>POINT (-122.65223 47.57192)</td>\n",
              "      <td>47.57192</td>\n",
              "      <td>-122.65223</td>\n",
              "    </tr>\n",
              "    <tr>\n",
              "      <th>4</th>\n",
              "      <td>POINT (-122.9131 47.01359)</td>\n",
              "      <td>47.01359</td>\n",
              "      <td>-122.91310</td>\n",
              "    </tr>\n",
              "  </tbody>\n",
              "</table>\n",
              "</div>\n",
              "    <div class=\"colab-df-buttons\">\n",
              "\n",
              "  <div class=\"colab-df-container\">\n",
              "    <button class=\"colab-df-convert\" onclick=\"convertToInteractive('df-5a311a2d-fbcb-4468-abb4-8d98711666e7')\"\n",
              "            title=\"Convert this dataframe to an interactive table.\"\n",
              "            style=\"display:none;\">\n",
              "\n",
              "  <svg xmlns=\"http://www.w3.org/2000/svg\" height=\"24px\" viewBox=\"0 -960 960 960\">\n",
              "    <path d=\"M120-120v-720h720v720H120Zm60-500h600v-160H180v160Zm220 220h160v-160H400v160Zm0 220h160v-160H400v160ZM180-400h160v-160H180v160Zm440 0h160v-160H620v160ZM180-180h160v-160H180v160Zm440 0h160v-160H620v160Z\"/>\n",
              "  </svg>\n",
              "    </button>\n",
              "\n",
              "  <style>\n",
              "    .colab-df-container {\n",
              "      display:flex;\n",
              "      gap: 12px;\n",
              "    }\n",
              "\n",
              "    .colab-df-convert {\n",
              "      background-color: #E8F0FE;\n",
              "      border: none;\n",
              "      border-radius: 50%;\n",
              "      cursor: pointer;\n",
              "      display: none;\n",
              "      fill: #1967D2;\n",
              "      height: 32px;\n",
              "      padding: 0 0 0 0;\n",
              "      width: 32px;\n",
              "    }\n",
              "\n",
              "    .colab-df-convert:hover {\n",
              "      background-color: #E2EBFA;\n",
              "      box-shadow: 0px 1px 2px rgba(60, 64, 67, 0.3), 0px 1px 3px 1px rgba(60, 64, 67, 0.15);\n",
              "      fill: #174EA6;\n",
              "    }\n",
              "\n",
              "    .colab-df-buttons div {\n",
              "      margin-bottom: 4px;\n",
              "    }\n",
              "\n",
              "    [theme=dark] .colab-df-convert {\n",
              "      background-color: #3B4455;\n",
              "      fill: #D2E3FC;\n",
              "    }\n",
              "\n",
              "    [theme=dark] .colab-df-convert:hover {\n",
              "      background-color: #434B5C;\n",
              "      box-shadow: 0px 1px 3px 1px rgba(0, 0, 0, 0.15);\n",
              "      filter: drop-shadow(0px 1px 2px rgba(0, 0, 0, 0.3));\n",
              "      fill: #FFFFFF;\n",
              "    }\n",
              "  </style>\n",
              "\n",
              "    <script>\n",
              "      const buttonEl =\n",
              "        document.querySelector('#df-5a311a2d-fbcb-4468-abb4-8d98711666e7 button.colab-df-convert');\n",
              "      buttonEl.style.display =\n",
              "        google.colab.kernel.accessAllowed ? 'block' : 'none';\n",
              "\n",
              "      async function convertToInteractive(key) {\n",
              "        const element = document.querySelector('#df-5a311a2d-fbcb-4468-abb4-8d98711666e7');\n",
              "        const dataTable =\n",
              "          await google.colab.kernel.invokeFunction('convertToInteractive',\n",
              "                                                    [key], {});\n",
              "        if (!dataTable) return;\n",
              "\n",
              "        const docLinkHtml = 'Like what you see? Visit the ' +\n",
              "          '<a target=\"_blank\" href=https://colab.research.google.com/notebooks/data_table.ipynb>data table notebook</a>'\n",
              "          + ' to learn more about interactive tables.';\n",
              "        element.innerHTML = '';\n",
              "        dataTable['output_type'] = 'display_data';\n",
              "        await google.colab.output.renderOutput(dataTable, element);\n",
              "        const docLink = document.createElement('div');\n",
              "        docLink.innerHTML = docLinkHtml;\n",
              "        element.appendChild(docLink);\n",
              "      }\n",
              "    </script>\n",
              "  </div>\n",
              "\n",
              "\n",
              "    <div id=\"df-2ee20841-852b-49c2-9d3e-48d509bb3dff\">\n",
              "      <button class=\"colab-df-quickchart\" onclick=\"quickchart('df-2ee20841-852b-49c2-9d3e-48d509bb3dff')\"\n",
              "                title=\"Suggest charts\"\n",
              "                style=\"display:none;\">\n",
              "\n",
              "<svg xmlns=\"http://www.w3.org/2000/svg\" height=\"24px\"viewBox=\"0 0 24 24\"\n",
              "     width=\"24px\">\n",
              "    <g>\n",
              "        <path d=\"M19 3H5c-1.1 0-2 .9-2 2v14c0 1.1.9 2 2 2h14c1.1 0 2-.9 2-2V5c0-1.1-.9-2-2-2zM9 17H7v-7h2v7zm4 0h-2V7h2v10zm4 0h-2v-4h2v4z\"/>\n",
              "    </g>\n",
              "</svg>\n",
              "      </button>\n",
              "\n",
              "<style>\n",
              "  .colab-df-quickchart {\n",
              "      --bg-color: #E8F0FE;\n",
              "      --fill-color: #1967D2;\n",
              "      --hover-bg-color: #E2EBFA;\n",
              "      --hover-fill-color: #174EA6;\n",
              "      --disabled-fill-color: #AAA;\n",
              "      --disabled-bg-color: #DDD;\n",
              "  }\n",
              "\n",
              "  [theme=dark] .colab-df-quickchart {\n",
              "      --bg-color: #3B4455;\n",
              "      --fill-color: #D2E3FC;\n",
              "      --hover-bg-color: #434B5C;\n",
              "      --hover-fill-color: #FFFFFF;\n",
              "      --disabled-bg-color: #3B4455;\n",
              "      --disabled-fill-color: #666;\n",
              "  }\n",
              "\n",
              "  .colab-df-quickchart {\n",
              "    background-color: var(--bg-color);\n",
              "    border: none;\n",
              "    border-radius: 50%;\n",
              "    cursor: pointer;\n",
              "    display: none;\n",
              "    fill: var(--fill-color);\n",
              "    height: 32px;\n",
              "    padding: 0;\n",
              "    width: 32px;\n",
              "  }\n",
              "\n",
              "  .colab-df-quickchart:hover {\n",
              "    background-color: var(--hover-bg-color);\n",
              "    box-shadow: 0 1px 2px rgba(60, 64, 67, 0.3), 0 1px 3px 1px rgba(60, 64, 67, 0.15);\n",
              "    fill: var(--button-hover-fill-color);\n",
              "  }\n",
              "\n",
              "  .colab-df-quickchart-complete:disabled,\n",
              "  .colab-df-quickchart-complete:disabled:hover {\n",
              "    background-color: var(--disabled-bg-color);\n",
              "    fill: var(--disabled-fill-color);\n",
              "    box-shadow: none;\n",
              "  }\n",
              "\n",
              "  .colab-df-spinner {\n",
              "    border: 2px solid var(--fill-color);\n",
              "    border-color: transparent;\n",
              "    border-bottom-color: var(--fill-color);\n",
              "    animation:\n",
              "      spin 1s steps(1) infinite;\n",
              "  }\n",
              "\n",
              "  @keyframes spin {\n",
              "    0% {\n",
              "      border-color: transparent;\n",
              "      border-bottom-color: var(--fill-color);\n",
              "      border-left-color: var(--fill-color);\n",
              "    }\n",
              "    20% {\n",
              "      border-color: transparent;\n",
              "      border-left-color: var(--fill-color);\n",
              "      border-top-color: var(--fill-color);\n",
              "    }\n",
              "    30% {\n",
              "      border-color: transparent;\n",
              "      border-left-color: var(--fill-color);\n",
              "      border-top-color: var(--fill-color);\n",
              "      border-right-color: var(--fill-color);\n",
              "    }\n",
              "    40% {\n",
              "      border-color: transparent;\n",
              "      border-right-color: var(--fill-color);\n",
              "      border-top-color: var(--fill-color);\n",
              "    }\n",
              "    60% {\n",
              "      border-color: transparent;\n",
              "      border-right-color: var(--fill-color);\n",
              "    }\n",
              "    80% {\n",
              "      border-color: transparent;\n",
              "      border-right-color: var(--fill-color);\n",
              "      border-bottom-color: var(--fill-color);\n",
              "    }\n",
              "    90% {\n",
              "      border-color: transparent;\n",
              "      border-bottom-color: var(--fill-color);\n",
              "    }\n",
              "  }\n",
              "</style>\n",
              "\n",
              "      <script>\n",
              "        async function quickchart(key) {\n",
              "          const quickchartButtonEl =\n",
              "            document.querySelector('#' + key + ' button');\n",
              "          quickchartButtonEl.disabled = true;  // To prevent multiple clicks.\n",
              "          quickchartButtonEl.classList.add('colab-df-spinner');\n",
              "          try {\n",
              "            const charts = await google.colab.kernel.invokeFunction(\n",
              "                'suggestCharts', [key], {});\n",
              "          } catch (error) {\n",
              "            console.error('Error during call to suggestCharts:', error);\n",
              "          }\n",
              "          quickchartButtonEl.classList.remove('colab-df-spinner');\n",
              "          quickchartButtonEl.classList.add('colab-df-quickchart-complete');\n",
              "        }\n",
              "        (() => {\n",
              "          let quickchartButtonEl =\n",
              "            document.querySelector('#df-2ee20841-852b-49c2-9d3e-48d509bb3dff button');\n",
              "          quickchartButtonEl.style.display =\n",
              "            google.colab.kernel.accessAllowed ? 'block' : 'none';\n",
              "        })();\n",
              "      </script>\n",
              "    </div>\n",
              "\n",
              "    </div>\n",
              "  </div>\n"
            ],
            "application/vnd.google.colaboratory.intrinsic+json": {
              "type": "dataframe",
              "summary": "{\n  \"name\": \"df_data[['Vehicle Location', 'Latitude', 'Longitude']]\",\n  \"rows\": 5,\n  \"fields\": [\n    {\n      \"column\": \"Vehicle Location\",\n      \"properties\": {\n        \"dtype\": \"string\",\n        \"num_unique_values\": 5,\n        \"samples\": [\n          \"POINT (-122.08747 47.4466)\",\n          \"POINT (-122.9131 47.01359)\",\n          \"POINT (-122.31676 47.68156)\"\n        ],\n        \"semantic_type\": \"\",\n        \"description\": \"\"\n      }\n    },\n    {\n      \"column\": \"Latitude\",\n      \"properties\": {\n        \"dtype\": \"number\",\n        \"std\": 0.2864427129113246,\n        \"min\": 47.01359,\n        \"max\": 47.72656,\n        \"num_unique_values\": 5,\n        \"samples\": [\n          47.4466,\n          47.01359,\n          47.68156\n        ],\n        \"semantic_type\": \"\",\n        \"description\": \"\"\n      }\n    },\n    {\n      \"column\": \"Longitude\",\n      \"properties\": {\n        \"dtype\": \"number\",\n        \"std\": 0.3264158730362243,\n        \"min\": -122.9131,\n        \"max\": -122.08747,\n        \"num_unique_values\": 5,\n        \"samples\": [\n          -122.08747,\n          -122.9131,\n          -122.31676\n        ],\n        \"semantic_type\": \"\",\n        \"description\": \"\"\n      }\n    }\n  ]\n}"
            }
          },
          "metadata": {},
          "execution_count": 42
        }
      ]
    },
    {
      "cell_type": "markdown",
      "source": [
        "# **Section 2 ▶ Data Exploration**"
      ],
      "metadata": {
        "id": "L4-6mMnSrI3v"
      }
    },
    {
      "cell_type": "markdown",
      "source": [
        "**What are the top 5 most common EV makes and models in the dataset?**"
      ],
      "metadata": {
        "id": "gw3WG7AmtcnL"
      }
    },
    {
      "cell_type": "code",
      "source": [
        "top_5_make_model = df_data.groupby(['Make', 'Model']).size().reset_index(name='Count').sort_values(by='Count', ascending=False).head(5)\n",
        "print(top_5_make_model)\n"
      ],
      "metadata": {
        "colab": {
          "base_uri": "https://localhost:8080/"
        },
        "id": "TvoE5Ei-uOSl",
        "outputId": "e7fa12a7-b70b-4cc2-af67-23e6c5454351"
      },
      "execution_count": null,
      "outputs": [
        {
          "output_type": "stream",
          "name": "stdout",
          "text": [
            "          Make    Model  Count\n",
            "153      TESLA  MODEL Y  51528\n",
            "150      TESLA  MODEL 3  37427\n",
            "131     NISSAN     LEAF  13950\n",
            "151      TESLA  MODEL S   7912\n",
            "46   CHEVROLET  BOLT EV   7463\n"
          ]
        }
      ]
    },
    {
      "cell_type": "markdown",
      "source": [
        "**What is the distribution of EVs by county? Which county has the most registrations?**"
      ],
      "metadata": {
        "id": "_W2lW1n7uPEA"
      }
    },
    {
      "cell_type": "code",
      "source": [
        "ev_count_by_county = df_data['County'].value_counts()\n",
        "print(\"Top County:\", ev_count_by_county.idxmax())\n",
        "print(\"Total EVs Registered:\", ev_count_by_county.max())\n",
        "\n",
        "print(ev_count_by_county.head(10))  # Top 10 counties"
      ],
      "metadata": {
        "colab": {
          "base_uri": "https://localhost:8080/"
        },
        "id": "YNnqXY6suWJH",
        "outputId": "468c32ad-f47a-4082-e1eb-d0ade857f040"
      },
      "execution_count": null,
      "outputs": [
        {
          "output_type": "stream",
          "name": "stdout",
          "text": [
            "Top County: King\n",
            "Total EVs Registered: 122819\n",
            "County\n",
            "King         122819\n",
            "Snohomish     30587\n",
            "Pierce        20534\n",
            "Clark         15055\n",
            "Thurston       9081\n",
            "Kitsap         8375\n",
            "Spokane        6971\n",
            "Whatcom        6030\n",
            "Benton         3320\n",
            "Skagit         2843\n",
            "Name: count, dtype: int64\n"
          ]
        }
      ]
    },
    {
      "cell_type": "markdown",
      "source": [
        "**How has EV adoption changed over different model years?**"
      ],
      "metadata": {
        "id": "V0uB9tSRuW28"
      }
    },
    {
      "cell_type": "code",
      "source": [
        "ev_adoption_by_year = df_data['Model Year'].value_counts().sort_index()\n",
        "print(\"EV adoption changed over diff model year \\n\",ev_adoption_by_year)\n"
      ],
      "metadata": {
        "colab": {
          "base_uri": "https://localhost:8080/"
        },
        "id": "L5DS0g7TudMk",
        "outputId": "304eaaf6-e1d1-472b-b0b5-79209d08473e"
      },
      "execution_count": null,
      "outputs": [
        {
          "output_type": "stream",
          "name": "stdout",
          "text": [
            "EV adoption changed over diff model year \n",
            " Model Year\n",
            "2000        8\n",
            "2002        2\n",
            "2003        1\n",
            "2008       17\n",
            "2010       23\n",
            "2011      656\n",
            "2012     1462\n",
            "2013     4168\n",
            "2014     3364\n",
            "2015     4613\n",
            "2016     5302\n",
            "2017     8755\n",
            "2018    14504\n",
            "2019    11055\n",
            "2020    12390\n",
            "2021    20794\n",
            "2022    29337\n",
            "2023    59088\n",
            "2024    49799\n",
            "2025    20820\n",
            "2026     1186\n",
            "Name: count, dtype: int64\n"
          ]
        }
      ]
    },
    {
      "cell_type": "markdown",
      "source": [
        "**What is the average electric range of EVs in the dataset?**"
      ],
      "metadata": {
        "id": "oE3PKiwbudsE"
      }
    },
    {
      "cell_type": "code",
      "source": [
        "print(\"Average Electric Range:\", df_data['Electric Range'].mean())"
      ],
      "metadata": {
        "colab": {
          "base_uri": "https://localhost:8080/"
        },
        "id": "8qj_vapFunfZ",
        "outputId": "a23c7877-cca1-4c7f-e683-1510fe37b8fd"
      },
      "execution_count": null,
      "outputs": [
        {
          "output_type": "stream",
          "name": "stdout",
          "text": [
            "Average Electric Range: 113.03043300235439\n"
          ]
        }
      ]
    },
    {
      "cell_type": "markdown",
      "source": [
        "**What percentage of EVs are eligible for Clean Alternative Fuel Vehicle (CAFV) incentives?**"
      ],
      "metadata": {
        "id": "7pymSmqqupFp"
      }
    },
    {
      "cell_type": "code",
      "source": [
        "cafv_eligible = df_data['Clean Alternative Fuel Vehicle (CAFV) Eligibility'].value_counts(normalize=True) * 100\n",
        "print(cafv_eligible)"
      ],
      "metadata": {
        "colab": {
          "base_uri": "https://localhost:8080/"
        },
        "id": "TL7CU0SVuv5i",
        "outputId": "669626dc-6f50-4408-87f3-d79f546fd63a"
      },
      "execution_count": null,
      "outputs": [
        {
          "output_type": "stream",
          "name": "stdout",
          "text": [
            "Clean Alternative Fuel Vehicle (CAFV) Eligibility\n",
            "Eligibility unknown as battery range has not been researched    60.496313\n",
            "Clean Alternative Fuel Vehicle Eligible                         30.129294\n",
            "Not eligible due to low battery range                            9.374394\n",
            "Name: proportion, dtype: float64\n"
          ]
        }
      ]
    },
    {
      "cell_type": "markdown",
      "source": [
        "**How does the electric range vary across different makes and models?**"
      ],
      "metadata": {
        "id": "nTDckVlAuwei"
      }
    },
    {
      "cell_type": "code",
      "source": [
        "range_by_make_model = df_data.groupby(['Make', 'Model'])['Electric Range'].mean().reset_index().sort_values(by='Electric Range', ascending=False)\n",
        "print(range_by_make_model.head(10))  # Top 10 by range"
      ],
      "metadata": {
        "colab": {
          "base_uri": "https://localhost:8080/"
        },
        "id": "nj8FcdXFu1J7",
        "outputId": "45113bc5-0585-4a45-c907-205f7bc20840"
      },
      "execution_count": null,
      "outputs": [
        {
          "output_type": "stream",
          "name": "stdout",
          "text": [
            "          Make     Model Electric Range\n",
            "136    PORSCHE     MACAN     304.091954\n",
            "153      TESLA   MODEL Y          291.0\n",
            "81     HYUNDAI      KONA          258.0\n",
            "46   CHEVROLET   BOLT EV     244.562251\n",
            "152      TESLA   MODEL X     241.322875\n",
            "150      TESLA   MODEL 3      238.29214\n",
            "154      TESLA  ROADSTER     235.909091\n",
            "85      JAGUAR    I-PACE          234.0\n",
            "133   POLESTAR       PS2          233.0\n",
            "151      TESLA   MODEL S     227.986027\n"
          ]
        }
      ]
    },
    {
      "cell_type": "markdown",
      "source": [
        "**What is the average Base MSRP for each EV model?**"
      ],
      "metadata": {
        "id": "qXECNyq6u1ej"
      }
    },
    {
      "cell_type": "code",
      "source": [
        "avg_msrp_by_model = df_data.groupby(['Make', 'Model'])['Base MSRP'].mean().reset_index().sort_values(by='Base MSRP', ascending=False)\n",
        "print(avg_msrp_by_model.head(10))  # Top 10 by price"
      ],
      "metadata": {
        "colab": {
          "base_uri": "https://localhost:8080/"
        },
        "id": "Ezzlv-ACvBhp",
        "outputId": "7f40cce9-aa6b-4ffc-acce-ea51379d0247"
      },
      "execution_count": null,
      "outputs": [
        {
          "output_type": "stream",
          "name": "stdout",
          "text": [
            "         Make     Model      Base MSRP\n",
            "134   PORSCHE       918       845000.0\n",
            "137   PORSCHE  PANAMERA       184400.0\n",
            "154     TESLA  ROADSTER  106276.136364\n",
            "58     FISKER     KARMA       102000.0\n",
            "24        BMW      740E   90244.642857\n",
            "135   PORSCHE   CAYENNE        81100.0\n",
            "39   CADILLAC       CT6        75095.0\n",
            "151     TESLA   MODEL S    69042.24446\n",
            "175     VOLVO      XC90        64950.0\n",
            "22        BMW      530E   54319.283276\n"
          ]
        }
      ]
    },
    {
      "cell_type": "markdown",
      "source": [
        "**Are there any regional trends in EV adoption (e.g., urban vs. rural areas)?**"
      ],
      "metadata": {
        "id": "2tq_ojKzvCKm"
      }
    },
    {
      "cell_type": "code",
      "source": [
        "# Using city name heuristic — cities containing “city”, “town”, or known urban centers\n",
        "\n",
        "df['Region Type'] = df['City'].str.contains(r'city|town|seattle|tacoma|bellevue|everett|renton|spokane', case=False, na=False)\n",
        "regional_trends = df.groupby('Region Type').size()\n",
        "print(regional_trends)\n"
      ],
      "metadata": {
        "colab": {
          "base_uri": "https://localhost:8080/"
        },
        "id": "kt9J_lYPvHVY",
        "outputId": "70dcaede-5a2c-44f1-ba42-1c2f64484345"
      },
      "execution_count": null,
      "outputs": [
        {
          "output_type": "stream",
          "name": "stdout",
          "text": [
            "Region Type\n",
            "False    173010\n",
            "True      74334\n",
            "dtype: int64\n"
          ]
        }
      ]
    },
    {
      "cell_type": "markdown",
      "source": [
        "# **Section 3 ▶  Data Visualization**"
      ],
      "metadata": {
        "id": "2oIhwWltz2gG"
      }
    },
    {
      "cell_type": "markdown",
      "source": [
        "**Create a bar chart showing the top 5 EV makes and models by count.**"
      ],
      "metadata": {
        "id": "utmyardE01dF"
      }
    },
    {
      "cell_type": "code",
      "source": [
        "# Set style\n",
        "sns.set(style=\"whitegrid\")\n",
        "plt.figure(figsize=(9, 5))\n",
        "\n",
        "# Top 5 EVs\n",
        "top_5 = df_data.groupby(['Make', 'Model']).size().reset_index(name='Count').sort_values(by='Count', ascending=False).head(5)\n",
        "sns.barplot(data=top_5, x='Count', y=top_5['Make'] + ' ' + top_5['Model'], palette='viridis')\n",
        "plt.title(\"Top 5 EVs Makes & Models by Count\")\n",
        "plt.xlabel(\"Number of EVs\")\n",
        "plt.ylabel(\"Make & Model\")\n",
        "plt.tight_layout()\n",
        "plt.show()"
      ],
      "metadata": {
        "colab": {
          "base_uri": "https://localhost:8080/",
          "height": 622
        },
        "id": "k7z-EJUB1WiP",
        "outputId": "a7a28b5c-3289-4f54-f8f8-58dd7034633d"
      },
      "execution_count": null,
      "outputs": [
        {
          "output_type": "stream",
          "name": "stderr",
          "text": [
            "/tmp/ipython-input-36-3263340848.py:7: FutureWarning:\n",
            "\n",
            "\n",
            "\n",
            "Passing `palette` without assigning `hue` is deprecated and will be removed in v0.14.0. Assign the `y` variable to `hue` and set `legend=False` for the same effect.\n",
            "\n",
            "\n"
          ]
        },
        {
          "output_type": "display_data",
          "data": {
            "text/plain": [
              "<Figure size 900x500 with 1 Axes>"
            ],
            "image/png": "[encoded data removed]"
          },
          "metadata": {}
        }
      ]
    },
    {
      "cell_type": "markdown",
      "source": [
        "**Use a heatmap or choropleth map to visualize EV distribution by county.**"
      ],
      "metadata": {
        "id": "MP6AUj-b1YLo"
      }
    },
    {
      "cell_type": "code",
      "source": [
        "plt.figure(figsize=(7, 9))\n",
        "county_counts = df_data['County'].value_counts().head(20).sort_values(ascending=True)\n",
        "sns.barplot(x=county_counts.values, y=county_counts.index, palette='magma')\n",
        "plt.title(\"Top 20 Counties by EV Registrations\")\n",
        "plt.xlabel(\"Number of EVs\")\n",
        "plt.ylabel(\"County\")\n",
        "plt.tight_layout()\n",
        "plt.show()"
      ],
      "metadata": {
        "colab": {
          "base_uri": "https://localhost:8080/",
          "height": 1000
        },
        "id": "zvp0U1kK1dnN",
        "outputId": "2f8733d2-2ae1-46b7-e3a9-c111dd4de383"
      },
      "execution_count": null,
      "outputs": [
        {
          "output_type": "stream",
          "name": "stderr",
          "text": [
            "/tmp/ipython-input-37-2500086533.py:3: FutureWarning:\n",
            "\n",
            "\n",
            "\n",
            "Passing `palette` without assigning `hue` is deprecated and will be removed in v0.14.0. Assign the `y` variable to `hue` and set `legend=False` for the same effect.\n",
            "\n",
            "\n"
          ]
        },
        {
          "output_type": "display_data",
          "data": {
            "text/plain": [
              "<Figure size 700x900 with 1 Axes>"
            ],
            "image/png": "[encoded data removed]"
          },
          "metadata": {}
        }
      ]
    },
    {
      "cell_type": "markdown",
      "source": [
        "**Create a line graph showing the trend of EV adoption by model year.**"
      ],
      "metadata": {
        "id": "GkAbJ5nt1eZn"
      }
    },
    {
      "cell_type": "code",
      "source": [
        "year_counts = df_data['Model Year'].value_counts().sort_index()\n",
        "plt.figure(figsize=(12, 6))\n",
        "sns.lineplot(x=year_counts.index, y=year_counts.values, marker='o')\n",
        "plt.title(\"EV Adoption Over the Years\")\n",
        "plt.xlabel(\"Model Year\")\n",
        "plt.ylabel(\"Number of EVs\")\n",
        "plt.grid(True)\n",
        "plt.tight_layout()\n",
        "plt.show()"
      ],
      "metadata": {
        "colab": {
          "base_uri": "https://localhost:8080/",
          "height": 601
        },
        "id": "_e5U46W01iBw",
        "outputId": "3b8704b0-8b8b-4547-a085-bc590811a2de"
      },
      "execution_count": null,
      "outputs": [
        {
          "output_type": "display_data",
          "data": {
            "text/plain": [
              "<Figure size 1200x600 with 1 Axes>"
            ],
            "image/png": "[encoded data removed]"
          },
          "metadata": {}
        }
      ]
    },
    {
      "cell_type": "markdown",
      "source": [
        "**Generate a scatter plot comparing electric range vs. base MSRP to see pricing trends.**"
      ],
      "metadata": {
        "id": "6If3PypB1jHP"
      }
    },
    {
      "cell_type": "code",
      "source": [
        "plt.figure(figsize=(10, 5))\n",
        "sns.scatterplot(data=df_data, x='Electric Range', y='Base MSRP', alpha=0.4)\n",
        "plt.title(\"Electric Range vs Base MSRP\")\n",
        "plt.xlabel(\"Electric Range (miles)\")\n",
        "plt.ylabel(\"Base MSRP ($)\")\n",
        "plt.tight_layout()\n",
        "plt.show()"
      ],
      "metadata": {
        "colab": {
          "base_uri": "https://localhost:8080/",
          "height": 501
        },
        "id": "ob5J0KHI1lO9",
        "outputId": "ed17ce5d-46c3-422b-88a2-106b2697d5f0"
      },
      "execution_count": null,
      "outputs": [
        {
          "output_type": "display_data",
          "data": {
            "text/plain": [
              "<Figure size 1000x500 with 1 Axes>"
            ],
            "image/png": "[encoded data removed]"
          },
          "metadata": {}
        }
      ]
    },
    {
      "cell_type": "markdown",
      "source": [
        "**Plot a pie chart showing the proportion of CAFV-eligible vs. non-eligible EVs.**"
      ],
      "metadata": {
        "id": "-BGSLYtq1ljI"
      }
    },
    {
      "cell_type": "code",
      "source": [
        "cafv = df_data['Clean Alternative Fuel Vehicle (CAFV) Eligibility'].value_counts()\n",
        "plt.figure(figsize=(9, 9))\n",
        "plt.pie(cafv, labels=cafv.index, autopct='%1.1f%%', startangle=140, colors=sns.color_palette('pastel'))\n",
        "plt.title(\"CAFV Eligibility Distribution\")\n",
        "plt.tight_layout()\n",
        "plt.show()"
      ],
      "metadata": {
        "colab": {
          "base_uri": "https://localhost:8080/",
          "height": 562
        },
        "id": "AO7e__hA1ym5",
        "outputId": "9b24c2b4-406e-4392-bdbb-4077e51eab38"
      },
      "execution_count": null,
      "outputs": [
        {
          "output_type": "display_data",
          "data": {
            "text/plain": [
              "<Figure size 900x900 with 1 Axes>"
            ],
            "image/png": "[encoded data removed]"
          },
          "metadata": {}
        }
      ]
    },
    {
      "cell_type": "markdown",
      "source": [
        "**Use a geospatial map to display EV registrations based on vehicle location.**"
      ],
      "metadata": {
        "id": "YNbu9V921y_5"
      }
    },
    {
      "cell_type": "code",
      "source": [
        "import plotly.express as px\n",
        "\n",
        "# Filter out rows with missing coordinates\n",
        "geo_df = df_data.dropna(subset=['Latitude', 'Longitude'])\n",
        "\n",
        "fig = px.scatter_mapbox(\n",
        "    geo_df.sample(1000),  # sample to reduce map lag\n",
        "    lat='Latitude',\n",
        "    lon='Longitude',\n",
        "    hover_name='Make',\n",
        "    hover_data=['Model', 'City', 'County'],\n",
        "    color_discrete_sequence=[\"blue\"],\n",
        "    zoom=5,\n",
        "    height=500\n",
        ")\n",
        "fig.update_layout(mapbox_style=\"open-street-map\")\n",
        "fig.update_layout(title=\"Geospatial Distribution of EV Registrations\", margin={\"r\":0,\"t\":30,\"l\":0,\"b\":0})\n",
        "fig.show()\n"
      ],
      "metadata": {
        "colab": {
          "base_uri": "https://localhost:8080/",
          "height": 517
        },
        "id": "7Ixa-oV12DVh",
        "outputId": "db9eb72b-39e5-4602-9d47-57d0ae456b55"
      },
      "execution_count": null,
      "outputs": [
        {
          "output_type": "display_data",
          "data": {
            "text/html": [
              "<html>\n",
              "<head><meta charset=\"utf-8\" /></head>\n",
              "<body>\n",
              "    <div>            <script src=\"https://cdnjs.cloudflare.com/ajax/libs/mathjax/2.7.5/MathJax.js?config=TeX-AMS-MML_SVG\"></script><script type=\"text/javascript\">if (window.MathJax && window.MathJax.Hub && window.MathJax.Hub.Config) {window.MathJax.Hub.Config({SVG: {font: \"STIX-Web\"}});}</script>                <script type=\"text/javascript\">window.PlotlyConfig = {MathJaxConfig: 'local'};</script>\n",
              "        <script charset=\"utf-8\" src=\"https://cdn.plot.ly/plotly-2.35.2.min.js\"></script>                <div id=\"e0d8321a-d183-45e0-a6a6-04494a38e44e\" class=\"plotly-graph-div\" style=\"height:500px; width:100%;\"></div>            <script type=\"text/javascript\">                                    window.PLOTLYENV=window.PLOTLYENV || {};                                    if (document.getElementById(\"e0d8321a-d183-45e0-a6a6-04494a38e44e\")) {                    Plotly.newPlot(                        \"e0d8321a-d183-45e0-a6a6-04494a38e44e\",                        [{\"customdata\":[[\"MODEL Y\",\"East Wenatchee\",\"Douglas\"],[\"LEAF\",\"Sammamish\",\"King\"],[\"MODEL Y\",\"Kent\",\"King\"],[\"R1T\",\"White Salmon\",\"Klickitat\"],[\"MODEL S\",\"Bellevue\",\"King\"],[\"EV6\",\"Seattle\",\"King\"],[\"LEAF\",\"Seatac\",\"King\"],[\"MODEL Y\",\"Newcastle\",\"King\"],[\"I4\",\"Bellevue\",\"King\"],[\"LYRIQ\",\"Kirkland\",\"King\"],[\"RZ\",\"Auburn\",\"King\"],[\"MODEL Y\",\"Lynnwood\",\"Snohomish\"],[\"MODEL Y\",\"Bothell\",\"King\"],[\"PROLOGUE\",\"Battle Ground\",\"Clark\"],[\"EV6\",\"Seattle\",\"King\"],[\"EV6\",\"Seattle\",\"King\"],[\"MODEL 3\",\"Redmond\",\"King\"],[\"BOLT EV\",\"Pullman\",\"Whitman\"],[\"LYRIQ\",\"Stanwood\",\"Snohomish\"],[\"GRAND CHEROKEE\",\"Renton\",\"King\"],[\"LEAF\",\"Shoreline\",\"King\"],[\"FUSION\",\"Everett\",\"Snohomish\"],[\"MODEL Y\",\"Lacey\",\"Thurston\"],[\"MODEL 3\",\"Sammamish\",\"King\"],[\"F-150\",\"Bellevue\",\"King\"],[\"PRIUS\",\"Bellevue\",\"King\"],[\"I4\",\"Mercer Island\",\"King\"],[\"MODEL Y\",\"Cle Elum\",\"Kittitas\"],[\"MODEL 3\",\"Vancouver\",\"Clark\"],[\"MUSTANG MACH-E\",\"Port Orchard\",\"Kitsap\"],[\"MODEL Y\",\"Redmond\",\"King\"],[\"MODEL Y\",\"Camano Island\",\"Island\"],[\"MODEL Y\",\"Bothell\",\"Snohomish\"],[\"MODEL 3\",\"Black Diamond\",\"King\"],[\"EV6\",\"Yakima\",\"Yakima\"],[\"LEAF\",\"Port Angeles\",\"Clallam\"],[\"LEAF\",\"Olympia\",\"Thurston\"],[\"RAV4 PRIME (PHEV)\",\"Fox Island\",\"Pierce\"],[\"NIRO\",\"Ridgefield\",\"Clark\"],[\"BZ4X\",\"Lacey\",\"Thurston\"],[\"E-GOLF\",\"Renton\",\"King\"],[\"MODEL 3\",\"Redmond\",\"King\"],[\"F-150\",\"Deming\",\"Whatcom\"],[\"LEAF\",\"Bellingham\",\"Whatcom\"],[\"PACIFICA\",\"Vancouver\",\"Clark\"],[\"R1S\",\"Seattle\",\"King\"],[\"BOLT EUV\",\"Kent\",\"King\"],[\"BOLT EV\",\"Seattle\",\"King\"],[\"OCEAN\",\"Monroe\",\"Snohomish\"],[\"MODEL Y\",\"Mill Creek\",\"Snohomish\"],[\"PRIUS PRIME (PHEV)\",\"Lake Stevens\",\"Snohomish\"],[\"LEAF\",\"Lynnwood\",\"Snohomish\"],[\"LEAF\",\"Bellevue\",\"King\"],[\"OUTLANDER\",\"Seatac\",\"King\"],[\"EV6\",\"Port Orchard\",\"Kitsap\"],[\"MODEL Y\",\"Seattle\",\"King\"],[\"R1T\",\"Anacortes\",\"Skagit\"],[\"MODEL 3\",\"Redmond\",\"King\"],[\"MODEL Y\",\"Camano Island\",\"Island\"],[\"MODEL Y\",\"Redmond\",\"King\"],[\"MODEL Y\",\"Vancouver\",\"Clark\"],[\"MODEL 3\",\"Seattle\",\"King\"],[\"MODEL 3\",\"Lynnwood\",\"Snohomish\"],[\"MODEL Y\",\"Lacey\",\"Thurston\"],[\"MODEL 3\",\"Seattle\",\"King\"],[\"C-MAX\",\"Auburn\",\"King\"],[\"MODEL 3\",\"Toppenish\",\"Yakima\"],[\"IONIQ 5\",\"Edmonds\",\"Snohomish\"],[\"MODEL Y\",\"Seattle\",\"King\"],[\"MODEL 3\",\"Bow\",\"Skagit\"],[\"MODEL X\",\"Everett\",\"Snohomish\"],[\"MODEL X\",\"Bellevue\",\"King\"],[\"MODEL Y\",\"Renton\",\"King\"],[\"MODEL Y\",\"Mountlake Terrace\",\"Snohomish\"],[\"LEAF\",\"Bremerton\",\"Kitsap\"],[\"MODEL S\",\"Bellevue\",\"King\"],[\"MUSTANG MACH-E\",\"Sammamish\",\"King\"],[\"MODEL Y\",\"Kennewick\",\"Benton\"],[\"MODEL Y\",\"Everett\",\"Snohomish\"],[\"LEAF\",\"Spokane\",\"Spokane\"],[\"MODEL 3\",\"Redmond\",\"King\"],[\"HARDTOP\",\"Vancouver\",\"Clark\"],[\"XC40\",\"Lynnwood\",\"Snohomish\"],[\"LEAF\",\"Olympia\",\"Thurston\"],[\"MODEL 3\",\"Bellevue\",\"King\"],[\"MODEL Y\",\"Sammamish\",\"King\"],[\"EV6\",\"Bellevue\",\"King\"],[\"MODEL Y\",\"Anacortes\",\"Skagit\"],[\"MODEL S\",\"Everett\",\"Snohomish\"],[\"LEAF\",\"Kirkland\",\"King\"],[\"MODEL Y\",\"Pullman\",\"Whitman\"],[\"LEAF\",\"Seattle\",\"King\"],[\"MODEL Y\",\"Anacortes\",\"Skagit\"],[\"SOLTERRA\",\"Friday Harbor\",\"San Juan\"],[\"MODEL Y\",\"Seattle\",\"King\"],[\"PACIFICA\",\"Federal Way\",\"King\"],[\"R1T\",\"Bellingham\",\"Whatcom\"],[\"LEAF\",\"Everett\",\"Snohomish\"],[\"CHARGER\",\"Aberdeen\",\"Grays Harbor\"],[\"MODEL Y\",\"Kirkland\",\"King\"],[\"LEAF\",\"Seattle\",\"King\"],[\"SPORTAGE\",\"Bremerton\",\"Kitsap\"],[\"SPORTAGE\",\"Seattle\",\"King\"],[\"TRANSIT\",\"Seattle\",\"King\"],[\"MODEL 3\",\"Vancouver\",\"Clark\"],[\"MODEL 3\",\"Bonney Lake\",\"Pierce\"],[\"Q5 E\",\"Seattle\",\"King\"],[\"BOLT EUV\",\"Seattle\",\"King\"],[\"VOLT\",\"Pacific\",\"King\"],[\"MODEL Y\",\"Lakewood\",\"Pierce\"],[\"IONIQ 5\",\"Kent\",\"King\"],[\"LEAF\",\"Oak Harbor\",\"Island\"],[\"MODEL Y\",\"Bothell\",\"Snohomish\"],[\"MODEL Y\",\"Vancouver\",\"Clark\"],[\"MODEL 3\",\"Lynnwood\",\"Snohomish\"],[\"RAV4 PRIME (PHEV)\",\"Bellevue\",\"King\"],[\"CX-90\",\"Bellingham\",\"Whatcom\"],[\"GRAND CHEROKEE\",\"Renton\",\"King\"],[\"MODEL S\",\"Deer Park\",\"Spokane\"],[\"MODEL Y\",\"Bellevue\",\"King\"],[\"MODEL S\",\"Redmond\",\"King\"],[\"MODEL Y\",\"Seattle\",\"King\"],[\"MODEL Y\",\"Bothell\",\"King\"],[\"CHARGER\",\"Seattle\",\"King\"],[\"MODEL Y\",\"Gig Harbor\",\"Pierce\"],[\"MODEL Y\",\"Shoreline\",\"King\"],[\"MODEL Y\",\"Sultan\",\"Snohomish\"],[\"500\",\"Vancouver\",\"Clark\"],[\"MODEL 3\",\"Edgewood\",\"Pierce\"],[\"ID.4\",\"Maple Valley\",\"King\"],[\"LEAF\",\"Lopez Island\",\"San Juan\"],[\"MODEL 3\",\"Seatac\",\"King\"],[\"SANTA FE\",\"Marysville\",\"Snohomish\"],[\"MODEL 3\",\"Shoreline\",\"King\"],[\"VOLT\",\"Wenatchee\",\"Chelan\"],[\"SORENTO\",\"Seattle\",\"King\"],[\"MODEL Y\",\"Sammamish\",\"King\"],[\"MODEL Y\",\"Seattle\",\"King\"],[\"IONIQ 5\",\"Mountlake Terrace\",\"Snohomish\"],[\"LEAF\",\"Kirkland\",\"King\"],[\"MODEL 3\",\"Marysville\",\"Snohomish\"],[\"VOLT\",\"Cheney\",\"Spokane\"],[\"ID.4\",\"Kirkland\",\"King\"],[\"MUSTANG MACH-E\",\"Spokane Valley\",\"Spokane\"],[\"MODEL 3\",\"Seattle\",\"King\"],[\"NIRO\",\"Puyallup\",\"Pierce\"],[\"MODEL Y\",\"Tacoma\",\"Pierce\"],[\"R1S\",\"Lakewood\",\"Pierce\"],[\"ID.4\",\"Bothell\",\"King\"],[\"RAV4 PRIME (PHEV)\",\"Auburn\",\"King\"],[\"MODEL 3\",\"Sammamish\",\"King\"],[\"ZDX\",\"Bothell\",\"Snohomish\"],[\"PRIUS PRIME (PHEV)\",\"Bellevue\",\"King\"],[\"MUSTANG MACH-E\",\"Mill Creek\",\"Snohomish\"],[\"MODEL 3\",\"Sammamish\",\"King\"],[\"FOCUS\",\"Auburn\",\"King\"],[\"330E\",\"Seattle\",\"King\"],[\"IX\",\"Pasco\",\"Franklin\"],[\"MODEL Y\",\"Seattle\",\"King\"],[\"X5\",\"Woodinville\",\"King\"],[\"BOLT EUV\",\"Maple Valley\",\"King\"],[\"OUTLANDER\",\"Vancouver\",\"Clark\"],[\"PACIFICA\",\"Olympia\",\"Thurston\"],[\"MODEL S\",\"Ritzville\",\"Adams\"],[\"IONIQ 5\",\"Kent\",\"King\"],[\"MODEL 3\",\"Arlington\",\"Snohomish\"],[\"WRANGLER\",\"Cheney\",\"Spokane\"],[\"MODEL 3\",\"Seattle\",\"King\"],[\"MODEL Y\",\"Sammamish\",\"King\"],[\"FUSION\",\"Everett\",\"Snohomish\"],[\"PRIUS PRIME (PHEV)\",\"Des Moines\",\"King\"],[\"PRIUS PRIME (PHEV)\",\"Seattle\",\"King\"],[\"GRAND CHEROKEE\",\"Maple Valley\",\"King\"],[\"ZDX\",\"Issaquah\",\"King\"],[\"PACIFICA\",\"Seattle\",\"King\"],[\"MODEL Y\",\"Bellevue\",\"King\"],[\"MODEL Y\",\"Kirkland\",\"King\"],[\"ESCAPE\",\"Graham\",\"Pierce\"],[\"MODEL Y\",\"Bothell\",\"Snohomish\"],[\"SANTA FE\",\"Tumwater\",\"Thurston\"],[\"OUTLANDER\",\"Yacolt\",\"Clark\"],[\"R1T\",\"Shoreline\",\"King\"],[\"MODEL Y\",\"Puyallup\",\"Pierce\"],[\"PRIUS PRIME (PHEV)\",\"Kennewick\",\"Benton\"],[\"BOLT EUV\",\"Everett\",\"Snohomish\"],[\"MODEL Y\",\"Mercer Island\",\"King\"],[\"MODEL Y\",\"Bellingham\",\"Whatcom\"],[\"MODEL Y\",\"Redmond\",\"King\"],[\"E-TRON\",\"Mercer Island\",\"King\"],[\"MODEL 3\",\"Issaquah\",\"King\"],[\"LEAF\",\"Bellevue\",\"King\"],[\"EX30\",\"Seattle\",\"King\"],[\"MODEL X\",\"Kirkland\",\"King\"],[\"I3\",\"Vancouver\",\"Clark\"],[\"MODEL 3\",\"Sumner\",\"Pierce\"],[\"MODEL Y\",\"Seattle\",\"King\"],[\"NIRO\",\"Seattle\",\"King\"],[\"WRANGLER\",\"Renton\",\"King\"],[\"MODEL 3\",\"Edgewood\",\"Pierce\"],[\"MODEL Y\",\"Puyallup\",\"Pierce\"],[\"LEAF\",\"Seattle\",\"King\"],[\"HARDTOP\",\"Federal Way\",\"King\"],[\"RAV4 PRIME (PHEV)\",\"Seattle\",\"King\"],[\"ARIYA\",\"Mount Vernon\",\"Skagit\"],[\"ARIYA\",\"Lakewood\",\"Pierce\"],[\"Q6\",\"Vancouver\",\"Clark\"],[\"OCEAN\",\"Arlington\",\"Snohomish\"],[\"R1S\",\"Spokane\",\"Spokane\"],[\"BOLT EUV\",\"Parkland\",\"Pierce\"],[\"EV6\",\"Vancouver\",\"Clark\"],[\"MODEL S\",\"Tacoma\",\"Pierce\"],[\"PRIUS PRIME (PHEV)\",\"Greenacres\",\"Spokane\"],[\"MUSTANG MACH-E\",\"Vashon\",\"King\"],[\"MODEL Y\",\"Bothell\",\"Snohomish\"],[\"MODEL Y\",\"Kirkland\",\"King\"],[\"MODEL Y\",\"Spokane Valley\",\"Spokane\"],[\"R1T\",\"Olympia\",\"Thurston\"],[\"BOLT EV\",\"Tacoma\",\"Pierce\"],[\"MODEL Y\",\"Seattle\",\"King\"],[\"MODEL 3\",\"Camas\",\"Clark\"],[\"BZ4X\",\"Seattle\",\"King\"],[\"PACIFICA\",\"Graham\",\"Pierce\"],[\"MODEL 3\",\"Graham\",\"Pierce\"],[\"FOCUS\",\"Redmond\",\"King\"],[\"MODEL Y\",\"North Bend\",\"King\"],[\"CAYENNE\",\"Ridgefield\",\"Clark\"],[\"MODEL S\",\"Duvall\",\"King\"],[\"MUSTANG MACH-E\",\"Elma\",\"Grays Harbor\"],[\"MODEL Y\",\"Seattle\",\"King\"],[\"RAV4 PRIME (PHEV)\",\"Woodinville\",\"Snohomish\"],[\"CLARITY\",\"Seattle\",\"King\"],[\"MODEL Y\",\"Kenmore\",\"King\"],[\"MODEL Y\",\"Vancouver\",\"Clark\"],[\"NIRO\",\"Bellingham\",\"Whatcom\"],[\"NIRO\",\"Seattle\",\"King\"],[\"FUSION\",\"Tacoma\",\"Pierce\"],[\"MODEL Y\",\"South Hill\",\"Pierce\"],[\"MODEL 3\",\"Sequim\",\"Clallam\"],[\"ID.4\",\"Seattle\",\"King\"],[\"MODEL Y\",\"Seattle\",\"King\"],[\"PRIUS PRIME (PHEV)\",\"Seattle\",\"King\"],[\"RAV4 PRIME (PHEV)\",\"Covington\",\"King\"],[\"MODEL Y\",\"Issaquah\",\"King\"],[\"BOLT EV\",\"Renton\",\"King\"],[\"ID.4\",\"Seattle\",\"King\"],[\"MUSTANG MACH-E\",\"Woodinville\",\"King\"],[\"IONIQ 5\",\"Federal Way\",\"King\"],[\"MODEL 3\",\"Yelm\",\"Thurston\"],[\"MODEL X\",\"Marysville\",\"Snohomish\"],[\"MODEL X\",\"Puyallup\",\"Pierce\"],[\"BLAZER\",\"Gig Harbor\",\"Pierce\"],[\"MODEL S\",\"Seattle\",\"King\"],[\"MODEL Y\",\"Bellevue\",\"King\"],[\"MODEL X\",\"Seattle\",\"King\"],[\"ID.4\",\"Poulsbo\",\"Kitsap\"],[\"MODEL Y\",\"Newcastle\",\"King\"],[\"XC40\",\"Snohomish\",\"Snohomish\"],[\"SORENTO\",\"Port Orchard\",\"Kitsap\"],[\"MODEL S\",\"Buckley\",\"Pierce\"],[\"MODEL Y\",\"Seattle\",\"King\"],[\"ESCAPE\",\"Vancouver\",\"Clark\"],[\"EV9\",\"Snohomish\",\"Snohomish\"],[\"LEAF\",\"University Place\",\"Pierce\"],[\"XC40\",\"Seattle\",\"King\"],[\"MODEL S\",\"Kent\",\"King\"],[\"MODEL Y\",\"Bellevue\",\"King\"],[\"EV6\",\"Olympia\",\"Thurston\"],[\"LEAF\",\"Bremerton\",\"Kitsap\"],[\"IONIQ 5\",\"Lacey\",\"Thurston\"],[\"MODEL 3\",\"Camas\",\"Clark\"],[\"TAYCAN\",\"Seattle\",\"King\"],[\"MODEL Y\",\"Seattle\",\"King\"],[\"MODEL Y\",\"Spokane Valley\",\"Spokane\"],[\"PROLOGUE\",\"Vancouver\",\"Clark\"],[\"MODEL 3\",\"Seattle\",\"King\"],[\"EV6\",\"Everett\",\"Snohomish\"],[\"NX\",\"Brier\",\"Snohomish\"],[\"MODEL Y\",\"Redmond\",\"King\"],[\"LEAF\",\"Seattle\",\"King\"],[\"ARIYA\",\"Brush Prairie\",\"Clark\"],[\"XC60\",\"Redmond\",\"King\"],[\"MODEL Y\",\"Vancouver\",\"Clark\"],[\"RX\",\"Bellevue\",\"King\"],[\"MODEL Y\",\"Bellingham\",\"Whatcom\"],[\"MODEL Y\",\"Bothell\",\"Snohomish\"],[\"MODEL Y\",\"Seattle\",\"King\"],[\"MODEL S\",\"Mukilteo\",\"Snohomish\"],[\"XC60\",\"Vancouver\",\"Clark\"],[\"HUMMER EV SUV\",\"Everett\",\"Snohomish\"],[\"MODEL Y\",\"Redmond\",\"King\"],[\"MODEL 3\",\"Seattle\",\"King\"],[\"IONIQ 6\",\"Marysville\",\"Snohomish\"],[\"MODEL 3\",\"Issaquah\",\"King\"],[\"MODEL 3\",\"University Place\",\"Pierce\"],[\"MODEL 3\",\"Seattle\",\"King\"],[\"MODEL Y\",\"Bothell\",\"Snohomish\"],[\"MODEL Y\",\"Bellingham\",\"Whatcom\"],[\"MODEL Y\",\"Bellevue\",\"King\"],[\"TAYCAN\",\"Bellevue\",\"King\"],[\"NX\",\"Bellevue\",\"King\"],[\"F-150\",\"Maple Valley\",\"King\"],[\"C-MAX\",\"Spokane Valley\",\"Spokane\"],[\"MODEL 3\",\"Shoreline\",\"King\"],[\"X5\",\"Vancouver\",\"Clark\"],[\"R1T\",\"Renton\",\"King\"],[\"CX-90\",\"Bellevue\",\"King\"],[\"PACIFICA\",\"Ellensburg\",\"Kittitas\"],[\"PRIUS PRIME (PHEV)\",\"Redmond\",\"King\"],[\"MODEL 3\",\"Marysville\",\"Snohomish\"],[\"TRANSIT\",\"Centralia\",\"Thurston\"],[\"MUSTANG MACH-E\",\"Seattle\",\"King\"],[\"ID.4\",\"Lynnwood\",\"Snohomish\"],[\"MODEL Y\",\"Lynnwood\",\"Snohomish\"],[\"MODEL 3\",\"Kent\",\"King\"],[\"MODEL Y\",\"Edmonds\",\"Snohomish\"],[\"PRIUS\",\"Kennewick\",\"Benton\"],[\"MODEL Y\",\"Snohomish\",\"Snohomish\"],[\"EQB-CLASS\",\"Port Orchard\",\"Kitsap\"],[\"MODEL S\",\"Seattle\",\"King\"],[\"MODEL Y\",\"Battle Ground\",\"Clark\"],[\"I3\",\"Lake Stevens\",\"Snohomish\"],[\"RAV4 PRIME (PHEV)\",\"Mountlake Terrace\",\"Snohomish\"],[\"BOLT EV\",\"Mercer Island\",\"King\"],[\"530E\",\"Seattle\",\"King\"],[\"EQE-CLASS SUV\",\"Maple Valley\",\"King\"],[\"MODEL X\",\"Lakewood\",\"Pierce\"],[\"MODEL 3\",\"Lynnwood\",\"Snohomish\"],[\"BOLT EV\",\"Redmond\",\"King\"],[\"MODEL S\",\"Seattle\",\"King\"],[\"MODEL Y\",\"Seattle\",\"King\"],[\"R1S\",\"Cle Elum\",\"Kittitas\"],[\"IONIQ 5\",\"Port Angeles\",\"Clallam\"],[\"BOLT EV\",\"Blaine\",\"Whatcom\"],[\"MODEL Y\",\"North Bend\",\"King\"],[\"EV6\",\"Tacoma\",\"Pierce\"],[\"ID.4\",\"Edmonds\",\"Snohomish\"],[\"MODEL Y\",\"Auburn\",\"Pierce\"],[\"MODEL Y\",\"Bellevue\",\"King\"],[\"XC60\",\"Gig Harbor\",\"Pierce\"],[\"R1S\",\"Bellingham\",\"Whatcom\"],[\"MODEL 3\",\"Spokane Valley\",\"Spokane\"],[\"PRIUS PRIME (PHEV)\",\"Seattle\",\"King\"],[\"VOLT\",\"Tacoma\",\"Pierce\"],[\"BOLT EV\",\"Port Orchard\",\"Kitsap\"],[\"MODEL Y\",\"Vancouver\",\"Clark\"],[\"MODEL Y\",\"Seattle\",\"King\"],[\"MODEL Y\",\"Duvall\",\"King\"],[\"MODEL Y\",\"Lake Stevens\",\"Snohomish\"],[\"PACIFICA\",\"Richland\",\"Benton\"],[\"VOLT\",\"South Hill\",\"Pierce\"],[\"MODEL Y\",\"Vancouver\",\"Clark\"],[\"MODEL 3\",\"Bothell\",\"Snohomish\"],[\"MODEL 3\",\"Camas\",\"Clark\"],[\"MODEL Y\",\"Camas\",\"Clark\"],[\"EX90\",\"Bellevue\",\"King\"],[\"LEAF\",\"Everett\",\"Snohomish\"],[\"MUSTANG MACH-E\",\"Mead\",\"Spokane\"],[\"LEAF\",\"Brier\",\"Snohomish\"],[\"R1S\",\"Seattle\",\"King\"],[\"MUSTANG MACH-E\",\"Lake Stevens\",\"Snohomish\"],[\"MODEL Y\",\"Camano Island\",\"Island\"],[\"RZ\",\"Kent\",\"King\"],[\"MODEL Y\",\"Shoreline\",\"King\"],[\"CYBERTRUCK\",\"Everett\",\"Snohomish\"],[\"MODEL Y\",\"Lynnwood\",\"Snohomish\"],[\"ID. BUZZ\",\"Anacortes\",\"Skagit\"],[\"MODEL 3\",\"Vancouver\",\"Clark\"],[\"MODEL 3\",\"Olympia\",\"Thurston\"],[\"MODEL Y\",\"Lake Stevens\",\"Snohomish\"],[\"BLAZER\",\"Kirkland\",\"King\"],[\"MODEL Y\",\"University Place\",\"Pierce\"],[\"VOLT\",\"Mead\",\"Spokane\"],[\"MODEL Y\",\"Seattle\",\"King\"],[\"LEAF\",\"Seattle\",\"King\"],[\"MODEL 3\",\"Seattle\",\"King\"],[\"SPORTAGE\",\"Lynnwood\",\"Snohomish\"],[\"LEAF\",\"Edmonds\",\"Snohomish\"],[\"LEAF\",\"Tacoma\",\"Pierce\"],[\"MODEL X\",\"Kirkland\",\"King\"],[\"MODEL Y\",\"Seattle\",\"King\"],[\"R1T\",\"Kirkland\",\"King\"],[\"MODEL 3\",\"Medina\",\"King\"],[\"Q4\",\"Custer\",\"Whatcom\"],[\"MODEL 3\",\"Lynnwood\",\"Snohomish\"],[\"MODEL 3\",\"Edmonds\",\"Snohomish\"],[\"MODEL Y\",\"Seattle\",\"King\"],[\"EDV\",\"Tukwila\",\"King\"],[\"MODEL Y\",\"Woodinville\",\"King\"],[\"F-150\",\"Covington\",\"King\"],[\"MODEL 3\",\"Olympia\",\"Thurston\"],[\"MODEL 3\",\"Seattle\",\"King\"],[\"VOLT\",\"Mercer Island\",\"King\"],[\"LEAF\",\"Bellingham\",\"Whatcom\"],[\"MODEL S\",\"Mercer Island\",\"King\"],[\"MODEL Y\",\"Seatac\",\"King\"],[\"CYBERTRUCK\",\"Lacey\",\"Thurston\"],[\"RAV4 PRIME (PHEV)\",\"Asotin\",\"Asotin\"],[\"LEAF\",\"Everett\",\"Snohomish\"],[\"MODEL 3\",\"Lacey\",\"Thurston\"],[\"MODEL 3\",\"Seattle\",\"King\"],[\"LEAF\",\"Lynnwood\",\"Snohomish\"],[\"MODEL Y\",\"Bothell\",\"Snohomish\"],[\"SPORTAGE\",\"Seatac\",\"King\"],[\"EQUINOX\",\"Renton\",\"King\"],[\"LEAF\",\"Seattle\",\"King\"],[\"LEAF\",\"Anacortes\",\"Skagit\"],[\"MODEL 3\",\"Seattle\",\"King\"],[\"R1T\",\"Redmond\",\"King\"],[\"MODEL Y\",\"Stafford\",\"Stafford\"],[\"MODEL Y\",\"Monroe\",\"Snohomish\"],[\"CAYENNE\",\"Kirkland\",\"King\"],[\"MODEL 3\",\"Seattle\",\"King\"],[\"LEAF\",\"Langley\",\"Island\"],[\"NIRO\",\"Seattle\",\"King\"],[\"R1S\",\"Sammamish\",\"King\"],[\"R1S\",\"Seattle\",\"King\"],[\"MODEL 3\",\"Vancouver\",\"Clark\"],[\"IONIQ 5\",\"Seattle\",\"King\"],[\"CAYENNE\",\"Camas\",\"Clark\"],[\"BOLT EV\",\"Castle Rock\",\"Cowlitz\"],[\"KONA\",\"Brier\",\"Snohomish\"],[\"MODEL 3\",\"Stanwood\",\"Snohomish\"],[\"Q5 E\",\"Bellevue\",\"King\"],[\"XC60\",\"Bothell\",\"Snohomish\"],[\"ARIYA\",\"Vancouver\",\"Clark\"],[\"VOLT\",\"Montesano\",\"Grays Harbor\"],[\"LEAF\",\"Issaquah\",\"King\"],[\"PROLOGUE\",\"Seattle\",\"King\"],[\"MODEL 3\",\"Lake Stevens\",\"Snohomish\"],[\"MODEL 3\",\"West Richland\",\"Benton\"],[\"MODEL 3\",\"Morton\",\"Lewis\"],[\"MODEL Y\",\"Edmonds\",\"Snohomish\"],[\"MODEL Y\",\"Covington\",\"King\"],[\"FUSION\",\"Renton\",\"King\"],[\"F-150\",\"Woodinville\",\"King\"],[\"MODEL Y\",\"Bellevue\",\"King\"],[\"PRIUS PRIME (PHEV)\",\"Bothell\",\"King\"],[\"MODEL Y\",\"Yakima\",\"Yakima\"],[\"MODEL S\",\"Shoreline\",\"King\"],[\"SOUL\",\"Seattle\",\"King\"],[\"AIR\",\"Clarkston\",\"Asotin\"],[\"R1S\",\"Seattle\",\"King\"],[\"R1T\",\"Seattle\",\"King\"],[\"RAV4 PRIME (PHEV)\",\"Seattle\",\"King\"],[\"X5\",\"Normandy Park\",\"King\"],[\"X3\",\"Seattle\",\"King\"],[\"MODEL Y\",\"Seattle\",\"King\"],[\"MODEL 3\",\"Lake Stevens\",\"Snohomish\"],[\"XC90\",\"Mercer Island\",\"King\"],[\"WRANGLER\",\"Vancouver\",\"Clark\"],[\"LEAF\",\"Woodinville\",\"King\"],[\"MODEL 3\",\"Kirkland\",\"King\"],[\"NIRO\",\"Seattle\",\"King\"],[\"MODEL Y\",\"Bothell\",\"Snohomish\"],[\"SPORTAGE\",\"Everett\",\"Snohomish\"],[\"LEAF\",\"Bainbridge Island\",\"Kitsap\"],[\"CLARITY\",\"Ravensdale\",\"King\"],[\"LEAF\",\"Vancouver\",\"Clark\"],[\"SORENTO\",\"Port Orchard\",\"Kitsap\"],[\"BOLT EV\",\"Everett\",\"Snohomish\"],[\"VOLT\",\"Shoreline\",\"King\"],[\"MODEL 3\",\"Seattle\",\"King\"],[\"PRIUS PRIME (PHEV)\",\"Burlington\",\"Skagit\"],[\"MODEL X\",\"Chelan\",\"Chelan\"],[\"TRANSIT\",\"Spokane\",\"Spokane\"],[\"TUCSON\",\"Snohomish\",\"Snohomish\"],[\"LEAF\",\"Redmond\",\"King\"],[\"MODEL 3\",\"Seattle\",\"King\"],[\"MODEL Y\",\"Spokane\",\"Spokane\"],[\"MODEL Y\",\"Bothell\",\"Snohomish\"],[\"MODEL Y\",\"South Hill\",\"Pierce\"],[\"MODEL Y\",\"Sammamish\",\"King\"],[\"WRANGLER\",\"Seattle\",\"King\"],[\"VOLT\",\"Kent\",\"King\"],[\"MODEL Y\",\"West Richland\",\"Benton\"],[\"HARDTOP\",\"Richland\",\"Benton\"],[\"PRIUS PRIME (PHEV)\",\"Tacoma\",\"Pierce\"],[\"MODEL Y\",\"Liberty Lake\",\"Spokane\"],[\"X5\",\"Edmonds\",\"Snohomish\"],[\"EV9\",\"Colbert\",\"Spokane\"],[\"ID.4\",\"Spokane\",\"Spokane\"],[\"Q8\",\"Bellevue\",\"King\"],[\"RAV4 PRIME (PHEV)\",\"White Salmon\",\"Klickitat\"],[\"IONIQ 5\",\"Woodinville\",\"King\"],[\"EV6\",\"Richland\",\"Benton\"],[\"ID.4\",\"Anacortes\",\"Skagit\"],[\"MODEL S\",\"Seattle\",\"King\"],[\"MODEL S\",\"Redmond\",\"King\"],[\"MODEL 3\",\"Seattle\",\"King\"],[\"TUCSON\",\"Buckley\",\"Pierce\"],[\"IONIQ 5\",\"Seattle\",\"King\"],[\"IONIQ 5\",\"Seatac\",\"King\"],[\"PROLOGUE\",\"Redmond\",\"King\"],[\"PACIFICA\",\"Seattle\",\"King\"],[\"RAV4 PRIME (PHEV)\",\"Camas\",\"Clark\"],[\"C-MAX\",\"Vancouver\",\"Clark\"],[\"PRIUS PRIME (PHEV)\",\"Seattle\",\"King\"],[\"ARIYA\",\"Bellingham\",\"Whatcom\"],[\"MODEL 3\",\"Seattle\",\"King\"],[\"EDV\",\"Maple Valley\",\"King\"],[\"MODEL Y\",\"Bellevue\",\"King\"],[\"I4\",\"Seattle\",\"King\"],[\"S-CLASS\",\"Bellevue\",\"King\"],[\"500\",\"Renton\",\"King\"],[\"ID.4\",\"Seattle\",\"King\"],[\"MODEL Y\",\"Anacortes\",\"Skagit\"],[\"PACIFICA\",\"Renton\",\"King\"],[\"MODEL Y\",\"Kirkland\",\"King\"],[\"MODEL 3\",\"Mountain View\",\"Santa Clara\"],[\"SANTA FE\",\"Redmond\",\"King\"],[\"Q5 E\",\"Seattle\",\"King\"],[\"MODEL Y\",\"Dupont\",\"Pierce\"],[\"MODEL Y\",\"Renton\",\"King\"],[\"MODEL 3\",\"Seatac\",\"King\"],[\"MODEL Y\",\"Des Moines\",\"King\"],[\"IONIQ 6\",\"Seattle\",\"King\"],[\"BOLT EV\",\"Shoreline\",\"King\"],[\"KONA\",\"Tacoma\",\"Pierce\"],[\"MUSTANG MACH-E\",\"Seattle\",\"King\"],[\"MODEL 3\",\"Pasco\",\"Franklin\"],[\"MODEL Y\",\"Seattle\",\"King\"],[\"SOLTERRA\",\"Seattle\",\"King\"],[\"I3\",\"Issaquah\",\"King\"],[\"MODEL Y\",\"Puyallup\",\"Pierce\"],[\"MODEL 3\",\"Graham\",\"Pierce\"],[\"WRANGLER\",\"Gig Harbor\",\"Pierce\"],[\"LEAF\",\"Seattle\",\"King\"],[\"LEAF\",\"Tumwater\",\"Thurston\"],[\"VOLT\",\"Richland\",\"Benton\"],[\"MODEL Y\",\"Kirkland\",\"King\"],[\"MODEL 3\",\"Richland\",\"Benton\"],[\"AIR\",\"Bonney Lake\",\"Pierce\"],[\"MODEL Y\",\"Lynnwood\",\"Snohomish\"],[\"I4\",\"Seattle\",\"King\"],[\"MODEL Y\",\"Lynnwood\",\"Snohomish\"],[\"MODEL Y\",\"Seatac\",\"King\"],[\"MODEL Y\",\"Kirkland\",\"King\"],[\"MODEL S\",\"Bellingham\",\"Whatcom\"],[\"MODEL Y\",\"Wenatchee\",\"Chelan\"],[\"MUSTANG MACH-E\",\"Seattle\",\"King\"],[\"MODEL Y\",\"Cheney\",\"Spokane\"],[\"E-TRON\",\"Lacey\",\"Thurston\"],[\"I3\",\"Seattle\",\"King\"],[\"500\",\"Tukwila\",\"King\"],[\"MODEL 3\",\"Vancouver\",\"Clark\"],[\"LEAF\",\"Bellevue\",\"King\"],[\"MODEL Y\",\"Redmond\",\"King\"],[\"NIRO\",\"Spokane Valley\",\"Spokane\"],[\"MODEL Y\",\"Seattle\",\"King\"],[\"MODEL Y\",\"Vancouver\",\"Clark\"],[\"ARIYA\",\"Renton\",\"King\"],[\"MODEL S\",\"Blaine\",\"Whatcom\"],[\"MODEL X\",\"Colbert\",\"Spokane\"],[\"MODEL Y\",\"Ellensburg\",\"Kittitas\"],[\"MODEL Y\",\"Dupont\",\"Pierce\"],[\"R1S\",\"Gig Harbor\",\"Pierce\"],[\"MODEL Y\",\"Woodinville\",\"King\"],[\"X5\",\"Seattle\",\"King\"],[\"MODEL Y\",\"Bellevue\",\"King\"],[\"PRIUS PRIME (PHEV)\",\"Seattle\",\"King\"],[\"MODEL Y\",\"Lake Tapps\",\"Pierce\"],[\"MUSTANG MACH-E\",\"Seattle\",\"King\"],[\"EV6\",\"Lake Stevens\",\"Snohomish\"],[\"BLAZER\",\"Seattle\",\"King\"],[\"EV9\",\"Everett\",\"Snohomish\"],[\"MODEL 3\",\"Seattle\",\"King\"],[\"NIRO\",\"Duvall\",\"King\"],[\"MODEL 3\",\"Puyallup\",\"Pierce\"],[\"WRANGLER\",\"Tukwila\",\"King\"],[\"MODEL Y\",\"Tacoma\",\"Pierce\"],[\"MODEL 3\",\"Vancouver\",\"Clark\"],[\"LEAF\",\"Seattle\",\"King\"],[\"MODEL Y\",\"Kent\",\"King\"],[\"MODEL Y\",\"Bothell\",\"King\"],[\"MUSTANG MACH-E\",\"Kennewick\",\"Benton\"],[\"PROLOGUE\",\"Silverdale\",\"Kitsap\"],[\"IONIQ 5\",\"Seattle\",\"King\"],[\"MODEL Y\",\"Sammamish\",\"King\"],[\"MODEL 3\",\"Seattle\",\"King\"],[\"MODEL S\",\"Seattle\",\"King\"],[\"Q8\",\"Seattle\",\"King\"],[\"MODEL 3\",\"Seattle\",\"King\"],[\"PRIUS PRIME (PHEV)\",\"Ronald\",\"Kittitas\"],[\"CLARITY\",\"Seattle\",\"King\"],[\"MODEL Y\",\"Sammamish\",\"King\"],[\"MODEL X\",\"Spokane\",\"Spokane\"],[\"F-150\",\"Des Moines\",\"King\"],[\"PS2\",\"Fife\",\"Pierce\"],[\"LEAF\",\"Bellingham\",\"Whatcom\"],[\"MODEL S\",\"Wenatchee\",\"Chelan\"],[\"MODEL 3\",\"Lakewood\",\"Pierce\"],[\"MODEL Y\",\"Bothell\",\"Snohomish\"],[\"BOLT EUV\",\"Ocean Shores\",\"Grays Harbor\"],[\"C-MAX\",\"Kirkland\",\"King\"],[\"MODEL Y\",\"Colbert\",\"Spokane\"],[\"I4\",\"Redmond\",\"King\"],[\"VOLT\",\"Olympia\",\"Thurston\"],[\"MODEL Y\",\"Tacoma\",\"Pierce\"],[\"MODEL Y\",\"Renton\",\"King\"],[\"MODEL Y\",\"Bothell\",\"King\"],[\"MODEL Y\",\"Puyallup\",\"Pierce\"],[\"MODEL 3\",\"Seattle\",\"King\"],[\"MODEL 3\",\"Bellevue\",\"King\"],[\"MODEL Y\",\"Kirkland\",\"King\"],[\"X5\",\"Maple Valley\",\"King\"],[\"BOLT EUV\",\"Seattle\",\"King\"],[\"MODEL S\",\"Friday Harbor\",\"San Juan\"],[\"BOLT EV\",\"Seattle\",\"King\"],[\"KONA\",\"Seattle\",\"King\"],[\"MODEL Y\",\"Seattle\",\"King\"],[\"MODEL 3\",\"Longview\",\"Cowlitz\"],[\"MODEL 3\",\"Lake Stevens\",\"Snohomish\"],[\"MODEL Y\",\"Redmond\",\"King\"],[\"MODEL S\",\"Winlock\",\"Lewis\"],[\"PROLOGUE\",\"Yakima\",\"Yakima\"],[\"CHARGER\",\"Lynnwood\",\"Snohomish\"],[\"BLAZER\",\"Aberdeen\",\"Grays Harbor\"],[\"MODEL Y\",\"Vancouver\",\"Clark\"],[\"VOLT\",\"Port Angeles\",\"Clallam\"],[\"MODEL Y\",\"University Place\",\"Pierce\"],[\"LEAF\",\"Vancouver\",\"Clark\"],[\"R1S\",\"Vancouver\",\"Clark\"],[\"XC90\",\"Federal Way\",\"King\"],[\"PACIFICA\",\"Centralia\",\"Lewis\"],[\"ARIYA\",\"Seattle\",\"King\"],[\"LEAF\",\"Marysville\",\"Snohomish\"],[\"NIRO\",\"Kelso\",\"Cowlitz\"],[\"MODEL 3\",\"Brinnon\",\"Jefferson\"],[\"MODEL Y\",\"Lacey\",\"Thurston\"],[\"ID. BUZZ\",\"Kirkland\",\"King\"],[\"MODEL 3\",\"Vashon\",\"King\"],[\"MODEL Y\",\"Bothell\",\"Snohomish\"],[\"MODEL X\",\"Edmonds\",\"Snohomish\"],[\"MODEL Y\",\"Seattle\",\"King\"],[\"VOLT\",\"Ridgefield\",\"Clark\"],[\"MODEL 3\",\"Tacoma\",\"Pierce\"],[\"MODEL Y\",\"Issaquah\",\"King\"],[\"MODEL Y\",\"Bonney Lake\",\"Pierce\"],[\"WRANGLER\",\"Redmond\",\"King\"],[\"CHARGER\",\"Kennewick\",\"Benton\"],[\"NIRO\",\"Seatac\",\"King\"],[\"MODEL Y\",\"Seattle\",\"King\"],[\"WRANGLER\",\"Renton\",\"King\"],[\"LYRIQ\",\"Shoreline\",\"King\"],[\"MODEL Y\",\"Joint Base Lewis Mcchord\",\"Pierce\"],[\"MODEL 3\",\"Yelm\",\"Thurston\"],[\"F-150\",\"Seattle\",\"King\"],[\"MODEL Y\",\"Kalama\",\"Cowlitz\"],[\"BOLT EV\",\"Seattle\",\"King\"],[\"MODEL 3\",\"Seattle\",\"King\"],[\"BOLT EV\",\"Sequim\",\"Clallam\"],[\"MODEL Y\",\"Lynnwood\",\"Snohomish\"],[\"MODEL Y\",\"Duvall\",\"King\"],[\"MODEL Y\",\"Sultan\",\"Snohomish\"],[\"C-MAX\",\"Port Townsend\",\"Jefferson\"],[\"SPORTAGE\",\"Kenmore\",\"King\"],[\"MODEL 3\",\"Seattle\",\"King\"],[\"MODEL Y\",\"Bothell\",\"Snohomish\"],[\"MODEL Y\",\"Bellevue\",\"King\"],[\"MODEL 3\",\"Spokane Valley\",\"Spokane\"],[\"R1T\",\"Vancouver\",\"Clark\"],[\"MODEL 3\",\"Federal Way\",\"King\"],[\"MODEL 3\",\"Renton\",\"King\"],[\"PACIFICA\",\"Spokane Valley\",\"Spokane\"],[\"EQE-CLASS SUV\",\"Bellingham\",\"Whatcom\"],[\"Q8\",\"Seattle\",\"King\"],[\"MODEL X\",\"Carnation\",\"King\"],[\"CX-90\",\"Seattle\",\"King\"],[\"B-CLASS\",\"Shoreline\",\"King\"],[\"MODEL Y\",\"Issaquah\",\"King\"],[\"SORENTO\",\"Buckley\",\"Pierce\"],[\"MODEL X\",\"Seattle\",\"King\"],[\"SPORTAGE\",\"Marysville\",\"Snohomish\"],[\"XC90\",\"Snoqualmie\",\"King\"],[\"MODEL Y\",\"Lynnwood\",\"Snohomish\"],[\"ID.4\",\"Vancouver\",\"Clark\"],[\"MODEL S\",\"Clinton\",\"Island\"],[\"MODEL Y\",\"Bellevue\",\"King\"],[\"MODEL S\",\"Bellevue\",\"King\"],[\"X5\",\"Orondo\",\"Douglas\"],[\"IONIQ 5\",\"Snohomish\",\"Snohomish\"],[\"EQE-CLASS SEDAN\",\"Redmond\",\"King\"],[\"LEAF\",\"Seattle\",\"King\"],[\"EV6\",\"Lacey\",\"Thurston\"],[\"IX\",\"Lynnwood\",\"Snohomish\"],[\"MODEL X\",\"Bellevue\",\"King\"],[\"Q5 E\",\"Lake Tapps\",\"Pierce\"],[\"BOLT EUV\",\"Seattle\",\"King\"],[\"MODEL Y\",\"Bellevue\",\"King\"],[\"MODEL Y\",\"Mattawa\",\"Grant\"],[\"MODEL 3\",\"Bothell\",\"Snohomish\"],[\"ID.4\",\"Aberdeen\",\"Grays Harbor\"],[\"MODEL Y\",\"Issaquah\",\"King\"],[\"C40\",\"Seattle\",\"King\"],[\"MODEL Y\",\"Kirkland\",\"King\"],[\"MODEL Y\",\"Bothell\",\"Snohomish\"],[\"MODEL X\",\"Black Diamond\",\"King\"],[\"MODEL X\",\"Vancouver\",\"Clark\"],[\"X5\",\"Auburn\",\"King\"],[\"MODEL Y\",\"Burien\",\"King\"],[\"LEAF\",\"Shoreline\",\"King\"],[\"MODEL 3\",\"Seattle\",\"King\"],[\"ARIYA\",\"Marysville\",\"Snohomish\"],[\"PACIFICA\",\"Renton\",\"King\"],[\"MODEL X\",\"Pasco\",\"Franklin\"],[\"LEAF\",\"Seattle\",\"King\"],[\"PACIFICA\",\"Everett\",\"Snohomish\"],[\"LEAF\",\"Snohomish\",\"Snohomish\"],[\"MODEL Y\",\"Seattle\",\"King\"],[\"MODEL 3\",\"Port Angeles\",\"Clallam\"],[\"MODEL 3\",\"Vancouver\",\"Clark\"],[\"NIRO\",\"Seattle\",\"King\"],[\"ID.4\",\"Mercer Island\",\"King\"],[\"MUSTANG MACH-E\",\"Buckley\",\"Pierce\"],[\"X5\",\"Bothell\",\"Snohomish\"],[\"MUSTANG MACH-E\",\"Olympia\",\"Thurston\"],[\"MODEL 3\",\"Enumclaw\",\"King\"],[\"MODEL 3\",\"Seattle\",\"King\"],[\"MODEL 3\",\"Bellevue\",\"King\"],[\"MODEL 3\",\"Lynnwood\",\"Snohomish\"],[\"MODEL Y\",\"Redmond\",\"King\"],[\"EV9\",\"Snohomish\",\"Snohomish\"],[\"MODEL 3\",\"Bellevue\",\"King\"],[\"MODEL 3\",\"Bellevue\",\"King\"],[\"MODEL Y\",\"Issaquah\",\"King\"],[\"MODEL 3\",\"Snohomish\",\"Snohomish\"],[\"Q8\",\"Seattle\",\"King\"],[\"MODEL Y\",\"Fife\",\"Pierce\"],[\"SORENTO\",\"Tacoma\",\"Pierce\"],[\"MODEL 3\",\"Redmond\",\"King\"],[\"MODEL 3\",\"Normandy Park\",\"King\"],[\"EQUINOX\",\"Bothell\",\"Snohomish\"],[\"BOLT EV\",\"Seattle\",\"King\"],[\"E-TRON\",\"Seattle\",\"King\"],[\"IONIQ 5\",\"Leavenworth\",\"Chelan\"],[\"LEAF\",\"Seattle\",\"King\"],[\"IONIQ 6\",\"Snohomish\",\"Snohomish\"],[\"MUSTANG MACH-E\",\"Snohomish\",\"Snohomish\"],[\"MODEL X\",\"Mill Creek\",\"Snohomish\"],[\"MODEL 3\",\"Anacortes\",\"Skagit\"],[\"ARIYA\",\"Buckley\",\"Pierce\"],[\"MODEL X\",\"Bellevue\",\"King\"],[\"VOLT\",\"Everett\",\"Snohomish\"],[\"MODEL X\",\"Bothell\",\"Snohomish\"],[\"MUSTANG MACH-E\",\"Seattle\",\"King\"],[\"CYBERTRUCK\",\"Auburn\",\"King\"],[\"LEAF\",\"Vancouver\",\"Clark\"],[\"MODEL Y\",\"Lake Stevens\",\"Snohomish\"],[\"LEAF\",\"Seattle\",\"King\"],[\"XC60\",\"Bremerton\",\"Kitsap\"],[\"MODEL Y\",\"Bothell\",\"Snohomish\"],[\"SORENTO\",\"Anacortes\",\"Skagit\"],[\"C40\",\"Auburn\",\"Pierce\"],[\"MODEL Y\",\"Seattle\",\"King\"],[\"IONIQ 5\",\"Federal Way\",\"King\"],[\"MODEL Y\",\"Woodinville\",\"King\"],[\"MODEL S\",\"Bellingham\",\"Whatcom\"],[\"FUSION\",\"Kingston\",\"Kitsap\"],[\"MODEL 3\",\"Lynnwood\",\"Snohomish\"],[\"PACIFICA\",\"Camas\",\"Clark\"],[\"CYBERTRUCK\",\"Cle Elum\",\"Kittitas\"],[\"IONIQ 5\",\"Sequim\",\"Clallam\"],[\"MODEL 3\",\"Carnation\",\"King\"],[\"LEAF\",\"Bothell\",\"King\"],[\"ID. BUZZ\",\"Bellingham\",\"Whatcom\"],[\"MODEL 3\",\"Auburn\",\"King\"],[\"MODEL Y\",\"Olympia\",\"Thurston\"],[\"SOLTERRA\",\"Spokane\",\"Spokane\"],[\"MODEL 3\",\"Woodinville\",\"King\"],[\"BOLT EV\",\"Washougal\",\"Skamania\"],[\"MODEL Y\",\"Bothell\",\"Snohomish\"],[\"ID.4\",\"Shoreline\",\"King\"],[\"EQUINOX\",\"Vancouver\",\"Clark\"],[\"MODEL Y\",\"Orting\",\"Pierce\"],[\"MODEL Y\",\"Seattle\",\"King\"],[\"HARDTOP\",\"Bellevue\",\"King\"],[\"PRIUS\",\"Sequim\",\"Clallam\"],[\"MODEL S\",\"Seattle\",\"King\"],[\"TUCSON\",\"Puyallup\",\"Pierce\"],[\"MODEL 3\",\"Renton\",\"King\"],[\"MODEL Y\",\"Freeland\",\"Island\"],[\"MODEL Y\",\"Bonney Lake\",\"Pierce\"],[\"MODEL Y\",\"Eatonville\",\"Pierce\"],[\"MODEL 3\",\"Issaquah\",\"King\"],[\"PRIUS PRIME (PHEV)\",\"Poulsbo\",\"Kitsap\"],[\"MODEL Y\",\"Bellevue\",\"King\"],[\"XC40\",\"Bainbridge Island\",\"Kitsap\"],[\"MODEL 3\",\"Seattle\",\"King\"],[\"PRIUS\",\"Shoreline\",\"King\"],[\"VOLT\",\"Vancouver\",\"Clark\"],[\"PACIFICA\",\"Tacoma\",\"Pierce\"],[\"BZ4X\",\"Bothell\",\"Snohomish\"],[\"MODEL 3\",\"Seattle\",\"King\"],[\"MODEL 3\",\"Seattle\",\"King\"],[\"XC40\",\"Seattle\",\"King\"],[\"R1T\",\"Tacoma\",\"Pierce\"],[\"BOLT EUV\",\"Spokane\",\"Spokane\"],[\"MODEL X\",\"Redmond\",\"King\"],[\"PACIFICA\",\"Kent\",\"King\"],[\"RANGE ROVER\",\"Seattle\",\"King\"],[\"NIRO\",\"Olympia\",\"Thurston\"],[\"MODEL Y\",\"Kent\",\"King\"],[\"MUSTANG MACH-E\",\"Olympia\",\"Thurston\"],[\"MODEL 3\",\"Bothell\",\"Snohomish\"],[\"MODEL X\",\"Seattle\",\"King\"],[\"MUSTANG MACH-E\",\"Olympia\",\"Thurston\"],[\"BOLT EV\",\"Lacey\",\"Thurston\"],[\"VOLT\",\"Olympia\",\"Thurston\"],[\"MODEL Y\",\"Renton\",\"King\"],[\"ARIYA\",\"Edmonds\",\"Snohomish\"],[\"FUSION\",\"Walla Walla\",\"Walla Walla\"],[\"E-GOLF\",\"Seattle\",\"King\"],[\"MODEL Y\",\"Auburn\",\"King\"],[\"MODEL 3\",\"Seattle\",\"King\"],[\"R1S\",\"Edmonds\",\"Snohomish\"],[\"MODEL 3\",\"Bothell\",\"King\"],[\"MODEL 3\",\"Tacoma\",\"Pierce\"],[\"SPORTAGE\",\"Ferndale\",\"Whatcom\"],[\"MODEL 3\",\"Federal Way\",\"King\"],[\"MODEL Y\",\"Snohomish\",\"Snohomish\"],[\"MODEL S\",\"Bothell\",\"Snohomish\"],[\"RAV4 PRIME (PHEV)\",\"Vancouver\",\"Clark\"],[\"R1T\",\"Puyallup\",\"Pierce\"],[\"BLAZER\",\"Spokane\",\"Spokane\"],[\"LEAF\",\"Kirkland\",\"King\"],[\"MODEL Y\",\"Maple Falls\",\"Whatcom\"],[\"LEAF\",\"Kennewick\",\"Benton\"],[\"R1S\",\"Seattle\",\"King\"],[\"MODEL X\",\"Kirkland\",\"King\"],[\"MODEL 3\",\"Sunnyside\",\"Yakima\"],[\"MODEL 3\",\"Shoreline\",\"King\"],[\"MODEL 3\",\"Seattle\",\"King\"],[\"MODEL Y\",\"Redmond\",\"King\"],[\"MODEL S\",\"Camas\",\"Clark\"],[\"I-PACE\",\"Issaquah\",\"King\"],[\"IONIQ\",\"Vancouver\",\"Clark\"],[\"VOLT\",\"Lake Forest Park\",\"King\"],[\"ESCAPE\",\"Lynnwood\",\"Snohomish\"],[\"MODEL Y\",\"Gig Harbor\",\"Pierce\"],[\"RAV4 PRIME (PHEV)\",\"Sequim\",\"Clallam\"],[\"CLARITY\",\"Bellevue\",\"King\"],[\"MODEL Y\",\"Issaquah\",\"King\"],[\"F-150\",\"Pasco\",\"Franklin\"],[\"SOLTERRA\",\"Seattle\",\"King\"],[\"MODEL X\",\"Sammamish\",\"King\"],[\"XC60\",\"Redmond\",\"King\"],[\"MODEL Y\",\"Kirkland\",\"King\"],[\"MODEL 3\",\"Camas\",\"Clark\"],[\"EDV\",\"Tukwila\",\"King\"],[\"EV6\",\"Tacoma\",\"Pierce\"],[\"LEAF\",\"Kirkland\",\"King\"],[\"MUSTANG MACH-E\",\"Keyport\",\"Kitsap\"],[\"I3\",\"Seattle\",\"King\"],[\"BOLT EV\",\"Edmonds\",\"Snohomish\"],[\"IX\",\"Clinton\",\"Island\"],[\"BZ4X\",\"Lynnwood\",\"Snohomish\"],[\"MODEL Y\",\"Redmond\",\"King\"],[\"PROLOGUE\",\"Moses Lake\",\"Grant\"],[\"CLARITY\",\"Everett\",\"Snohomish\"],[\"MODEL 3\",\"Everett\",\"Snohomish\"],[\"GLC-CLASS\",\"Redmond\",\"King\"],[\"MODEL 3\",\"Bellevue\",\"King\"],[\"X5\",\"Covington\",\"King\"],[\"EV6\",\"Tumwater\",\"Thurston\"],[\"R1S\",\"Snoqualmie\",\"King\"],[\"F-150\",\"Redmond\",\"King\"],[\"MODEL Y\",\"Bothell\",\"Snohomish\"],[\"LEAF\",\"Spokane Valley\",\"Spokane\"],[\"MODEL Y\",\"Seattle\",\"King\"],[\"PROLOGUE\",\"Federal Way\",\"King\"],[\"BOLT EV\",\"Long Beach\",\"Pacific\"],[\"MODEL Y\",\"Mercer Island\",\"King\"],[\"MODEL 3\",\"Bellevue\",\"King\"],[\"MODEL Y\",\"Mount Vernon\",\"Skagit\"],[\"ESCAPE\",\"Everett\",\"Snohomish\"],[\"MODEL S\",\"Kirkland\",\"King\"],[\"MODEL X\",\"Snoqualmie\",\"King\"],[\"MODEL 3\",\"Bonney Lake\",\"Pierce\"],[\"MODEL Y\",\"Renton\",\"King\"],[\"F-150\",\"North Bend\",\"King\"],[\"SOLTERRA\",\"Tacoma\",\"Pierce\"],[\"LEAF\",\"Lake Stevens\",\"Snohomish\"],[\"RAV4 PRIME (PHEV)\",\"Spokane Valley\",\"Spokane\"],[\"I4\",\"Newcastle\",\"King\"],[\"SPORTAGE\",\"Bremerton\",\"Kitsap\"],[\"XC60\",\"Lacey\",\"Thurston\"],[\"AVIATOR\",\"Vancouver\",\"Clark\"],[\"IONIQ 6\",\"Redmond\",\"King\"],[\"MODEL Y\",\"Federal Way\",\"King\"],[\"AVIATOR\",\"Rainier\",\"Thurston\"],[\"MODEL 3\",\"Seattle\",\"King\"],[\"MODEL Y\",\"Sammamish\",\"King\"],[\"OCEAN\",\"Seattle\",\"King\"],[\"IONIQ 5\",\"Woodinville\",\"King\"],[\"MUSTANG MACH-E\",\"Federal Way\",\"King\"],[\"ID.4\",\"Mount Vernon\",\"Skagit\"],[\"SOLTERRA\",\"Everson\",\"Whatcom\"],[\"LEAF\",\"Olympia\",\"Thurston\"],[\"MODEL 3\",\"Seatac\",\"King\"],[\"KONA\",\"Olympia\",\"Thurston\"],[\"WRANGLER\",\"Port Angeles\",\"Clallam\"],[\"MODEL 3\",\"Bellevue\",\"King\"],[\"MODEL Y\",\"Snohomish\",\"Snohomish\"],[\"TAYCAN\",\"Bellevue\",\"King\"],[\"MUSTANG MACH-E\",\"Kent\",\"King\"],[\"PACIFICA\",\"Renton\",\"King\"],[\"PROLOGUE\",\"Covington\",\"King\"],[\"MODEL Y\",\"Kirkland\",\"King\"],[\"FUSION\",\"Vancouver\",\"Clark\"],[\"LYRIQ\",\"Seattle\",\"King\"],[\"MODEL Y\",\"Mercer Island\",\"King\"],[\"XC90\",\"University Place\",\"Pierce\"],[\"MODEL 3\",\"Gig Harbor\",\"Pierce\"],[\"MODEL 3\",\"Seattle\",\"King\"],[\"PRIUS\",\"Kirkland\",\"King\"],[\"MODEL Y\",\"Bellevue\",\"King\"],[\"MUSTANG MACH-E\",\"Gig Harbor\",\"Pierce\"],[\"MODEL 3\",\"Seattle\",\"King\"],[\"GV60\",\"South Hill\",\"Pierce\"],[\"FUSION\",\"Ashford\",\"Lewis\"],[\"MUSTANG MACH-E\",\"Mercer Island\",\"King\"],[\"LEAF\",\"Bellingham\",\"Whatcom\"],[\"EV6\",\"Oak Harbor\",\"Island\"],[\"PACIFICA\",\"Normandy Park\",\"King\"],[\"BOLT EV\",\"Federal Way\",\"King\"],[\"X5\",\"Olympia\",\"Thurston\"],[\"LEAF\",\"Bothell\",\"Snohomish\"],[\"R1T\",\"Mercer Island\",\"King\"],[\"WRANGLER\",\"South Hill\",\"Pierce\"],[\"Q6\",\"Seattle\",\"King\"],[\"MODEL 3\",\"Vancouver\",\"Clark\"],[\"RAV4 PRIME (PHEV)\",\"Federal Way\",\"King\"],[\"MODEL Y\",\"Arlington\",\"Snohomish\"],[\"MODEL 3\",\"Seattle\",\"King\"],[\"IONIQ 5\",\"Bellevue\",\"King\"],[\"F-150\",\"Mill Creek\",\"Snohomish\"],[\"GRAND CHEROKEE\",\"Toledo\",\"Lewis\"],[\"IONIQ 5\",\"Seattle\",\"King\"],[\"LEAF\",\"Redmond\",\"King\"],[\"MODEL Y\",\"Federal Way\",\"King\"],[\"TUCSON\",\"Kennewick\",\"Benton\"],[\"MODEL 3\",\"Renton\",\"King\"],[\"NIRO\",\"Seattle\",\"King\"],[\"MODEL 3\",\"Gig Harbor\",\"Pierce\"],[\"MODEL Y\",\"Joint Base Lewis Mcchord\",\"Pierce\"],[\"MODEL Y\",\"Bremerton\",\"Kitsap\"],[\"MODEL Y\",\"Sammamish\",\"King\"],[\"RAV4 PRIME (PHEV)\",\"Rochester\",\"Lewis\"],[\"RAV4 PRIME (PHEV)\",\"Renton\",\"King\"],[\"I-MIEV\",\"Lopez Island\",\"San Juan\"],[\"PROLOGUE\",\"Greenbank\",\"Island\"],[\"MODEL Y\",\"Woodinville\",\"Snohomish\"],[\"ID.4\",\"Seattle\",\"King\"],[\"530E\",\"Bellingham\",\"Whatcom\"],[\"PS2\",\"Bothell\",\"Snohomish\"],[\"LEAF\",\"Bellingham\",\"Whatcom\"],[\"MODEL Y\",\"Seattle\",\"King\"],[\"PACIFICA\",\"Sultan\",\"Snohomish\"],[\"MODEL 3\",\"Kirkland\",\"King\"],[\"WRANGLER\",\"Kalama\",\"Cowlitz\"],[\"MODEL S\",\"Renton\",\"King\"],[\"VOLT\",\"Bothell\",\"Snohomish\"],[\"ID.4\",\"North Bend\",\"King\"],[\"C-MAX\",\"Vancouver\",\"Clark\"],[\"MODEL Y\",\"Tacoma\",\"Pierce\"],[\"OPTIMA\",\"Bremerton\",\"Kitsap\"],[\"MODEL 3\",\"Everett\",\"Snohomish\"],[\"R1T\",\"Burien\",\"King\"],[\"MODEL Y\",\"Burien\",\"King\"],[\"PRIUS\",\"Chehalis\",\"Lewis\"],[\"MODEL 3\",\"Sammamish\",\"King\"],[\"X5\",\"Renton\",\"King\"],[\"MODEL Y\",\"Seattle\",\"King\"],[\"XC90\",\"Vancouver\",\"Clark\"],[\"C-MAX\",\"Lake Stevens\",\"Snohomish\"],[\"Q6\",\"Anacortes\",\"Skagit\"],[\"LEAF\",\"Bellingham\",\"Whatcom\"],[\"TUCSON\",\"Seattle\",\"King\"],[\"E-CLASS\",\"Lakewood\",\"Pierce\"],[\"I4\",\"Lake Stevens\",\"Snohomish\"],[\"ESCAPE\",\"Bothell\",\"Snohomish\"],[\"XM\",\"Auburn\",\"King\"],[\"CX-70\",\"Tenino\",\"Thurston\"],[\"RZ\",\"Lynnwood\",\"Snohomish\"],[\"BOLT EUV\",\"Mount Vernon\",\"Skagit\"],[\"I4\",\"Woodinville\",\"King\"],[\"MODEL 3\",\"Sedro-Woolley\",\"Skagit\"],[\"MODEL Y\",\"Bothell\",\"Snohomish\"],[\"MODEL 3\",\"Roy\",\"Pierce\"],[\"MODEL X\",\"Bothell\",\"Snohomish\"],[\"LEAF\",\"Everett\",\"Snohomish\"],[\"MODEL X\",\"Bellingham\",\"Whatcom\"],[\"BZ4X\",\"Camas\",\"Clark\"],[\"MODEL 3\",\"Federal Way\",\"King\"],[\"MODEL Y\",\"Kent\",\"King\"],[\"BOLT EV\",\"Seattle\",\"King\"],[\"EQUINOX\",\"Snohomish\",\"Snohomish\"],[\"MODEL 3\",\"Vancouver\",\"Clark\"],[\"NIRO\",\"Burlington\",\"Skagit\"],[\"MODEL Y\",\"Federal Way\",\"King\"]],\"hovertemplate\":\"\\u003cb\\u003e%{hovertext}\\u003c\\u002fb\\u003e\\u003cbr\\u003e\\u003cbr\\u003eLatitude=%{lat}\\u003cbr\\u003eLongitude=%{lon}\\u003cbr\\u003eModel=%{customdata[0]}\\u003cbr\\u003eCity=%{customdata[1]}\\u003cbr\\u003eCounty=%{customdata[2]}\\u003cextra\\u003e\\u003c\\u002fextra\\u003e\",\"hovertext\":[\"TESLA\",\"NISSAN\",\"TESLA\",\"RIVIAN\",\"TESLA\",\"KIA\",\"NISSAN\",\"TESLA\",\"BMW\",\"CADILLAC\",\"LEXUS\",\"TESLA\",\"TESLA\",\"HONDA\",\"KIA\",\"KIA\",\"TESLA\",\"CHEVROLET\",\"CADILLAC\",\"JEEP\",\"NISSAN\",\"FORD\",\"TESLA\",\"TESLA\",\"FORD\",\"TOYOTA\",\"BMW\",\"TESLA\",\"TESLA\",\"FORD\",\"TESLA\",\"TESLA\",\"TESLA\",\"TESLA\",\"KIA\",\"NISSAN\",\"NISSAN\",\"TOYOTA\",\"KIA\",\"TOYOTA\",\"VOLKSWAGEN\",\"TESLA\",\"FORD\",\"NISSAN\",\"CHRYSLER\",\"RIVIAN\",\"CHEVROLET\",\"CHEVROLET\",\"FISKER\",\"TESLA\",\"TOYOTA\",\"NISSAN\",\"NISSAN\",\"MITSUBISHI\",\"KIA\",\"TESLA\",\"RIVIAN\",\"TESLA\",\"TESLA\",\"TESLA\",\"TESLA\",\"TESLA\",\"TESLA\",\"TESLA\",\"TESLA\",\"FORD\",\"TESLA\",\"HYUNDAI\",\"TESLA\",\"TESLA\",\"TESLA\",\"TESLA\",\"TESLA\",\"TESLA\",\"NISSAN\",\"TESLA\",\"FORD\",\"TESLA\",\"TESLA\",\"NISSAN\",\"TESLA\",\"MINI\",\"VOLVO\",\"NISSAN\",\"TESLA\",\"TESLA\",\"KIA\",\"TESLA\",\"TESLA\",\"NISSAN\",\"TESLA\",\"NISSAN\",\"TESLA\",\"SUBARU\",\"TESLA\",\"CHRYSLER\",\"RIVIAN\",\"NISSAN\",\"DODGE\",\"TESLA\",\"NISSAN\",\"KIA\",\"KIA\",\"FORD\",\"TESLA\",\"TESLA\",\"AUDI\",\"CHEVROLET\",\"CHEVROLET\",\"TESLA\",\"HYUNDAI\",\"NISSAN\",\"TESLA\",\"TESLA\",\"TESLA\",\"TOYOTA\",\"MAZDA\",\"JEEP\",\"TESLA\",\"TESLA\",\"TESLA\",\"TESLA\",\"TESLA\",\"DODGE\",\"TESLA\",\"TESLA\",\"TESLA\",\"FIAT\",\"TESLA\",\"VOLKSWAGEN\",\"NISSAN\",\"TESLA\",\"HYUNDAI\",\"TESLA\",\"CHEVROLET\",\"KIA\",\"TESLA\",\"TESLA\",\"HYUNDAI\",\"NISSAN\",\"TESLA\",\"CHEVROLET\",\"VOLKSWAGEN\",\"FORD\",\"TESLA\",\"KIA\",\"TESLA\",\"RIVIAN\",\"VOLKSWAGEN\",\"TOYOTA\",\"TESLA\",\"ACURA\",\"TOYOTA\",\"FORD\",\"TESLA\",\"FORD\",\"BMW\",\"BMW\",\"TESLA\",\"BMW\",\"CHEVROLET\",\"MITSUBISHI\",\"CHRYSLER\",\"TESLA\",\"HYUNDAI\",\"TESLA\",\"JEEP\",\"TESLA\",\"TESLA\",\"FORD\",\"TOYOTA\",\"TOYOTA\",\"JEEP\",\"ACURA\",\"CHRYSLER\",\"TESLA\",\"TESLA\",\"FORD\",\"TESLA\",\"HYUNDAI\",\"MITSUBISHI\",\"RIVIAN\",\"TESLA\",\"TOYOTA\",\"CHEVROLET\",\"TESLA\",\"TESLA\",\"TESLA\",\"AUDI\",\"TESLA\",\"NISSAN\",\"VOLVO\",\"TESLA\",\"BMW\",\"TESLA\",\"TESLA\",\"KIA\",\"JEEP\",\"TESLA\",\"TESLA\",\"NISSAN\",\"MINI\",\"TOYOTA\",\"NISSAN\",\"NISSAN\",\"AUDI\",\"FISKER\",\"RIVIAN\",\"CHEVROLET\",\"KIA\",\"TESLA\",\"TOYOTA\",\"FORD\",\"TESLA\",\"TESLA\",\"TESLA\",\"RIVIAN\",\"CHEVROLET\",\"TESLA\",\"TESLA\",\"TOYOTA\",\"CHRYSLER\",\"TESLA\",\"FORD\",\"TESLA\",\"PORSCHE\",\"TESLA\",\"FORD\",\"TESLA\",\"TOYOTA\",\"HONDA\",\"TESLA\",\"TESLA\",\"KIA\",\"KIA\",\"FORD\",\"TESLA\",\"TESLA\",\"VOLKSWAGEN\",\"TESLA\",\"TOYOTA\",\"TOYOTA\",\"TESLA\",\"CHEVROLET\",\"VOLKSWAGEN\",\"FORD\",\"HYUNDAI\",\"TESLA\",\"TESLA\",\"TESLA\",\"CHEVROLET\",\"TESLA\",\"TESLA\",\"TESLA\",\"VOLKSWAGEN\",\"TESLA\",\"VOLVO\",\"KIA\",\"TESLA\",\"TESLA\",\"FORD\",\"KIA\",\"NISSAN\",\"VOLVO\",\"TESLA\",\"TESLA\",\"KIA\",\"NISSAN\",\"HYUNDAI\",\"TESLA\",\"PORSCHE\",\"TESLA\",\"TESLA\",\"HONDA\",\"TESLA\",\"KIA\",\"LEXUS\",\"TESLA\",\"NISSAN\",\"NISSAN\",\"VOLVO\",\"TESLA\",\"LEXUS\",\"TESLA\",\"TESLA\",\"TESLA\",\"TESLA\",\"VOLVO\",\"GMC\",\"TESLA\",\"TESLA\",\"HYUNDAI\",\"TESLA\",\"TESLA\",\"TESLA\",\"TESLA\",\"TESLA\",\"TESLA\",\"PORSCHE\",\"LEXUS\",\"FORD\",\"FORD\",\"TESLA\",\"BMW\",\"RIVIAN\",\"MAZDA\",\"CHRYSLER\",\"TOYOTA\",\"TESLA\",\"FORD\",\"FORD\",\"VOLKSWAGEN\",\"TESLA\",\"TESLA\",\"TESLA\",\"TOYOTA\",\"TESLA\",\"MERCEDES-BENZ\",\"TESLA\",\"TESLA\",\"BMW\",\"TOYOTA\",\"CHEVROLET\",\"BMW\",\"MERCEDES-BENZ\",\"TESLA\",\"TESLA\",\"CHEVROLET\",\"TESLA\",\"TESLA\",\"RIVIAN\",\"HYUNDAI\",\"CHEVROLET\",\"TESLA\",\"KIA\",\"VOLKSWAGEN\",\"TESLA\",\"TESLA\",\"VOLVO\",\"RIVIAN\",\"TESLA\",\"TOYOTA\",\"CHEVROLET\",\"CHEVROLET\",\"TESLA\",\"TESLA\",\"TESLA\",\"TESLA\",\"CHRYSLER\",\"CHEVROLET\",\"TESLA\",\"TESLA\",\"TESLA\",\"TESLA\",\"VOLVO\",\"NISSAN\",\"FORD\",\"NISSAN\",\"RIVIAN\",\"FORD\",\"TESLA\",\"LEXUS\",\"TESLA\",\"TESLA\",\"TESLA\",\"VOLKSWAGEN\",\"TESLA\",\"TESLA\",\"TESLA\",\"CHEVROLET\",\"TESLA\",\"CHEVROLET\",\"TESLA\",\"NISSAN\",\"TESLA\",\"KIA\",\"NISSAN\",\"NISSAN\",\"TESLA\",\"TESLA\",\"RIVIAN\",\"TESLA\",\"AUDI\",\"TESLA\",\"TESLA\",\"TESLA\",\"RIVIAN\",\"TESLA\",\"FORD\",\"TESLA\",\"TESLA\",\"CHEVROLET\",\"NISSAN\",\"TESLA\",\"TESLA\",\"TESLA\",\"TOYOTA\",\"NISSAN\",\"TESLA\",\"TESLA\",\"NISSAN\",\"TESLA\",\"KIA\",\"CHEVROLET\",\"NISSAN\",\"NISSAN\",\"TESLA\",\"RIVIAN\",\"TESLA\",\"TESLA\",\"PORSCHE\",\"TESLA\",\"NISSAN\",\"KIA\",\"RIVIAN\",\"RIVIAN\",\"TESLA\",\"HYUNDAI\",\"PORSCHE\",\"CHEVROLET\",\"HYUNDAI\",\"TESLA\",\"AUDI\",\"VOLVO\",\"NISSAN\",\"CHEVROLET\",\"NISSAN\",\"HONDA\",\"TESLA\",\"TESLA\",\"TESLA\",\"TESLA\",\"TESLA\",\"FORD\",\"FORD\",\"TESLA\",\"TOYOTA\",\"TESLA\",\"TESLA\",\"KIA\",\"LUCID\",\"RIVIAN\",\"RIVIAN\",\"TOYOTA\",\"BMW\",\"BMW\",\"TESLA\",\"TESLA\",\"VOLVO\",\"JEEP\",\"NISSAN\",\"TESLA\",\"KIA\",\"TESLA\",\"KIA\",\"NISSAN\",\"HONDA\",\"NISSAN\",\"KIA\",\"CHEVROLET\",\"CHEVROLET\",\"TESLA\",\"TOYOTA\",\"TESLA\",\"FORD\",\"HYUNDAI\",\"NISSAN\",\"TESLA\",\"TESLA\",\"TESLA\",\"TESLA\",\"TESLA\",\"JEEP\",\"CHEVROLET\",\"TESLA\",\"MINI\",\"TOYOTA\",\"TESLA\",\"BMW\",\"KIA\",\"VOLKSWAGEN\",\"AUDI\",\"TOYOTA\",\"HYUNDAI\",\"KIA\",\"VOLKSWAGEN\",\"TESLA\",\"TESLA\",\"TESLA\",\"HYUNDAI\",\"HYUNDAI\",\"HYUNDAI\",\"HONDA\",\"CHRYSLER\",\"TOYOTA\",\"FORD\",\"TOYOTA\",\"NISSAN\",\"TESLA\",\"RIVIAN\",\"TESLA\",\"BMW\",\"MERCEDES-BENZ\",\"FIAT\",\"VOLKSWAGEN\",\"TESLA\",\"CHRYSLER\",\"TESLA\",\"TESLA\",\"HYUNDAI\",\"AUDI\",\"TESLA\",\"TESLA\",\"TESLA\",\"TESLA\",\"HYUNDAI\",\"CHEVROLET\",\"HYUNDAI\",\"FORD\",\"TESLA\",\"TESLA\",\"SUBARU\",\"BMW\",\"TESLA\",\"TESLA\",\"JEEP\",\"NISSAN\",\"NISSAN\",\"CHEVROLET\",\"TESLA\",\"TESLA\",\"LUCID\",\"TESLA\",\"BMW\",\"TESLA\",\"TESLA\",\"TESLA\",\"TESLA\",\"TESLA\",\"FORD\",\"TESLA\",\"AUDI\",\"BMW\",\"FIAT\",\"TESLA\",\"NISSAN\",\"TESLA\",\"KIA\",\"TESLA\",\"TESLA\",\"NISSAN\",\"TESLA\",\"TESLA\",\"TESLA\",\"TESLA\",\"RIVIAN\",\"TESLA\",\"BMW\",\"TESLA\",\"TOYOTA\",\"TESLA\",\"FORD\",\"KIA\",\"CHEVROLET\",\"KIA\",\"TESLA\",\"KIA\",\"TESLA\",\"JEEP\",\"TESLA\",\"TESLA\",\"NISSAN\",\"TESLA\",\"TESLA\",\"FORD\",\"HONDA\",\"HYUNDAI\",\"TESLA\",\"TESLA\",\"TESLA\",\"AUDI\",\"TESLA\",\"TOYOTA\",\"HONDA\",\"TESLA\",\"TESLA\",\"FORD\",\"POLESTAR\",\"NISSAN\",\"TESLA\",\"TESLA\",\"TESLA\",\"CHEVROLET\",\"FORD\",\"TESLA\",\"BMW\",\"CHEVROLET\",\"TESLA\",\"TESLA\",\"TESLA\",\"TESLA\",\"TESLA\",\"TESLA\",\"TESLA\",\"BMW\",\"CHEVROLET\",\"TESLA\",\"CHEVROLET\",\"HYUNDAI\",\"TESLA\",\"TESLA\",\"TESLA\",\"TESLA\",\"TESLA\",\"HONDA\",\"DODGE\",\"CHEVROLET\",\"TESLA\",\"CHEVROLET\",\"TESLA\",\"NISSAN\",\"RIVIAN\",\"VOLVO\",\"CHRYSLER\",\"NISSAN\",\"NISSAN\",\"KIA\",\"TESLA\",\"TESLA\",\"VOLKSWAGEN\",\"TESLA\",\"TESLA\",\"TESLA\",\"TESLA\",\"CHEVROLET\",\"TESLA\",\"TESLA\",\"TESLA\",\"JEEP\",\"DODGE\",\"KIA\",\"TESLA\",\"JEEP\",\"CADILLAC\",\"TESLA\",\"TESLA\",\"FORD\",\"TESLA\",\"CHEVROLET\",\"TESLA\",\"CHEVROLET\",\"TESLA\",\"TESLA\",\"TESLA\",\"FORD\",\"KIA\",\"TESLA\",\"TESLA\",\"TESLA\",\"TESLA\",\"RIVIAN\",\"TESLA\",\"TESLA\",\"CHRYSLER\",\"MERCEDES-BENZ\",\"AUDI\",\"TESLA\",\"MAZDA\",\"MERCEDES-BENZ\",\"TESLA\",\"KIA\",\"TESLA\",\"KIA\",\"VOLVO\",\"TESLA\",\"VOLKSWAGEN\",\"TESLA\",\"TESLA\",\"TESLA\",\"BMW\",\"HYUNDAI\",\"MERCEDES-BENZ\",\"NISSAN\",\"KIA\",\"BMW\",\"TESLA\",\"AUDI\",\"CHEVROLET\",\"TESLA\",\"TESLA\",\"TESLA\",\"VOLKSWAGEN\",\"TESLA\",\"VOLVO\",\"TESLA\",\"TESLA\",\"TESLA\",\"TESLA\",\"BMW\",\"TESLA\",\"NISSAN\",\"TESLA\",\"NISSAN\",\"CHRYSLER\",\"TESLA\",\"NISSAN\",\"CHRYSLER\",\"NISSAN\",\"TESLA\",\"TESLA\",\"TESLA\",\"KIA\",\"VOLKSWAGEN\",\"FORD\",\"BMW\",\"FORD\",\"TESLA\",\"TESLA\",\"TESLA\",\"TESLA\",\"TESLA\",\"KIA\",\"TESLA\",\"TESLA\",\"TESLA\",\"TESLA\",\"AUDI\",\"TESLA\",\"KIA\",\"TESLA\",\"TESLA\",\"CHEVROLET\",\"CHEVROLET\",\"AUDI\",\"HYUNDAI\",\"NISSAN\",\"HYUNDAI\",\"FORD\",\"TESLA\",\"TESLA\",\"NISSAN\",\"TESLA\",\"CHEVROLET\",\"TESLA\",\"FORD\",\"TESLA\",\"NISSAN\",\"TESLA\",\"NISSAN\",\"VOLVO\",\"TESLA\",\"KIA\",\"VOLVO\",\"TESLA\",\"HYUNDAI\",\"TESLA\",\"TESLA\",\"FORD\",\"TESLA\",\"CHRYSLER\",\"TESLA\",\"HYUNDAI\",\"TESLA\",\"NISSAN\",\"VOLKSWAGEN\",\"TESLA\",\"TESLA\",\"SUBARU\",\"TESLA\",\"CHEVROLET\",\"TESLA\",\"VOLKSWAGEN\",\"CHEVROLET\",\"TESLA\",\"TESLA\",\"MINI\",\"TOYOTA\",\"TESLA\",\"HYUNDAI\",\"TESLA\",\"TESLA\",\"TESLA\",\"TESLA\",\"TESLA\",\"TOYOTA\",\"TESLA\",\"VOLVO\",\"TESLA\",\"TOYOTA\",\"CHEVROLET\",\"CHRYSLER\",\"TOYOTA\",\"TESLA\",\"TESLA\",\"VOLVO\",\"RIVIAN\",\"CHEVROLET\",\"TESLA\",\"CHRYSLER\",\"LAND ROVER\",\"KIA\",\"TESLA\",\"FORD\",\"TESLA\",\"TESLA\",\"FORD\",\"CHEVROLET\",\"CHEVROLET\",\"TESLA\",\"NISSAN\",\"FORD\",\"VOLKSWAGEN\",\"TESLA\",\"TESLA\",\"RIVIAN\",\"TESLA\",\"TESLA\",\"KIA\",\"TESLA\",\"TESLA\",\"TESLA\",\"TOYOTA\",\"RIVIAN\",\"CHEVROLET\",\"NISSAN\",\"TESLA\",\"NISSAN\",\"RIVIAN\",\"TESLA\",\"TESLA\",\"TESLA\",\"TESLA\",\"TESLA\",\"TESLA\",\"JAGUAR\",\"HYUNDAI\",\"CHEVROLET\",\"FORD\",\"TESLA\",\"TOYOTA\",\"HONDA\",\"TESLA\",\"FORD\",\"SUBARU\",\"TESLA\",\"VOLVO\",\"TESLA\",\"TESLA\",\"RIVIAN\",\"KIA\",\"NISSAN\",\"FORD\",\"BMW\",\"CHEVROLET\",\"BMW\",\"TOYOTA\",\"TESLA\",\"HONDA\",\"HONDA\",\"TESLA\",\"MERCEDES-BENZ\",\"TESLA\",\"BMW\",\"KIA\",\"RIVIAN\",\"FORD\",\"TESLA\",\"NISSAN\",\"TESLA\",\"HONDA\",\"CHEVROLET\",\"TESLA\",\"TESLA\",\"TESLA\",\"FORD\",\"TESLA\",\"TESLA\",\"TESLA\",\"TESLA\",\"FORD\",\"SUBARU\",\"NISSAN\",\"TOYOTA\",\"BMW\",\"KIA\",\"VOLVO\",\"LINCOLN\",\"HYUNDAI\",\"TESLA\",\"LINCOLN\",\"TESLA\",\"TESLA\",\"FISKER\",\"HYUNDAI\",\"FORD\",\"VOLKSWAGEN\",\"SUBARU\",\"NISSAN\",\"TESLA\",\"HYUNDAI\",\"JEEP\",\"TESLA\",\"TESLA\",\"PORSCHE\",\"FORD\",\"CHRYSLER\",\"HONDA\",\"TESLA\",\"FORD\",\"CADILLAC\",\"TESLA\",\"VOLVO\",\"TESLA\",\"TESLA\",\"TOYOTA\",\"TESLA\",\"FORD\",\"TESLA\",\"GENESIS\",\"FORD\",\"FORD\",\"NISSAN\",\"KIA\",\"CHRYSLER\",\"CHEVROLET\",\"BMW\",\"NISSAN\",\"RIVIAN\",\"JEEP\",\"AUDI\",\"TESLA\",\"TOYOTA\",\"TESLA\",\"TESLA\",\"HYUNDAI\",\"FORD\",\"JEEP\",\"HYUNDAI\",\"NISSAN\",\"TESLA\",\"HYUNDAI\",\"TESLA\",\"KIA\",\"TESLA\",\"TESLA\",\"TESLA\",\"TESLA\",\"TOYOTA\",\"TOYOTA\",\"MITSUBISHI\",\"HONDA\",\"TESLA\",\"VOLKSWAGEN\",\"BMW\",\"POLESTAR\",\"NISSAN\",\"TESLA\",\"CHRYSLER\",\"TESLA\",\"JEEP\",\"TESLA\",\"CHEVROLET\",\"VOLKSWAGEN\",\"FORD\",\"TESLA\",\"KIA\",\"TESLA\",\"RIVIAN\",\"TESLA\",\"TOYOTA\",\"TESLA\",\"BMW\",\"TESLA\",\"VOLVO\",\"FORD\",\"AUDI\",\"NISSAN\",\"HYUNDAI\",\"MERCEDES-BENZ\",\"BMW\",\"FORD\",\"BMW\",\"MAZDA\",\"LEXUS\",\"CHEVROLET\",\"BMW\",\"TESLA\",\"TESLA\",\"TESLA\",\"TESLA\",\"NISSAN\",\"TESLA\",\"TOYOTA\",\"TESLA\",\"TESLA\",\"CHEVROLET\",\"CHEVROLET\",\"TESLA\",\"KIA\",\"TESLA\"],\"lat\":[47.41515,47.60326,47.41185,45.72776,47.61001,47.60803,47.43473,47.50006,47.61001,47.72201,47.3199,47.82557,47.76144,45.78092,47.49408,47.60357,47.67858,46.73015,48.24159,47.47532,47.71871,47.89251,46.98876,47.60326,47.63131,47.63131,47.57816,47.195,45.69345,47.50524,47.67858,48.23986,47.83448,47.30893,46.59817,48.11892,47.03779,47.27375,45.81539,47.08149,47.43876,47.67858,48.82651,48.7999,45.60365,47.64085,47.37483,47.49461,47.8526,47.83448,48.01497,47.85727,47.63131,47.43473,47.54103,47.64085,48.51748,47.67858,48.23986,47.68555,45.69345,47.68156,47.82557,47.04437,47.61578,47.3074,46.37508,47.81116,47.64085,48.56045,47.97659,47.64441,47.43876,47.78803,47.62631,47.55584,47.61344,46.20664,48.01306,47.7333,47.68555,45.63701,47.85727,47.03954,47.63131,47.61344,47.55584,48.51748,47.89251,47.67887,46.73015,47.72238,48.51748,48.53448,47.58616,47.30151,48.7999,47.89251,46.97606,47.72201,47.55115,47.57192,47.57874,47.66127,45.64251,47.19175,47.70044,47.60357,47.26465,47.17669,47.41185,48.29077,47.83448,45.71668,47.83785,47.61334,48.75245,47.47532,47.95431,47.61334,47.68555,47.72656,47.76144,47.49408,47.328,47.71871,47.8623,45.69345,47.19045,47.39394,48.52342,47.40173,48.11026,47.72238,47.41494,47.53755,47.60326,47.67596,47.78803,47.72201,48.06114,47.48928,47.67887,47.65878,47.55115,47.19434,47.28596,47.17669,47.76144,47.3074,47.61344,47.83448,47.61001,47.83448,47.60326,47.3074,47.67596,46.23542,47.58616,47.75448,47.39394,45.67871,47.03954,47.1274,47.33778,48.19471,47.48928,47.60357,47.54748,47.89251,47.40173,47.49461,47.39394,47.5301,47.63433,47.55584,47.67887,47.05703,47.83448,47.01359,45.86679,47.75781,47.13959,46.18764,47.94949,47.57816,48.75245,47.67858,47.57816,47.54748,47.63131,47.70044,47.67887,45.63201,47.2022,47.68156,47.66127,47.47532,47.19045,47.19045,47.70044,47.3084,47.67597,48.41644,47.17669,45.63201,48.19471,47.70433,47.09665,45.70954,47.24991,47.65699,47.44929,47.8031,47.72201,47.68043,47.01359,47.28596,47.67597,45.58694,47.57874,47.05703,47.05703,47.67858,47.49348,45.81539,47.74068,47.00379,47.68156,47.75425,47.55115,47.75892,45.69345,48.75245,47.68156,47.24737,47.13959,48.07965,47.55115,47.71871,47.55115,47.33778,47.54748,47.48852,47.57874,47.75448,47.30151,46.94239,48.06114,47.19434,47.34235,47.63433,47.63131,47.57874,47.73689,47.50006,47.91265,47.50524,47.16299,47.54701,45.70954,47.91265,47.23451,47.67596,47.41185,47.55584,47.01359,47.5752,47.04437,45.58694,47.64586,47.67597,47.70763,45.63701,47.64085,47.89251,47.82557,47.67858,47.60357,45.73473,47.60326,45.63248,47.61334,48.75245,47.83448,47.55379,47.89908,45.60365,47.88936,47.67858,47.53755,48.06114,47.5301,47.23451,47.55115,47.83448,48.7449,47.61001,47.61001,47.63131,47.39394,47.66116,47.71871,45.67871,47.4466,47.55584,46.99703,47.67858,48.06114,46.72895,47.64085,47.85727,47.83785,47.37483,47.87166,46.18764,47.87115,47.54103,47.68156,45.78092,48.01497,47.78803,47.57816,47.67596,47.39394,47.17669,47.82557,47.67858,47.72656,47.63433,47.195,48.12636,48.99404,47.49348,47.29238,47.81116,47.3199,47.61001,47.328,48.7999,47.68043,47.65908,47.28596,47.54103,45.69345,47.57874,47.74068,48.01497,46.27391,47.13959,45.64251,47.8031,45.58694,45.58694,47.55584,47.89251,47.7628,47.82557,47.63433,48.01497,48.23986,47.41185,47.75781,47.89251,47.85727,48.51748,45.63201,47.03779,48.01497,47.72201,47.23451,47.7628,47.49408,47.68156,47.72656,47.85727,47.87166,47.16568,47.67887,47.63824,47.72201,47.61613,48.91865,47.83785,47.87166,47.64085,47.50314,47.75448,47.33778,47.05997,47.63824,47.57816,48.7999,47.57816,47.43473,47.04437,46.34056,47.89251,47.08149,47.61578,47.83785,47.8031,47.50314,47.48852,47.57874,48.51748,47.57874,47.67858,38.42366,47.8526,47.67887,47.66127,48.0399,47.72656,47.54748,47.64085,45.63248,47.67596,45.58694,46.27509,47.82557,48.24159,47.55584,47.83448,45.63201,46.98384,47.5301,47.67596,48.01497,46.29696,46.5554,47.87166,47.33778,47.48852,47.75448,47.64441,47.76144,46.59817,47.71871,47.68156,46.41402,47.54701,47.64085,47.72656,47.46593,47.54701,47.57874,48.01497,47.57816,45.69345,47.75448,47.67887,47.49461,47.83448,47.88936,47.62728,47.35298,45.60365,47.50524,47.94949,47.75781,47.54287,48.46846,47.83985,47.67573,47.87115,47.67858,47.61578,47.63374,47.83448,47.13959,47.61344,47.64085,47.33778,46.29696,46.31484,47.23451,47.66829,47.87166,47.83743,47.63374,47.64441,45.72776,47.75448,46.31484,48.51748,47.61578,47.68555,47.72656,47.16299,47.65908,47.50314,47.67858,47.63824,45.58694,45.69345,47.57874,48.7449,47.63824,47.39394,47.55584,47.61578,47.64441,47.48852,47.70044,48.51748,47.47532,47.67887,37.38971,47.67858,47.64085,47.09583,47.48852,47.46233,47.40173,47.64085,47.72238,47.26887,47.61578,46.23542,47.55115,47.57894,47.5301,47.13795,47.05703,47.38336,47.57874,47.03954,46.31484,47.72201,46.27391,47.19175,47.83785,47.63824,47.82557,47.43473,47.67887,48.7999,47.41494,47.61578,47.48928,47.08149,47.63433,47.50314,45.64251,47.55584,47.67858,47.65699,47.61578,45.63201,47.48852,48.99404,47.83743,46.99703,47.09583,47.328,47.75425,47.72238,47.55584,47.53755,47.19175,47.67596,48.01497,47.68156,47.88936,47.66127,47.64901,47.19434,47.43473,47.26887,45.63248,47.72656,47.37483,47.76144,46.18764,47.65171,47.71871,47.61344,47.57874,47.64586,47.66127,47.64085,47.23781,47.53755,47.61344,47.63396,47.40173,47.23679,48.75245,47.41494,47.17669,47.83448,47.01156,47.72201,47.83743,47.68555,47.03954,47.20144,47.4466,47.76144,47.19045,47.57874,47.61334,47.67887,47.39394,47.57874,48.53448,47.64085,47.66127,47.67597,46.14681,48.01497,47.68555,46.49114,46.59751,47.83785,46.97606,45.64251,48.11892,47.23451,45.69345,45.65675,47.30151,46.72895,47.66127,48.11026,46.14424,47.69838,47.04437,47.72201,47.44929,47.83448,47.87166,47.72656,45.81539,47.24737,47.54748,47.19175,47.68555,46.20664,47.43473,47.57874,47.4466,47.71871,47.08798,46.94239,47.55379,46.00813,47.70044,47.67597,48.07965,47.85727,47.74068,47.8623,48.1212,47.75892,47.67596,47.83448,47.63131,47.65878,45.65675,47.3084,47.48852,47.66116,48.7449,47.57894,47.64901,47.70044,47.72238,47.5301,47.16299,47.70044,48.06114,47.52716,47.85727,45.62158,47.9796,47.64441,47.63131,47.62353,47.91265,47.67858,47.72656,47.04437,47.82557,47.64441,47.19175,47.67597,47.63131,46.73779,47.8031,46.97606,47.54748,47.60803,47.72201,47.8031,47.30893,45.65675,47.30661,47.49408,47.71871,47.72238,48.06114,47.47532,46.23542,47.68156,47.94949,47.87115,47.65908,48.11892,45.60365,47.54287,47.57816,47.16299,47.8031,47.03954,47.20433,47.53755,47.55584,47.83785,47.67858,47.91265,47.55584,47.55584,47.5301,47.87115,47.70044,47.23679,47.2198,47.67858,47.46593,47.8031,47.67597,47.65908,47.5982,47.64586,47.91265,47.91265,47.83448,48.51748,47.16299,47.55584,47.97659,47.83448,47.60803,47.3199,45.63248,48.01497,47.72656,47.5752,47.83448,48.51748,47.3199,47.55379,47.3084,47.75448,48.7449,47.79802,47.82557,45.58694,47.195,48.07965,47.64901,47.76144,48.7449,47.3199,47.03779,47.67573,47.75448,45.57923,47.8031,47.72238,45.63201,47.09596,47.65908,47.63131,48.07965,47.64085,47.13795,47.4466,48.00956,47.19175,46.86733,47.5301,47.73689,47.63131,47.62728,47.63433,47.71871,45.65675,47.28596,47.8031,47.58616,47.68156,47.64586,47.26541,47.7333,47.67858,47.41185,47.57874,47.03779,47.33778,47.03954,47.83448,47.66127,46.98876,47.04437,47.04437,47.4466,47.87166,46.07068,47.71871,47.3199,47.49461,47.81116,47.76144,47.24737,48.84787,47.3084,47.87115,47.8031,45.65675,47.13959,47.67573,47.67887,48.92369,46.20837,47.68156,47.67887,46.32379,47.71871,47.57894,47.67858,45.58694,47.5301,45.63701,47.75781,47.82557,47.328,48.07965,47.64441,47.54748,46.23542,47.61578,47.61344,47.68555,47.67887,45.58694,47.50314,47.2198,47.72201,47.70251,47.70044,47.87166,47.9796,47.85727,47.67858,47.13196,47.89251,47.94949,47.67858,47.55584,47.33778,47.01359,47.52716,47.68555,47.8031,47.65706,47.54701,47.3084,46.35232,47.57816,47.61001,48.41644,47.89251,47.67887,47.52716,47.19175,47.48852,47.49348,47.26541,48.01497,47.65699,47.48852,47.62631,46.98876,45.69345,47.67858,47.3084,46.88897,47.60803,47.61344,47.72238,47.75448,47.3084,48.41566,48.92009,47.03779,47.46233,47.03954,48.11892,47.61001,47.87115,47.55584,47.33778,47.47532,47.33778,47.72201,45.64251,47.60803,47.57816,47.20761,47.328,47.72238,47.72201,47.64441,47.34235,47.55379,47.13959,46.75908,47.57816,48.7999,48.29077,47.46593,47.30151,47.03954,47.8031,47.57816,47.13959,47.67597,45.63201,47.3084,48.19471,47.61578,47.64441,47.83448,46.44067,47.60803,47.67858,47.3084,46.20664,47.48852,47.54287,47.328,47.08798,47.57192,47.61344,46.82175,47.47532,48.52342,48.08827,47.75448,47.55115,48.7999,47.8031,48.7999,47.60803,47.8623,47.67887,46.00813,47.4466,47.83448,47.49348,45.63201,47.28596,47.62631,47.89251,47.46593,47.50314,46.6621,47.61344,47.50006,47.66127,45.64251,48.01497,48.51748,48.7449,47.64085,47.17669,48.01497,47.8031,47.3074,46.85752,47.83785,48.41644,47.75448,48.50858,47.8031,47.00328,47.83448,47.94949,48.7999,45.58694,47.3084,47.41185,47.55115,47.91265,45.63701,48.46846,47.3084],\"legendgroup\":\"\",\"lon\":[-120.29473,-122.02054,-122.17743,-121.48704,-122.1872,-122.31009,-122.29179,-122.1805,-122.1872,-122.22901,-122.1821,-122.29245,-122.20563,-122.5331,-122.36178,-122.32945,-122.13158,-117.18147,-122.37265,-122.20489,-122.35029,-122.18637,-122.81754,-122.02054,-122.11867,-122.11867,-122.21238,-120.93943,-122.55149,-122.68471,-122.13158,-122.40049,-122.21061,-122.00143,-120.60199,-123.43112,-122.92333,-122.65107,-122.74595,-122.75103,-122.197,-122.13158,-122.21723,-122.49756,-122.49212,-122.30207,-122.19975,-122.23825,-121.98087,-122.21061,-122.06402,-122.27981,-122.11867,-122.29179,-122.63847,-122.30207,-122.61214,-122.13158,-122.40049,-122.03287,-122.55149,-122.31676,-122.29245,-122.82324,-122.34468,-122.23035,-120.31298,-122.37689,-122.30207,-122.397,-122.20596,-122.1621,-122.197,-122.31111,-122.60915,-122.12096,-122.03539,-119.3118,-122.31902,-117.45005,-122.03287,-122.48723,-122.27981,-122.89165,-122.11867,-122.03539,-122.12096,-122.61214,-122.18637,-122.2066,-117.18147,-122.36498,-122.61214,-123.01648,-122.32741,-122.3303,-122.49756,-122.18637,-123.81619,-122.22901,-122.2668,-122.65223,-122.30866,-122.31307,-122.57722,-122.17144,-122.38418,-122.32945,-122.24692,-122.54764,-122.17743,-122.64682,-122.21061,-122.62731,-122.27734,-122.12056,-122.47107,-122.20489,-117.47154,-122.12056,-122.03287,-122.30253,-122.20563,-122.36178,-122.58009,-122.35029,-121.81688,-122.55149,-122.29521,-122.04526,-122.91395,-122.3219,-122.1677,-122.36498,-120.30522,-122.38415,-122.02054,-122.35436,-122.31111,-122.22901,-122.1769,-117.57445,-122.2066,-117.21264,-122.2668,-122.28504,-122.37684,-122.54764,-122.20563,-122.23035,-122.03539,-122.21061,-122.1872,-122.21061,-122.02054,-122.23035,-122.35436,-119.09467,-122.32741,-122.15545,-122.04526,-122.64443,-122.89165,-118.37977,-122.09124,-122.1264,-117.57445,-122.32945,-122.00292,-122.18637,-122.3219,-122.23825,-122.04526,-122.03439,-122.32427,-122.12096,-122.2066,-122.29477,-122.21061,-122.9131,-122.40908,-122.3175,-122.27575,-119.14482,-122.23019,-122.21238,-122.47107,-122.13158,-122.21238,-122.00292,-122.11867,-122.38418,-122.2066,-122.62934,-122.23972,-122.31676,-122.31307,-122.20489,-122.29521,-122.29521,-122.38418,-122.36321,-122.38591,-122.33891,-122.54764,-122.62934,-122.1264,-117.35298,-122.37747,-122.70303,-122.5354,-117.1748,-122.4573,-122.18384,-122.22901,-117.28805,-122.9131,-122.37684,-122.38591,-122.40199,-122.30866,-122.29477,-122.29477,-122.13158,-121.7831,-122.74595,-121.98609,-123.40382,-122.31676,-122.07326,-122.2668,-122.24369,-122.55149,-122.47107,-122.31676,-122.48271,-122.27575,-123.10367,-122.2668,-122.35029,-122.2668,-122.09124,-122.00292,-122.15716,-122.30866,-122.15545,-122.3303,-122.60735,-122.1769,-122.28504,-122.58964,-122.32427,-122.11867,-122.30866,-122.64681,-122.1805,-122.09305,-122.68471,-122.02523,-122.36893,-122.70303,-122.09305,-122.53166,-122.35436,-122.17743,-122.12096,-122.9131,-122.61136,-122.82324,-122.40199,-122.3684,-122.38591,-117.11195,-122.48723,-122.30207,-122.18637,-122.29245,-122.13158,-122.32945,-122.54578,-122.02054,-122.67156,-122.12056,-122.47107,-122.21061,-122.30346,-122.29196,-122.49212,-122.27557,-122.13158,-122.38415,-122.1769,-122.03439,-122.53166,-122.2668,-122.21061,-122.45486,-122.1872,-122.1872,-122.11867,-122.04526,-117.24522,-122.35029,-122.64443,-122.08747,-122.12096,-120.54872,-122.13158,-122.1769,-122.95266,-122.30207,-122.27981,-122.27734,-122.19975,-122.31768,-119.14482,-122.1389,-122.63847,-122.31676,-122.5331,-122.06402,-122.31111,-122.21238,-122.35436,-122.04526,-122.54764,-122.29245,-122.13158,-122.30253,-122.32427,-120.93943,-123.45711,-122.74888,-121.7831,-122.51134,-122.37689,-122.1821,-122.1872,-122.58009,-122.49756,-117.28805,-122.40092,-122.37684,-122.63847,-122.55149,-122.30866,-121.98609,-122.06402,-119.27372,-122.27575,-122.57722,-122.18384,-122.40199,-122.40199,-122.12096,-122.18637,-117.35586,-122.29245,-122.32427,-122.06402,-122.40049,-122.17743,-122.3175,-122.18637,-122.27981,-122.61214,-122.62934,-122.92333,-122.06402,-122.22901,-122.53166,-117.35586,-122.36178,-122.31676,-122.30253,-122.27981,-122.31768,-122.40872,-122.2066,-122.35022,-122.22901,-122.23892,-122.64219,-122.27734,-122.31768,-122.30207,-122.3317,-122.15545,-122.09124,-122.87741,-122.35022,-122.21238,-122.49756,-122.21238,-122.29179,-122.82324,-117.04784,-122.18637,-122.75103,-122.34468,-122.27734,-122.18384,-122.3317,-122.15716,-122.30866,-122.61214,-122.30866,-122.13158,-77.40815,-121.98087,-122.2066,-122.31307,-122.40618,-122.30253,-122.00292,-122.30207,-122.67156,-122.35436,-122.40199,-122.90724,-122.29245,-122.37265,-122.12096,-122.21061,-122.62934,-123.60076,-122.03439,-122.35436,-122.06402,-119.33836,-122.27514,-122.31768,-122.09124,-122.15716,-122.15545,-122.1621,-122.20563,-120.60199,-122.35029,-122.31676,-117.04556,-122.36893,-122.30207,-122.30253,-122.34134,-122.36893,-122.30866,-122.06402,-122.21238,-122.55149,-122.15545,-122.2066,-122.23825,-122.21061,-122.27557,-122.521,-121.98233,-122.49212,-122.68471,-122.23019,-122.3175,-122.35163,-122.33029,-120.01454,-117.3973,-122.1389,-122.13158,-122.34468,-117.39322,-122.21061,-122.27575,-122.03539,-122.30207,-122.09124,-119.33836,-119.26844,-122.53166,-117.1015,-122.31768,-117.35414,-117.39322,-122.1621,-121.48704,-122.15545,-119.26844,-122.61214,-122.34468,-122.03287,-122.30253,-122.02523,-122.40092,-122.3317,-122.13158,-122.35022,-122.40199,-122.55149,-122.30866,-122.45486,-122.35022,-122.04526,-122.12096,-122.34468,-122.1621,-122.15716,-122.38418,-122.61214,-122.20489,-122.2066,-122.08157,-122.13158,-122.30207,-122.62954,-122.15716,-122.32863,-122.3219,-122.30207,-122.36498,-122.52082,-122.34468,-119.09467,-122.2668,-122.41067,-122.03439,-122.2988,-122.29477,-122.6658,-122.30866,-122.89165,-119.26844,-122.22901,-119.27372,-122.17144,-122.27734,-122.35022,-122.29245,-122.29179,-122.2066,-122.49756,-120.30522,-122.34468,-117.57445,-122.75103,-122.32427,-122.3317,-122.57722,-122.12096,-122.13158,-117.1748,-122.34468,-122.62934,-122.15716,-122.74888,-117.35414,-120.54872,-122.62954,-122.58009,-122.07326,-122.36498,-122.12096,-122.38415,-122.17144,-122.35436,-122.06402,-122.31676,-122.27557,-122.31307,-121.91353,-122.28504,-122.29179,-122.52082,-122.67156,-122.30253,-122.19975,-122.20563,-119.14482,-122.69275,-122.35029,-122.03539,-122.30866,-122.3684,-122.31307,-122.30207,-121.02627,-122.38415,-122.03539,-117.36043,-122.3219,-122.35686,-122.47107,-120.30522,-122.54764,-122.21061,-124.16408,-122.22901,-117.35414,-122.03287,-122.89165,-122.44718,-122.08747,-122.20563,-122.29521,-122.30866,-122.12056,-122.2066,-122.04526,-122.30866,-123.01648,-122.30207,-122.31307,-122.38591,-122.95058,-122.06402,-122.03287,-122.93881,-120.52041,-122.27734,-123.81619,-122.57722,-123.43112,-122.53166,-122.55149,-122.64695,-122.3303,-122.95266,-122.31307,-122.1677,-122.89867,-122.89646,-122.82324,-122.22901,-122.4573,-122.21061,-122.31768,-122.30253,-122.74595,-122.48271,-122.00292,-122.17144,-122.03287,-119.3118,-122.29179,-122.30866,-122.08747,-122.35029,-122.60761,-122.60735,-122.30346,-122.84226,-122.38418,-122.38591,-123.10367,-122.27981,-121.98609,-121.81688,-122.77263,-122.24369,-122.35436,-122.21061,-122.11867,-117.21264,-122.64695,-122.36321,-122.15716,-117.24522,-122.45486,-122.41067,-121.91353,-122.38418,-122.36498,-122.03439,-122.02523,-122.38418,-122.1769,-121.82432,-122.27981,-122.59219,-122.35803,-122.1621,-122.11867,-120.22795,-122.09305,-122.13158,-122.30253,-122.82324,-122.29245,-122.1621,-122.17144,-122.38591,-122.11867,-119.90008,-122.18384,-123.81619,-122.00292,-122.31009,-122.22901,-122.18384,-122.00143,-122.64695,-122.2217,-122.36178,-122.35029,-122.36498,-122.1769,-122.20489,-119.09467,-122.31676,-122.23019,-122.1389,-122.40092,-123.43112,-122.49212,-122.35163,-122.21238,-122.02523,-122.18384,-122.89165,-121.99136,-122.38415,-122.12096,-122.27734,-122.13158,-122.09305,-122.12096,-122.12096,-122.03439,-122.1389,-122.38418,-122.35686,-122.47913,-122.13158,-122.34134,-122.18384,-122.38591,-122.40092,-120.65754,-122.3684,-122.09305,-122.09305,-122.21061,-122.61214,-122.02523,-122.12096,-122.20596,-122.21061,-122.31009,-122.1821,-122.67156,-122.06402,-122.30253,-122.61136,-122.21061,-122.61214,-122.1821,-122.30346,-122.36321,-122.15545,-122.45486,-122.4977,-122.29245,-122.40199,-120.93943,-123.10367,-121.91353,-122.20563,-122.45486,-122.1821,-122.92333,-117.3973,-122.15545,-122.35341,-122.18384,-122.36498,-122.62934,-122.20166,-122.40092,-122.11867,-123.10367,-122.30207,-122.2988,-122.08747,-122.52664,-122.17144,-122.26832,-122.03439,-122.64681,-122.11867,-122.521,-122.32427,-122.35029,-122.64695,-122.37684,-122.18384,-122.32741,-122.31676,-122.3684,-122.45782,-117.45005,-122.13158,-122.17743,-122.30866,-122.92333,-122.09124,-122.89165,-122.21061,-122.31307,-122.81754,-122.82324,-122.82324,-122.08747,-122.31768,-118.34261,-122.35029,-122.1821,-122.23825,-122.37689,-122.20563,-122.48271,-122.5945,-122.36321,-122.1389,-122.18384,-122.64695,-122.27575,-117.3973,-122.2066,-122.07728,-119.11698,-122.31676,-122.2066,-120.00976,-122.35029,-122.41067,-122.13158,-122.40199,-122.03439,-122.48723,-122.3175,-122.29245,-122.58009,-123.10367,-122.1621,-122.00292,-119.09467,-122.34468,-122.03539,-122.03287,-122.2066,-122.40199,-122.3317,-122.47913,-122.22901,-122.62316,-122.38418,-122.31768,-122.35803,-122.27981,-122.13158,-119.2771,-122.18637,-122.23019,-122.13158,-122.12096,-122.09124,-122.9131,-121.82432,-122.03287,-122.18384,-117.19631,-122.36893,-122.36321,-124.05439,-122.21238,-122.1872,-122.33891,-122.18637,-122.2066,-121.82432,-122.17144,-122.15716,-121.7831,-122.45782,-122.06402,-117.1748,-122.15716,-122.60915,-122.81754,-122.55149,-122.13158,-122.36321,-122.68993,-122.31009,-122.03539,-122.36498,-122.15545,-122.36321,-122.32355,-122.34527,-122.92333,-122.32863,-122.89165,-123.43112,-122.1872,-122.1389,-122.12096,-122.09124,-122.20489,-122.09124,-122.22901,-122.57722,-122.31009,-122.21238,-122.53787,-122.58009,-122.36498,-122.22901,-122.1621,-122.58964,-122.30346,-122.27575,-122.03243,-122.21238,-122.49756,-122.64682,-122.34134,-122.3303,-122.89165,-122.18384,-122.21238,-122.27575,-122.38591,-122.62934,-122.36321,-122.1264,-122.34468,-122.1621,-122.21061,-122.84784,-122.31009,-122.13158,-122.36321,-119.3118,-122.15716,-122.35163,-122.58009,-122.60761,-122.65223,-122.03539,-123.08743,-122.20489,-122.91395,-122.56817,-122.15545,-122.2668,-122.49756,-122.18384,-122.49756,-122.31009,-121.81688,-122.2066,-122.84226,-122.08747,-122.21061,-121.7831,-122.62934,-122.37684,-122.60915,-122.18637,-122.34134,-122.3317,-122.96462,-122.03539,-122.1805,-122.31307,-122.57722,-122.06402,-122.61214,-122.45486,-122.30207,-122.54764,-122.06402,-122.18384,-122.23035,-122.85135,-122.27734,-122.33891,-122.15545,-122.23857,-122.18384,-122.54332,-122.21061,-122.23019,-122.49756,-122.40199,-122.36321,-122.17743,-122.2668,-122.09305,-122.48723,-122.33029,-122.36321],\"marker\":{\"color\":\"blue\"},\"mode\":\"markers\",\"name\":\"\",\"showlegend\":false,\"subplot\":\"mapbox\",\"type\":\"scattermapbox\"}],                        {\"template\":{\"data\":{\"histogram2dcontour\":[{\"type\":\"histogram2dcontour\",\"colorbar\":{\"outlinewidth\":0,\"ticks\":\"\"},\"colorscale\":[[0.0,\"#0d0887\"],[0.1111111111111111,\"#46039f\"],[0.2222222222222222,\"#7201a8\"],[0.3333333333333333,\"#9c179e\"],[0.4444444444444444,\"#bd3786\"],[0.5555555555555556,\"#d8576b\"],[0.6666666666666666,\"#ed7953\"],[0.7777777777777778,\"#fb9f3a\"],[0.8888888888888888,\"#fdca26\"],[1.0,\"#f0f921\"]]}],\"choropleth\":[{\"type\":\"choropleth\",\"colorbar\":{\"outlinewidth\":0,\"ticks\":\"\"}}],\"histogram2d\":[{\"type\":\"histogram2d\",\"colorbar\":{\"outlinewidth\":0,\"ticks\":\"\"},\"colorscale\":[[0.0,\"#0d0887\"],[0.1111111111111111,\"#46039f\"],[0.2222222222222222,\"#7201a8\"],[0.3333333333333333,\"#9c179e\"],[0.4444444444444444,\"#bd3786\"],[0.5555555555555556,\"#d8576b\"],[0.6666666666666666,\"#ed7953\"],[0.7777777777777778,\"#fb9f3a\"],[0.8888888888888888,\"#fdca26\"],[1.0,\"#f0f921\"]]}],\"heatmap\":[{\"type\":\"heatmap\",\"colorbar\":{\"outlinewidth\":0,\"ticks\":\"\"},\"colorscale\":[[0.0,\"#0d0887\"],[0.1111111111111111,\"#46039f\"],[0.2222222222222222,\"#7201a8\"],[0.3333333333333333,\"#9c179e\"],[0.4444444444444444,\"#bd3786\"],[0.5555555555555556,\"#d8576b\"],[0.6666666666666666,\"#ed7953\"],[0.7777777777777778,\"#fb9f3a\"],[0.8888888888888888,\"#fdca26\"],[1.0,\"#f0f921\"]]}],\"heatmapgl\":[{\"type\":\"heatmapgl\",\"colorbar\":{\"outlinewidth\":0,\"ticks\":\"\"},\"colorscale\":[[0.0,\"#0d0887\"],[0.1111111111111111,\"#46039f\"],[0.2222222222222222,\"#7201a8\"],[0.3333333333333333,\"#9c179e\"],[0.4444444444444444,\"#bd3786\"],[0.5555555555555556,\"#d8576b\"],[0.6666666666666666,\"#ed7953\"],[0.7777777777777778,\"#fb9f3a\"],[0.8888888888888888,\"#fdca26\"],[1.0,\"#f0f921\"]]}],\"contourcarpet\":[{\"type\":\"contourcarpet\",\"colorbar\":{\"outlinewidth\":0,\"ticks\":\"\"}}],\"contour\":[{\"type\":\"contour\",\"colorbar\":{\"outlinewidth\":0,\"ticks\":\"\"},\"colorscale\":[[0.0,\"#0d0887\"],[0.1111111111111111,\"#46039f\"],[0.2222222222222222,\"#7201a8\"],[0.3333333333333333,\"#9c179e\"],[0.4444444444444444,\"#bd3786\"],[0.5555555555555556,\"#d8576b\"],[0.6666666666666666,\"#ed7953\"],[0.7777777777777778,\"#fb9f3a\"],[0.8888888888888888,\"#fdca26\"],[1.0,\"#f0f921\"]]}],\"surface\":[{\"type\":\"surface\",\"colorbar\":{\"outlinewidth\":0,\"ticks\":\"\"},\"colorscale\":[[0.0,\"#0d0887\"],[0.1111111111111111,\"#46039f\"],[0.2222222222222222,\"#7201a8\"],[0.3333333333333333,\"#9c179e\"],[0.4444444444444444,\"#bd3786\"],[0.5555555555555556,\"#d8576b\"],[0.6666666666666666,\"#ed7953\"],[0.7777777777777778,\"#fb9f3a\"],[0.8888888888888888,\"#fdca26\"],[1.0,\"#f0f921\"]]}],\"mesh3d\":[{\"type\":\"mesh3d\",\"colorbar\":{\"outlinewidth\":0,\"ticks\":\"\"}}],\"scatter\":[{\"fillpattern\":{\"fillmode\":\"overlay\",\"size\":10,\"solidity\":0.2},\"type\":\"scatter\"}],\"parcoords\":[{\"type\":\"parcoords\",\"line\":{\"colorbar\":{\"outlinewidth\":0,\"ticks\":\"\"}}}],\"scatterpolargl\":[{\"type\":\"scatterpolargl\",\"marker\":{\"colorbar\":{\"outlinewidth\":0,\"ticks\":\"\"}}}],\"bar\":[{\"error_x\":{\"color\":\"#2a3f5f\"},\"error_y\":{\"color\":\"#2a3f5f\"},\"marker\":{\"line\":{\"color\":\"#E5ECF6\",\"width\":0.5},\"pattern\":{\"fillmode\":\"overlay\",\"size\":10,\"solidity\":0.2}},\"type\":\"bar\"}],\"scattergeo\":[{\"type\":\"scattergeo\",\"marker\":{\"colorbar\":{\"outlinewidth\":0,\"ticks\":\"\"}}}],\"scatterpolar\":[{\"type\":\"scatterpolar\",\"marker\":{\"colorbar\":{\"outlinewidth\":0,\"ticks\":\"\"}}}],\"histogram\":[{\"marker\":{\"pattern\":{\"fillmode\":\"overlay\",\"size\":10,\"solidity\":0.2}},\"type\":\"histogram\"}],\"scattergl\":[{\"type\":\"scattergl\",\"marker\":{\"colorbar\":{\"outlinewidth\":0,\"ticks\":\"\"}}}],\"scatter3d\":[{\"type\":\"scatter3d\",\"line\":{\"colorbar\":{\"outlinewidth\":0,\"ticks\":\"\"}},\"marker\":{\"colorbar\":{\"outlinewidth\":0,\"ticks\":\"\"}}}],\"scattermapbox\":[{\"type\":\"scattermapbox\",\"marker\":{\"colorbar\":{\"outlinewidth\":0,\"ticks\":\"\"}}}],\"scatterternary\":[{\"type\":\"scatterternary\",\"marker\":{\"colorbar\":{\"outlinewidth\":0,\"ticks\":\"\"}}}],\"scattercarpet\":[{\"type\":\"scattercarpet\",\"marker\":{\"colorbar\":{\"outlinewidth\":0,\"ticks\":\"\"}}}],\"carpet\":[{\"aaxis\":{\"endlinecolor\":\"#2a3f5f\",\"gridcolor\":\"white\",\"linecolor\":\"white\",\"minorgridcolor\":\"white\",\"startlinecolor\":\"#2a3f5f\"},\"baxis\":{\"endlinecolor\":\"#2a3f5f\",\"gridcolor\":\"white\",\"linecolor\":\"white\",\"minorgridcolor\":\"white\",\"startlinecolor\":\"#2a3f5f\"},\"type\":\"carpet\"}],\"table\":[{\"cells\":{\"fill\":{\"color\":\"#EBF0F8\"},\"line\":{\"color\":\"white\"}},\"header\":{\"fill\":{\"color\":\"#C8D4E3\"},\"line\":{\"color\":\"white\"}},\"type\":\"table\"}],\"barpolar\":[{\"marker\":{\"line\":{\"color\":\"#E5ECF6\",\"width\":0.5},\"pattern\":{\"fillmode\":\"overlay\",\"size\":10,\"solidity\":0.2}},\"type\":\"barpolar\"}],\"pie\":[{\"automargin\":true,\"type\":\"pie\"}]},\"layout\":{\"autotypenumbers\":\"strict\",\"colorway\":[\"#636efa\",\"#EF553B\",\"#00cc96\",\"#ab63fa\",\"#FFA15A\",\"#19d3f3\",\"#FF6692\",\"#B6E880\",\"#FF97FF\",\"#FECB52\"],\"font\":{\"color\":\"#2a3f5f\"},\"hovermode\":\"closest\",\"hoverlabel\":{\"align\":\"left\"},\"paper_bgcolor\":\"white\",\"plot_bgcolor\":\"#E5ECF6\",\"polar\":{\"bgcolor\":\"#E5ECF6\",\"angularaxis\":{\"gridcolor\":\"white\",\"linecolor\":\"white\",\"ticks\":\"\"},\"radialaxis\":{\"gridcolor\":\"white\",\"linecolor\":\"white\",\"ticks\":\"\"}},\"ternary\":{\"bgcolor\":\"#E5ECF6\",\"aaxis\":{\"gridcolor\":\"white\",\"linecolor\":\"white\",\"ticks\":\"\"},\"baxis\":{\"gridcolor\":\"white\",\"linecolor\":\"white\",\"ticks\":\"\"},\"caxis\":{\"gridcolor\":\"white\",\"linecolor\":\"white\",\"ticks\":\"\"}},\"coloraxis\":{\"colorbar\":{\"outlinewidth\":0,\"ticks\":\"\"}},\"colorscale\":{\"sequential\":[[0.0,\"#0d0887\"],[0.1111111111111111,\"#46039f\"],[0.2222222222222222,\"#7201a8\"],[0.3333333333333333,\"#9c179e\"],[0.4444444444444444,\"#bd3786\"],[0.5555555555555556,\"#d8576b\"],[0.6666666666666666,\"#ed7953\"],[0.7777777777777778,\"#fb9f3a\"],[0.8888888888888888,\"#fdca26\"],[1.0,\"#f0f921\"]],\"sequentialminus\":[[0.0,\"#0d0887\"],[0.1111111111111111,\"#46039f\"],[0.2222222222222222,\"#7201a8\"],[0.3333333333333333,\"#9c179e\"],[0.4444444444444444,\"#bd3786\"],[0.5555555555555556,\"#d8576b\"],[0.6666666666666666,\"#ed7953\"],[0.7777777777777778,\"#fb9f3a\"],[0.8888888888888888,\"#fdca26\"],[1.0,\"#f0f921\"]],\"diverging\":[[0,\"#8e0152\"],[0.1,\"#c51b7d\"],[0.2,\"#de77ae\"],[0.3,\"#f1b6da\"],[0.4,\"#fde0ef\"],[0.5,\"#f7f7f7\"],[0.6,\"#e6f5d0\"],[0.7,\"#b8e186\"],[0.8,\"#7fbc41\"],[0.9,\"#4d9221\"],[1,\"#276419\"]]},\"xaxis\":{\"gridcolor\":\"white\",\"linecolor\":\"white\",\"ticks\":\"\",\"title\":{\"standoff\":15},\"zerolinecolor\":\"white\",\"automargin\":true,\"zerolinewidth\":2},\"yaxis\":{\"gridcolor\":\"white\",\"linecolor\":\"white\",\"ticks\":\"\",\"title\":{\"standoff\":15},\"zerolinecolor\":\"white\",\"automargin\":true,\"zerolinewidth\":2},\"scene\":{\"xaxis\":{\"backgroundcolor\":\"#E5ECF6\",\"gridcolor\":\"white\",\"linecolor\":\"white\",\"showbackground\":true,\"ticks\":\"\",\"zerolinecolor\":\"white\",\"gridwidth\":2},\"yaxis\":{\"backgroundcolor\":\"#E5ECF6\",\"gridcolor\":\"white\",\"linecolor\":\"white\",\"showbackground\":true,\"ticks\":\"\",\"zerolinecolor\":\"white\",\"gridwidth\":2},\"zaxis\":{\"backgroundcolor\":\"#E5ECF6\",\"gridcolor\":\"white\",\"linecolor\":\"white\",\"showbackground\":true,\"ticks\":\"\",\"zerolinecolor\":\"white\",\"gridwidth\":2}},\"shapedefaults\":{\"line\":{\"color\":\"#2a3f5f\"}},\"annotationdefaults\":{\"arrowcolor\":\"#2a3f5f\",\"arrowhead\":0,\"arrowwidth\":1},\"geo\":{\"bgcolor\":\"white\",\"landcolor\":\"#E5ECF6\",\"subunitcolor\":\"white\",\"showland\":true,\"showlakes\":true,\"lakecolor\":\"white\"},\"title\":{\"x\":0.05},\"mapbox\":{\"style\":\"light\"}}},\"mapbox\":{\"domain\":{\"x\":[0.0,1.0],\"y\":[0.0,1.0]},\"center\":{\"lat\":47.440185299999996,\"lon\":-122.02062872},\"zoom\":5,\"style\":\"open-street-map\"},\"legend\":{\"tracegroupgap\":0},\"margin\":{\"t\":30,\"r\":0,\"l\":0,\"b\":0},\"height\":500,\"title\":{\"text\":\"Geospatial Distribution of EV Registrations\"}},                        {\"responsive\": true}                    ).then(function(){\n",
              "                            \n",
              "var gd = document.getElementById('e0d8321a-d183-45e0-a6a6-04494a38e44e');\n",
              "var x = new MutationObserver(function (mutations, observer) {{\n",
              "        var display = window.getComputedStyle(gd).display;\n",
              "        if (!display || display === 'none') {{\n",
              "            console.log([gd, 'removed!']);\n",
              "            Plotly.purge(gd);\n",
              "            observer.disconnect();\n",
              "        }}\n",
              "}});\n",
              "\n",
              "// Listen for the removal of the full notebook cells\n",
              "var notebookContainer = gd.closest('#notebook-container');\n",
              "if (notebookContainer) {{\n",
              "    x.observe(notebookContainer, {childList: true});\n",
              "}}\n",
              "\n",
              "// Listen for the clearing of the current output cell\n",
              "var outputEl = gd.closest('.output');\n",
              "if (outputEl) {{\n",
              "    x.observe(outputEl, {childList: true});\n",
              "}}\n",
              "\n",
              "                        })                };                            </script>        </div>\n",
              "</body>\n",
              "</html>"
            ]
          },
          "metadata": {}
        }
      ]
    },
    {
      "cell_type": "markdown",
      "source": [],
      "metadata": {
        "id": "BsK4dIRp8Qoz"
      }
    },
    {
      "cell_type": "markdown",
      "source": [
        "# **Conclusion**"
      ],
      "metadata": {
        "id": "yc2SjZHNBfur"
      }
    },
    {
      "cell_type": "markdown",
      "source": [
        "Based on the exploration and visualization of the dataset, several key findings emerged:\n",
        "\n",
        "* Tesla dominates the EV market, with Model Y and Model 3 being the most registered vehicles.\n",
        "\n",
        "* King County has the highest number of EV registrations, highlighting it as a key urban EV hub.\n",
        "\n",
        "* EV adoption has increased sharply post-2020, indicating growing interest and infrastructure support.\n",
        "\n",
        "* The average electric range of vehicles is approximately 44.6 miles, with models like the Tesla Roadster and Jaguar I-PACE offering the highest range.\n",
        "\n",
        "* Only 30% of vehicles are CAFV eligible, while over 60% have unknown eligibility, suggesting a need for better range reporting.\n",
        "\n",
        "* Urban centers show a higher concentration of EVs, reinforcing the need for expanded rural infrastructure.\n",
        "\n",
        "The analysis supports a deeper understanding of EV growth patterns and provides actionable insights for stakeholders in clean energy and transportation sectors."
      ],
      "metadata": {
        "id": "2MJ2QLK0Bmbj"
      }
    }
  ]
}
